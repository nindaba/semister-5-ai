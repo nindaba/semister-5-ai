{
  "cells": [
    {
      "cell_type": "markdown",
      "metadata": {
        "id": "u47lS_iS6BJ3"
      },
      "source": [
        "<div style=\"font-size: 14pt;\">Prof. Krzysztof Rybinski</div><br/><br/>\n",
        "<div style=\"font-size: 22pt;\"><b>Artificial Intelligence course</b></div><br/><br/>\n",
        "<div style=\"font-size: 18pt;\">LAB 10</div><br/>\n",
        "<div style=\"font-size: 18pt;\">- RMP dataset</div><br/>\n",
        "<div style=\"font-size: 18pt;\">- emotion classification</div><br/>\n",
        "<div style=\"font-size: 18pt;\">- zero-shot classification</div><br/>"
      ]
    },
    {
      "cell_type": "code",
      "execution_count": 40,
      "metadata": {
        "id": "FJlMxlCS6BJ9"
      },
      "outputs": [],
      "source": [
        "import torch"
      ]
    },
    {
      "cell_type": "code",
      "execution_count": 41,
      "metadata": {
        "colab": {
          "base_uri": "https://localhost:8080/"
        },
        "id": "ahdls2kK6BJ-",
        "outputId": "1cec06c7-328f-4991-dbfe-ed752ec10263"
      },
      "outputs": [
        {
          "output_type": "stream",
          "name": "stdout",
          "text": [
            "Looking in indexes: https://pypi.org/simple, https://us-python.pkg.dev/colab-wheels/public/simple/\n",
            "Requirement already satisfied: transformers in /usr/local/lib/python3.9/dist-packages (4.27.3)\n",
            "Requirement already satisfied: numpy>=1.17 in /usr/local/lib/python3.9/dist-packages (from transformers) (1.22.4)\n",
            "Requirement already satisfied: requests in /usr/local/lib/python3.9/dist-packages (from transformers) (2.27.1)\n",
            "Requirement already satisfied: packaging>=20.0 in /usr/local/lib/python3.9/dist-packages (from transformers) (23.0)\n",
            "Requirement already satisfied: tqdm>=4.27 in /usr/local/lib/python3.9/dist-packages (from transformers) (4.65.0)\n",
            "Requirement already satisfied: tokenizers!=0.11.3,<0.14,>=0.11.1 in /usr/local/lib/python3.9/dist-packages (from transformers) (0.13.2)\n",
            "Requirement already satisfied: huggingface-hub<1.0,>=0.11.0 in /usr/local/lib/python3.9/dist-packages (from transformers) (0.13.3)\n",
            "Requirement already satisfied: regex!=2019.12.17 in /usr/local/lib/python3.9/dist-packages (from transformers) (2022.10.31)\n",
            "Requirement already satisfied: filelock in /usr/local/lib/python3.9/dist-packages (from transformers) (3.10.2)\n",
            "Requirement already satisfied: pyyaml>=5.1 in /usr/local/lib/python3.9/dist-packages (from transformers) (6.0)\n",
            "Requirement already satisfied: typing-extensions>=3.7.4.3 in /usr/local/lib/python3.9/dist-packages (from huggingface-hub<1.0,>=0.11.0->transformers) (4.5.0)\n",
            "Requirement already satisfied: urllib3<1.27,>=1.21.1 in /usr/local/lib/python3.9/dist-packages (from requests->transformers) (1.26.15)\n",
            "Requirement already satisfied: charset-normalizer~=2.0.0 in /usr/local/lib/python3.9/dist-packages (from requests->transformers) (2.0.12)\n",
            "Requirement already satisfied: idna<4,>=2.5 in /usr/local/lib/python3.9/dist-packages (from requests->transformers) (3.4)\n",
            "Requirement already satisfied: certifi>=2017.4.17 in /usr/local/lib/python3.9/dist-packages (from requests->transformers) (2022.12.7)\n"
          ]
        }
      ],
      "source": [
        "#exetute this cell only in Google Colab\n",
        "!pip install transformers"
      ]
    },
    {
      "cell_type": "code",
      "execution_count": 42,
      "metadata": {
        "id": "axSBYNJD6BJ_"
      },
      "outputs": [],
      "source": [
        "from transformers import pipeline\n",
        "import os\n",
        "import torch\n",
        "import numpy as np\n",
        "import pandas as pd\n",
        "import pickle"
      ]
    },
    {
      "cell_type": "code",
      "execution_count": 43,
      "metadata": {
        "id": "cirB_TZO6BJ_"
      },
      "outputs": [],
      "source": [
        "#exetute this cell only in Google Colab\n",
        "from google.colab import files\n",
        "import io"
      ]
    },
    {
      "cell_type": "code",
      "execution_count": 44,
      "metadata": {
        "id": "oP_ABUgC6BKA"
      },
      "outputs": [],
      "source": [
        "#get index for the maximum score from prediction in model distilbert-base-uncased-emotion\n",
        "############################################################\n",
        "def get_max_index(ld):\n",
        "    lv = [d['score'] for d in ld]\n",
        "    lvind = lv.index(max(lv))\n",
        "    return lvind\n",
        "############################################################"
      ]
    },
    {
      "cell_type": "code",
      "execution_count": 45,
      "metadata": {
        "id": "zo3hkzgElU-o"
      },
      "outputs": [],
      "source": [
        "#get label with the maximum score for model distilbert-base-uncased-mnli\n",
        "############################################################\n",
        "def get_max_label(ld):\n",
        "    val = ld['scores']\n",
        "    val_ind = lv.index(max(lv))\n",
        "    label = ld['labels'][val_ind]\n",
        "    return label\n",
        "############################################################"
      ]
    },
    {
      "cell_type": "code",
      "execution_count": 46,
      "metadata": {
        "colab": {
          "base_uri": "https://localhost:8080/"
        },
        "id": "_PPN4LG-6BKB",
        "outputId": "ded010bb-b61d-4916-fda3-f20cf9f92490"
      },
      "outputs": [
        {
          "output_type": "stream",
          "name": "stdout",
          "text": [
            "There are 1 GPU(s) available.\n",
            "We will use the GPU: Tesla T4\n"
          ]
        }
      ],
      "source": [
        "# If there's a GPU available...\n",
        "if torch.cuda.is_available():    \n",
        "    # Tell PyTorch to use the GPU.    \n",
        "    device = torch.device(\"cuda\")\n",
        "    print('There are %d GPU(s) available.' % torch.cuda.device_count())\n",
        "    print('We will use the GPU:', torch.cuda.get_device_name(0))\n",
        "else:\n",
        "    print('No GPU available, using the CPU instead.')\n",
        "    device = torch.device(\"cpu\")"
      ]
    },
    {
      "cell_type": "code",
      "execution_count": 47,
      "metadata": {
        "id": "6FZ_HBe46BKD"
      },
      "outputs": [],
      "source": [
        "rmp = pd.read_csv(\"https://raw.githubusercontent.com/nindaba/semister-5-ai/main/lab-9/rmp_small.csv\") #for local drive"
      ]
    },
    {
      "cell_type": "code",
      "execution_count": 48,
      "metadata": {
        "colab": {
          "base_uri": "https://localhost:8080/",
          "height": 419
        },
        "id": "1BOGOisc6BKE",
        "outputId": "ef278a93-8bb1-4125-ea8f-1cb929b4dc47"
      },
      "outputs": [
        {
          "output_type": "execute_result",
          "data": {
            "text/plain": [
              "                                                  review  score\n",
              "0      he can be a mean man sometimes, but just get o...      2\n",
              "1      He's fun, but he speeds through lectures and l...      2\n",
              "2      Dr. Foster is an amazing teacher. One of my fa...      4\n",
              "3      She is one of the greatest teacher I have ever...      4\n",
              "4      Professor Bird was very easy and relaxed. If y...      3\n",
              "...                                                  ...    ...\n",
              "97540  Charismatic and enthusiastic but that's it . H...      0\n",
              "97541  Great books - Dickens, Eliot, etc.  A little d...      3\n",
              "97542  Awesome professor. Doesnt stop explaining unti...      4\n",
              "97543  He has a really high standard, but grades fair...      4\n",
              "97544  He is an alright guy someone talks over people...      2\n",
              "\n",
              "[97545 rows x 2 columns]"
            ],
            "text/html": [
              "\n",
              "  <div id=\"df-5ffaf322-beb8-4e33-afa3-d8756282c117\">\n",
              "    <div class=\"colab-df-container\">\n",
              "      <div>\n",
              "<style scoped>\n",
              "    .dataframe tbody tr th:only-of-type {\n",
              "        vertical-align: middle;\n",
              "    }\n",
              "\n",
              "    .dataframe tbody tr th {\n",
              "        vertical-align: top;\n",
              "    }\n",
              "\n",
              "    .dataframe thead th {\n",
              "        text-align: right;\n",
              "    }\n",
              "</style>\n",
              "<table border=\"1\" class=\"dataframe\">\n",
              "  <thead>\n",
              "    <tr style=\"text-align: right;\">\n",
              "      <th></th>\n",
              "      <th>review</th>\n",
              "      <th>score</th>\n",
              "    </tr>\n",
              "  </thead>\n",
              "  <tbody>\n",
              "    <tr>\n",
              "      <th>0</th>\n",
              "      <td>he can be a mean man sometimes, but just get o...</td>\n",
              "      <td>2</td>\n",
              "    </tr>\n",
              "    <tr>\n",
              "      <th>1</th>\n",
              "      <td>He's fun, but he speeds through lectures and l...</td>\n",
              "      <td>2</td>\n",
              "    </tr>\n",
              "    <tr>\n",
              "      <th>2</th>\n",
              "      <td>Dr. Foster is an amazing teacher. One of my fa...</td>\n",
              "      <td>4</td>\n",
              "    </tr>\n",
              "    <tr>\n",
              "      <th>3</th>\n",
              "      <td>She is one of the greatest teacher I have ever...</td>\n",
              "      <td>4</td>\n",
              "    </tr>\n",
              "    <tr>\n",
              "      <th>4</th>\n",
              "      <td>Professor Bird was very easy and relaxed. If y...</td>\n",
              "      <td>3</td>\n",
              "    </tr>\n",
              "    <tr>\n",
              "      <th>...</th>\n",
              "      <td>...</td>\n",
              "      <td>...</td>\n",
              "    </tr>\n",
              "    <tr>\n",
              "      <th>97540</th>\n",
              "      <td>Charismatic and enthusiastic but that's it . H...</td>\n",
              "      <td>0</td>\n",
              "    </tr>\n",
              "    <tr>\n",
              "      <th>97541</th>\n",
              "      <td>Great books - Dickens, Eliot, etc.  A little d...</td>\n",
              "      <td>3</td>\n",
              "    </tr>\n",
              "    <tr>\n",
              "      <th>97542</th>\n",
              "      <td>Awesome professor. Doesnt stop explaining unti...</td>\n",
              "      <td>4</td>\n",
              "    </tr>\n",
              "    <tr>\n",
              "      <th>97543</th>\n",
              "      <td>He has a really high standard, but grades fair...</td>\n",
              "      <td>4</td>\n",
              "    </tr>\n",
              "    <tr>\n",
              "      <th>97544</th>\n",
              "      <td>He is an alright guy someone talks over people...</td>\n",
              "      <td>2</td>\n",
              "    </tr>\n",
              "  </tbody>\n",
              "</table>\n",
              "<p>97545 rows × 2 columns</p>\n",
              "</div>\n",
              "      <button class=\"colab-df-convert\" onclick=\"convertToInteractive('df-5ffaf322-beb8-4e33-afa3-d8756282c117')\"\n",
              "              title=\"Convert this dataframe to an interactive table.\"\n",
              "              style=\"display:none;\">\n",
              "        \n",
              "  <svg xmlns=\"http://www.w3.org/2000/svg\" height=\"24px\"viewBox=\"0 0 24 24\"\n",
              "       width=\"24px\">\n",
              "    <path d=\"M0 0h24v24H0V0z\" fill=\"none\"/>\n",
              "    <path d=\"M18.56 5.44l.94 2.06.94-2.06 2.06-.94-2.06-.94-.94-2.06-.94 2.06-2.06.94zm-11 1L8.5 8.5l.94-2.06 2.06-.94-2.06-.94L8.5 2.5l-.94 2.06-2.06.94zm10 10l.94 2.06.94-2.06 2.06-.94-2.06-.94-.94-2.06-.94 2.06-2.06.94z\"/><path d=\"M17.41 7.96l-1.37-1.37c-.4-.4-.92-.59-1.43-.59-.52 0-1.04.2-1.43.59L10.3 9.45l-7.72 7.72c-.78.78-.78 2.05 0 2.83L4 21.41c.39.39.9.59 1.41.59.51 0 1.02-.2 1.41-.59l7.78-7.78 2.81-2.81c.8-.78.8-2.07 0-2.86zM5.41 20L4 18.59l7.72-7.72 1.47 1.35L5.41 20z\"/>\n",
              "  </svg>\n",
              "      </button>\n",
              "      \n",
              "  <style>\n",
              "    .colab-df-container {\n",
              "      display:flex;\n",
              "      flex-wrap:wrap;\n",
              "      gap: 12px;\n",
              "    }\n",
              "\n",
              "    .colab-df-convert {\n",
              "      background-color: #E8F0FE;\n",
              "      border: none;\n",
              "      border-radius: 50%;\n",
              "      cursor: pointer;\n",
              "      display: none;\n",
              "      fill: #1967D2;\n",
              "      height: 32px;\n",
              "      padding: 0 0 0 0;\n",
              "      width: 32px;\n",
              "    }\n",
              "\n",
              "    .colab-df-convert:hover {\n",
              "      background-color: #E2EBFA;\n",
              "      box-shadow: 0px 1px 2px rgba(60, 64, 67, 0.3), 0px 1px 3px 1px rgba(60, 64, 67, 0.15);\n",
              "      fill: #174EA6;\n",
              "    }\n",
              "\n",
              "    [theme=dark] .colab-df-convert {\n",
              "      background-color: #3B4455;\n",
              "      fill: #D2E3FC;\n",
              "    }\n",
              "\n",
              "    [theme=dark] .colab-df-convert:hover {\n",
              "      background-color: #434B5C;\n",
              "      box-shadow: 0px 1px 3px 1px rgba(0, 0, 0, 0.15);\n",
              "      filter: drop-shadow(0px 1px 2px rgba(0, 0, 0, 0.3));\n",
              "      fill: #FFFFFF;\n",
              "    }\n",
              "  </style>\n",
              "\n",
              "      <script>\n",
              "        const buttonEl =\n",
              "          document.querySelector('#df-5ffaf322-beb8-4e33-afa3-d8756282c117 button.colab-df-convert');\n",
              "        buttonEl.style.display =\n",
              "          google.colab.kernel.accessAllowed ? 'block' : 'none';\n",
              "\n",
              "        async function convertToInteractive(key) {\n",
              "          const element = document.querySelector('#df-5ffaf322-beb8-4e33-afa3-d8756282c117');\n",
              "          const dataTable =\n",
              "            await google.colab.kernel.invokeFunction('convertToInteractive',\n",
              "                                                     [key], {});\n",
              "          if (!dataTable) return;\n",
              "\n",
              "          const docLinkHtml = 'Like what you see? Visit the ' +\n",
              "            '<a target=\"_blank\" href=https://colab.research.google.com/notebooks/data_table.ipynb>data table notebook</a>'\n",
              "            + ' to learn more about interactive tables.';\n",
              "          element.innerHTML = '';\n",
              "          dataTable['output_type'] = 'display_data';\n",
              "          await google.colab.output.renderOutput(dataTable, element);\n",
              "          const docLink = document.createElement('div');\n",
              "          docLink.innerHTML = docLinkHtml;\n",
              "          element.appendChild(docLink);\n",
              "        }\n",
              "      </script>\n",
              "    </div>\n",
              "  </div>\n",
              "  "
            ]
          },
          "metadata": {},
          "execution_count": 48
        }
      ],
      "source": [
        "rmp"
      ]
    },
    {
      "cell_type": "code",
      "execution_count": 49,
      "metadata": {
        "id": "C6DuYglG6BKE"
      },
      "outputs": [],
      "source": [
        "sentences = list(rmp['review'])\n",
        "labels = list(rmp['score'])"
      ]
    },
    {
      "cell_type": "code",
      "execution_count": 50,
      "metadata": {
        "id": "t-elgsx2lU-q"
      },
      "outputs": [],
      "source": [
        "#for the final project skip this line\n",
        "sentences = sentences[0:5000]\n",
        "labels = labels[0:5000]"
      ]
    },
    {
      "cell_type": "code",
      "execution_count": 51,
      "metadata": {
        "colab": {
          "base_uri": "https://localhost:8080/"
        },
        "id": "crp2icD26BKF",
        "outputId": "ee40a3ae-f3b2-4614-bc24-51b89283f587"
      },
      "outputs": [
        {
          "output_type": "stream",
          "name": "stderr",
          "text": [
            "/usr/local/lib/python3.9/dist-packages/transformers/pipelines/text_classification.py:104: UserWarning: `return_all_scores` is now deprecated,  if want a similar funcionality use `top_k=None` instead of `return_all_scores=True` or `top_k=1` instead of `return_all_scores=False`.\n",
            "  warnings.warn(\n"
          ]
        }
      ],
      "source": [
        "#check documentation https://huggingface.co/bhadresh-savani/distilbert-base-uncased-emotion\n",
        "classifier = pipeline(\"text-classification\",model='bhadresh-savani/distilbert-base-uncased-emotion', return_all_scores=True, device=0)"
      ]
    },
    {
      "cell_type": "code",
      "execution_count": 52,
      "metadata": {
        "id": "qMSlXx9P6BKG"
      },
      "outputs": [],
      "source": [
        "#check emotion prdictions\n",
        "prediction = classifier(sentences[0:10])"
      ]
    },
    {
      "cell_type": "code",
      "execution_count": 53,
      "metadata": {
        "colab": {
          "base_uri": "https://localhost:8080/"
        },
        "id": "JP81UNei8yha",
        "outputId": "788eed0a-439e-43bc-842e-2a1f0b26e155"
      },
      "outputs": [
        {
          "output_type": "execute_result",
          "data": {
            "text/plain": [
              "([{'label': 'sadness', 'score': 0.017645377665758133},\n",
              "  {'label': 'joy', 'score': 0.2766183614730835},\n",
              "  {'label': 'love', 'score': 0.0019553741440176964},\n",
              "  {'label': 'anger', 'score': 0.635624349117279},\n",
              "  {'label': 'fear', 'score': 0.06618060171604156},\n",
              "  {'label': 'surprise', 'score': 0.001975938444957137}],\n",
              " \"He's fun, but he speeds through lectures and lessons like a madman. If you have not taken Spanish before, you definitely will have to study.\")"
            ]
          },
          "metadata": {},
          "execution_count": 53
        }
      ],
      "source": [
        "prediction[1], sentences[1]"
      ]
    },
    {
      "cell_type": "code",
      "execution_count": 54,
      "metadata": {
        "colab": {
          "base_uri": "https://localhost:8080/"
        },
        "id": "JHD-DMYy8yuZ",
        "outputId": "de24f2cf-3b6c-4f74-8dc9-65506fc71fff"
      },
      "outputs": [
        {
          "output_type": "execute_result",
          "data": {
            "text/plain": [
              "([{'label': 'sadness', 'score': 0.001150374417193234},\n",
              "  {'label': 'joy', 'score': 0.4458451569080353},\n",
              "  {'label': 'love', 'score': 0.5510021448135376},\n",
              "  {'label': 'anger', 'score': 0.0007522721425630152},\n",
              "  {'label': 'fear', 'score': 0.0004594257625285536},\n",
              "  {'label': 'surprise', 'score': 0.0007906428654678166}],\n",
              " \"A very easy grader. Best advice would be to go to her after class and speak with her to get to know her on a personal level...that'll help you more in the class. She's a sweet professor with rich worldly experiences that often relate to class materials.\")"
            ]
          },
          "metadata": {},
          "execution_count": 54
        }
      ],
      "source": [
        "prediction[6], sentences[6]"
      ]
    },
    {
      "cell_type": "code",
      "execution_count": null,
      "metadata": {
        "id": "kiKic5je-Fly"
      },
      "outputs": [],
      "source": [
        "prediction = classifier(sentences)"
      ]
    },
    {
      "cell_type": "code",
      "execution_count": null,
      "metadata": {
        "id": "OVLb4wwZCZx8"
      },
      "outputs": [],
      "source": [
        "len(prediction)"
      ]
    },
    {
      "cell_type": "code",
      "execution_count": null,
      "metadata": {
        "id": "obSBiysYC2ns"
      },
      "outputs": [],
      "source": [
        " l_max_scores = [get_max_index(val) for val in prediction]"
      ]
    },
    {
      "cell_type": "code",
      "execution_count": null,
      "metadata": {
        "id": "-alxvkgfC6QE"
      },
      "outputs": [],
      "source": [
        "l_max_scores[0:10]"
      ]
    },
    {
      "cell_type": "code",
      "execution_count": null,
      "metadata": {
        "id": "nueEVQ6fCicH"
      },
      "outputs": [],
      "source": [
        "prediction[1]"
      ]
    },
    {
      "cell_type": "code",
      "execution_count": null,
      "metadata": {
        "id": "WMv0DPqA6BKI"
      },
      "outputs": [],
      "source": [
        "#convert scores to labels\n",
        "aaa = l_max_scores\n",
        "aaa = [\"sadness\" if x == 0 else x for x in aaa]\n",
        "aaa = [\"joy\" if x == 1 else x for x in aaa]\n",
        "aaa = [\"love\" if x == 2 else x for x in aaa]\n",
        "aaa = [\"anger\" if x == 3 else x for x in aaa]\n",
        "aaa = [\"fear\" if x == 4 else x for x in aaa]\n",
        "aaa = [\"surprise\" if x == 5 else x for x in aaa]\n",
        "aaa[0:10]\n"
      ]
    },
    {
      "cell_type": "code",
      "execution_count": null,
      "metadata": {
        "id": "LiXKrLhG6BKI"
      },
      "outputs": [],
      "source": [
        "df = pd.DataFrame(list(zip(aaa, labels)), columns =['emotion', 'score'])\n",
        "df"
      ]
    },
    {
      "cell_type": "code",
      "execution_count": null,
      "metadata": {
        "id": "ad8Ho6oN6BKJ"
      },
      "outputs": [],
      "source": [
        "#calculate crosstabulations\n",
        "result = pd.crosstab(df[\"emotion\"], df[\"score\"])\n",
        "result"
      ]
    },
    {
      "cell_type": "code",
      "execution_count": null,
      "metadata": {
        "id": "k5D0s-ha6BKJ"
      },
      "outputs": [],
      "source": [
        "#do zero-shot classification\n",
        "#check documentation https://huggingface.co/typeform/distilbert-base-uncased-mnli\n",
        "classifier = pipeline(\"zero-shot-classification\", \n",
        "                      model = \"typeform/distilbert-base-uncased-mnli\",\n",
        "                      device = 0 \n",
        ")"
      ]
    },
    {
      "cell_type": "code",
      "execution_count": null,
      "metadata": {
        "id": "Vnw0SYdB6BKJ"
      },
      "outputs": [],
      "source": [
        "l1 = \"poor or bad professor teaching skills\"\n",
        "l2 = \"unfair or improper grading\"\n",
        "l3 = \"poor or bad professor interpersonal skills or qualities\"\n",
        "l4 = \"extremely or very difficult tests or exams\"\n",
        "l5 = \"harassment or abuse or improper behavior\"\n",
        "l6 = \"course or professor review or opinion\"\n",
        "candidate_labels=[l1, l2, l3, l4, l5, l6]"
      ]
    },
    {
      "cell_type": "code",
      "execution_count": null,
      "metadata": {
        "id": "qHp8jU_klU-v"
      },
      "outputs": [],
      "source": [
        "len(sentences)"
      ]
    },
    {
      "cell_type": "code",
      "execution_count": null,
      "metadata": {
        "id": "Ghw4ZoMp6BKJ"
      },
      "outputs": [],
      "source": [
        "prediction = classifier(sentences, candidate_labels=candidate_labels)"
      ]
    },
    {
      "cell_type": "code",
      "execution_count": null,
      "metadata": {
        "id": "k3xHORNgSZKJ"
      },
      "outputs": [],
      "source": [
        "prediction[90], prediction[101]"
      ]
    },
    {
      "cell_type": "code",
      "execution_count": null,
      "metadata": {
        "id": "kf-kQYhNhY_J"
      },
      "outputs": [],
      "source": [
        "lv = prediction[90]['scores']\n",
        "lv"
      ]
    },
    {
      "cell_type": "code",
      "execution_count": null,
      "metadata": {
        "id": "M2uZAa6Qi1H9"
      },
      "outputs": [],
      "source": [
        "lvind = lv.index(max(lv))\n",
        "lvind"
      ]
    },
    {
      "cell_type": "code",
      "execution_count": null,
      "metadata": {
        "id": "3x-WfqHR6BKK"
      },
      "outputs": [],
      "source": [
        "l_max_labels = [get_max_label(val) for val in prediction]"
      ]
    },
    {
      "cell_type": "code",
      "execution_count": null,
      "metadata": {
        "id": "BHy8s328SZKK"
      },
      "outputs": [],
      "source": [
        "df = pd.DataFrame(list(zip(l_max_labels, labels)), columns =['prof_opinion', 'score'])\n",
        "df"
      ]
    },
    {
      "cell_type": "code",
      "execution_count": null,
      "metadata": {
        "id": "2zH_mVQSSZKK"
      },
      "outputs": [],
      "source": [
        "#calculate crosstabulations\n",
        "result = pd.crosstab(df[\"prof_opinion\"], df[\"score\"])\n",
        "result"
      ]
    },
    {
      "cell_type": "markdown",
      "metadata": {
        "id": "aFrwADnYSZKK"
      },
      "source": [
        "# Final project"
      ]
    },
    {
      "cell_type": "markdown",
      "metadata": {
        "id": "w0n_qrJASZKK"
      },
      "source": [
        "1. Propose new classification, each group proposes its own </br>\n",
        "2. Choose two zero shot models from https://huggingface.co/models?pipeline_tag=zero-shot-classification&language=en&sort=downloads </br>\n",
        "3. Calculate predictions for each model on Google Colab</br>\n",
        "4. Calculate cross-tabulation for each prediction </br>\n",
        "5. Compare results, are there any differences </br>\n",
        "6. Write conclusions about difference, speed of computation etc.</br>\n",
        "7. Write what the results tell us about the student opinions regarding courses and professors </br>\n",
        "8. Are there any recommendations for universities' management </br>\n",
        "9. Make a presentation and send together with Jupyter Notbook to rybinski@rybinski.eu by Wednesday, 12 April 2023, 23:59\n",
        "<br/><br/>\n",
        "<div style=\"font-size: 16pt;\">Grading rules</div><br/>\n",
        "\n",
        "1. Project done in student teams <br/>\n",
        "2. You can get max 4 points <br/>\n",
        "3. 1 point for the classification and its justification <br/>\n",
        "4. 1 point for the correct code for each model\n",
        "5. 1 point for the summary, lessons learned and presentation clarity <br/>\n"
      ]
    },
    {
      "cell_type": "code",
      "execution_count": null,
      "metadata": {
        "id": "2MT3Uy5ZSZKK"
      },
      "outputs": [],
      "source": [
        "classifier = pipeline(\"zero-shot-classification\", \n",
        "                      model = \"facebook/bart-large-mnli\",\n",
        "                      device = 0\n",
        ")"
      ]
    },
    {
      "cell_type": "code",
      "execution_count": null,
      "metadata": {
        "id": "r3znP78-SZKL"
      },
      "outputs": [],
      "source": [
        "predition = classifier(sentences, candidate_labels=candidate_labels)"
      ]
    },
    {
      "cell_type": "code",
      "execution_count": null,
      "metadata": {
        "id": "11ERK5uiSZKL"
      },
      "outputs": [],
      "source": [
        "#modify if necessary\n",
        "l_max_scores = [get_max_index(val) for val in prediction]"
      ]
    },
    {
      "cell_type": "code",
      "execution_count": null,
      "metadata": {
        "id": "52-osAruSZKL"
      },
      "outputs": [],
      "source": [
        "#modify if necessary\n",
        "#convert scores to labels\n",
        "aaa = l_max_scores\n",
        "aaa = [\"poor or bad professor teaching skills\" if x == 0 else x for x in aaa]\n",
        "aaa = [\"unfair or improper grading\" if x == 1 else x for x in aaa]\n",
        "aaa = [\"poor or bad professor interpersonal skills or qualities\" if x == 2 else x for x in aaa]\n",
        "aaa = [\"extremely or very difficult tests or exams\" if x == 3 else x for x in aaa]\n",
        "aaa = [\"harassment or abuse or improper behavior\" if x == 4 else x for x in aaa]\n",
        "aaa = [\"course or professor review or opinion\" if x == 5 else x for x in aaa]\n",
        "aaa[0:10]"
      ]
    },
    {
      "cell_type": "code",
      "execution_count": null,
      "metadata": {
        "id": "Qm5DVldfSZKL"
      },
      "outputs": [],
      "source": [
        "df = pd.DataFrame(list(zip(aaa, labels)), columns =['prof_opinion', 'score'])\n",
        "df"
      ]
    },
    {
      "cell_type": "code",
      "execution_count": null,
      "metadata": {
        "id": "k6fxcYXeSZKL"
      },
      "outputs": [],
      "source": [
        "#calculate crosstabulations\n",
        "result = pd.crosstab(df[\"prof_opinion\"], df[\"score\"])\n",
        "result"
      ]
    },
    {
      "cell_type": "code",
      "execution_count": null,
      "metadata": {
        "id": "VfhAxKylSZKL"
      },
      "outputs": [],
      "source": []
    }
  ],
  "metadata": {
    "accelerator": "GPU",
    "colab": {
      "name": "Lab_12_RMP_emotions_zero_shot_colab.ipynb",
      "provenance": []
    },
    "kernelspec": {
      "display_name": "Python 3",
      "language": "python",
      "name": "python3"
    },
    "language_info": {
      "codemirror_mode": {
        "name": "ipython",
        "version": 3
      },
      "file_extension": ".py",
      "mimetype": "text/x-python",
      "name": "python",
      "nbconvert_exporter": "python",
      "pygments_lexer": "ipython3",
      "version": "3.8.8"
    }
  },
  "nbformat": 4,
  "nbformat_minor": 0
}