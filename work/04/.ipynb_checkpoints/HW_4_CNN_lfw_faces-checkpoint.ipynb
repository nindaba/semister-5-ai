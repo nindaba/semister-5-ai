{
 "cells": [
  {
   "cell_type": "markdown",
   "id": "629e1a51",
   "metadata": {},
   "source": [
    "<div style=\"font-size: 14pt;\">Prof. Krzysztof Rybinski</div><br/><br/>\n",
    "<div style=\"font-size: 22pt;\"><b>Artificial Intelligence course</b></div><br/><br/>\n",
    "<div style=\"font-size: 18pt;\">Homework 4 </div><br/>\n",
    "<div style=\"font-size: 18pt;\">- Train convolutional neural network on lfw people dataset</div><br/>\n",
    "<div style=\"font-size: 18pt;\">- Try different hyperparameters (no of layers, no of neurons, number of filters, filter size etc.)</div><br/>\n",
    "<div style=\"font-size: 18pt;\">- Use dropout regularization after Maxpooling and/or after Dense layer and check if it helps</div><br/>\n",
    "<div style=\"font-size: 18pt;\">- Use callback - early stopping </div><br/><br/>\n",
    "<div style=\"font-size: 18pt;\">- Max 2 points. Best accuracy gets 0.2 point bonus</div><br/>\n"
   ]
  },
  {
   "cell_type": "code",
   "execution_count": 1,
   "id": "6214753e",
   "metadata": {},
   "outputs": [
    {
     "name": "stderr",
     "output_type": "stream",
     "text": [
      "2023-03-27 08:00:52.178835: I tensorflow/core/platform/cpu_feature_guard.cc:193] This TensorFlow binary is optimized with oneAPI Deep Neural Network Library (oneDNN) to use the following CPU instructions in performance-critical operations:  SSE4.1 SSE4.2\n",
      "To enable them in other operations, rebuild TensorFlow with the appropriate compiler flags.\n"
     ]
    }
   ],
   "source": [
    "import keras\n",
    "\n",
    "import numpy as np\n",
    "from matplotlib import pyplot as plt\n",
    "import os"
   ]
  },
  {
   "cell_type": "code",
   "execution_count": 2,
   "id": "966f4710",
   "metadata": {},
   "outputs": [
    {
     "name": "stdout",
     "output_type": "stream",
     "text": [
      "1288 50 37\n"
     ]
    }
   ],
   "source": [
    "# Download dataset\n",
    "from sklearn import datasets\n",
    "lfw_people = datasets.fetch_lfw_people(min_faces_per_person=70, resize=0.4)\n",
    "\n",
    "n_samples, h, w = lfw_people.images.shape\n",
    "print(n_samples, h, w)"
   ]
  },
  {
   "cell_type": "code",
   "execution_count": 3,
   "id": "0921fecb",
   "metadata": {},
   "outputs": [
    {
     "data": {
      "image/png": "[encoded data removed]",
      "text/plain": [
       "<Figure size 432x288 with 1 Axes>"
      ]
     },
     "metadata": {
      "needs_background": "light"
     },
     "output_type": "display_data"
    },
    {
     "name": "stdout",
     "output_type": "stream",
     "text": [
      "3 George W Bush\n"
     ]
    }
   ],
   "source": [
    "plt.imshow( lfw_people.images[6] , cmap='gray')\n",
    "plt.show()\n",
    "print( lfw_people.target[6] , lfw_people.target_names[lfw_people.target[6]] )"
   ]
  },
  {
   "cell_type": "code",
   "execution_count": 4,
   "id": "b740d7fe",
   "metadata": {},
   "outputs": [],
   "source": [
    "X = lfw_people.data\n",
    "y = lfw_people.target\n",
    "\n",
    "n_features = X.shape[1]\n",
    "target_names = lfw_people.target_names"
   ]
  },
  {
   "cell_type": "code",
   "execution_count": 5,
   "id": "e107c5da",
   "metadata": {},
   "outputs": [
    {
     "data": {
      "text/plain": [
       "array([[0., 0., 0., ..., 0., 1., 0.],\n",
       "       [0., 0., 0., ..., 0., 0., 1.],\n",
       "       [0., 0., 0., ..., 0., 0., 0.],\n",
       "       ...,\n",
       "       [0., 0., 0., ..., 0., 1., 0.],\n",
       "       [0., 0., 0., ..., 0., 0., 0.],\n",
       "       [0., 0., 0., ..., 0., 1., 0.]], dtype=float32)"
      ]
     },
     "execution_count": 5,
     "metadata": {},
     "output_type": "execute_result"
    }
   ],
   "source": [
    "y = keras.utils.to_categorical(y)\n",
    "y"
   ]
  },
  {
   "cell_type": "code",
   "execution_count": 6,
   "id": "0d207113",
   "metadata": {},
   "outputs": [],
   "source": [
    "n_classes = y.shape[1]"
   ]
  },
  {
   "cell_type": "code",
   "execution_count": 7,
   "id": "6522c222",
   "metadata": {},
   "outputs": [
    {
     "data": {
      "text/plain": [
       "((966, 1850), (322, 1850), (966, 7), (322, 7))"
      ]
     },
     "execution_count": 7,
     "metadata": {},
     "output_type": "execute_result"
    }
   ],
   "source": [
    "from sklearn.model_selection import train_test_split\n",
    "X_train, X_test, y_train, y_test = train_test_split(X, y, test_size=0.25, random_state = 1234)\n",
    "X_train = X_train / 255\n",
    "X_test = X_test / 255\n",
    "(X_train.shape, X_test.shape, y_train.shape, y_test.shape)"
   ]
  },
  {
   "cell_type": "code",
   "execution_count": 8,
   "id": "23f6e854",
   "metadata": {},
   "outputs": [],
   "source": [
    "from keras.layers import Conv2D, MaxPooling2D, Activation, Dropout, Flatten, Dense, Reshape\n",
    "from keras.models import Sequential\n"
   ]
  },
  {
   "cell_type": "code",
   "execution_count": 9,
   "id": "116d8d5d",
   "metadata": {},
   "outputs": [],
   "source": [
    "#Use callbacks\n",
    "from keras.callbacks import EarlyStopping\n",
    "early_stopping = EarlyStopping(patience=10, monitor=\"val_loss\", verbose=1)\n"
   ]
  },
  {
   "cell_type": "code",
   "execution_count": 10,
   "id": "dda7f535",
   "metadata": {},
   "outputs": [],
   "source": [
    "#define the model, do not forget to reshape the input\n"
   ]
  },
  {
   "cell_type": "code",
   "execution_count": 11,
   "id": "3e5ed18d",
   "metadata": {},
   "outputs": [
    {
     "ename": "NameError",
     "evalue": "name 'model' is not defined",
     "output_type": "error",
     "traceback": [
      "\u001b[0;31m---------------------------------------------------------------------------\u001b[0m",
      "\u001b[0;31mNameError\u001b[0m                                 Traceback (most recent call last)",
      "Input \u001b[0;32mIn [11]\u001b[0m, in \u001b[0;36m<cell line: 1>\u001b[0;34m()\u001b[0m\n\u001b[0;32m----> 1\u001b[0m \u001b[38;5;28mprint\u001b[39m(\u001b[43mmodel\u001b[49m\u001b[38;5;241m.\u001b[39msummary())\n",
      "\u001b[0;31mNameError\u001b[0m: name 'model' is not defined"
     ]
    }
   ],
   "source": [
    "print(model.summary())"
   ]
  },
  {
   "cell_type": "code",
   "execution_count": null,
   "id": "4a6d30b1",
   "metadata": {},
   "outputs": [],
   "source": [
    "#compile the model\n"
   ]
  },
  {
   "cell_type": "code",
   "execution_count": null,
   "id": "07e2c30b",
   "metadata": {},
   "outputs": [],
   "source": [
    "#train the model, use callbacks\n"
   ]
  },
  {
   "cell_type": "code",
   "execution_count": null,
   "id": "8086e822",
   "metadata": {},
   "outputs": [],
   "source": [
    "#evaluate the model\n"
   ]
  },
  {
   "cell_type": "code",
   "execution_count": null,
   "id": "db5896e3",
   "metadata": {},
   "outputs": [],
   "source": [
    "#Add more convolutional/maxpooling layers\n",
    "#Experiment with the number of neurons, filer size, number of filters etc.\n",
    "#Add dropout layer after first Dense layer\n",
    "#Try dropout layer after maxpooling\n",
    "#Try different hyperparameters"
   ]
  },
  {
   "cell_type": "code",
   "execution_count": null,
   "id": "d73083b5",
   "metadata": {},
   "outputs": [],
   "source": []
  },
  {
   "cell_type": "code",
   "execution_count": null,
   "id": "6e3921b6",
   "metadata": {},
   "outputs": [],
   "source": []
  }
 ],
 "metadata": {
  "kernelspec": {
   "display_name": "Python 3 (ipykernel)",
   "language": "python",
   "name": "python3"
  },
  "language_info": {
   "codemirror_mode": {
    "name": "ipython",
    "version": 3
   },
   "file_extension": ".py",
   "mimetype": "text/x-python",
   "name": "python",
   "nbconvert_exporter": "python",
   "pygments_lexer": "ipython3",
   "version": "3.10.4"
  }
 },
 "nbformat": 4,
 "nbformat_minor": 5
}
