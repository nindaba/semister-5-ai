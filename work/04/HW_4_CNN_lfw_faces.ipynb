{
 "cells": [
  {
   "cell_type": "markdown",
   "id": "629e1a51",
   "metadata": {},
   "source": [
    "<div style=\"font-size: 14pt;\">Prof. Krzysztof Rybinski</div><br/><br/>\n",
    "<div style=\"font-size: 22pt;\"><b>Artificial Intelligence course</b></div><br/><br/>\n",
    "<div style=\"font-size: 18pt;\">Homework 4 </div><br/>\n",
    "<div style=\"font-size: 18pt;\">- Train convolutional neural network on lfw people dataset</div><br/>\n",
    "<div style=\"font-size: 18pt;\">- Try different hyperparameters (no of layers, no of neurons, number of filters, filter size etc.)</div><br/>\n",
    "<div style=\"font-size: 18pt;\">- Use dropout regularization after Maxpooling and/or after Dense layer and check if it helps</div><br/>\n",
    "<div style=\"font-size: 18pt;\">- Use callback - early stopping </div><br/><br/>\n",
    "<div style=\"font-size: 18pt;\">- Max 2 points. Best accuracy gets 0.2 point bonus</div><br/>\n"
   ]
  },
  {
   "cell_type": "code",
   "execution_count": null,
   "id": "6214753e",
   "metadata": {},
   "outputs": [],
   "source": [
    "import keras\n",
    "\n",
    "import numpy as np\n",
    "from matplotlib import pyplot as plt\n",
    "import os"
   ]
  },
  {
   "cell_type": "code",
   "execution_count": null,
   "id": "966f4710",
   "metadata": {},
   "outputs": [],
   "source": [
    "# Download dataset\n",
    "from sklearn import datasets\n",
    "lfw_people = datasets.fetch_lfw_people(min_faces_per_person=70, resize=0.4)\n",
    "\n",
    "n_samples, h, w = lfw_people.images.shape\n",
    "print(n_samples, h, w)"
   ]
  },
  {
   "cell_type": "code",
   "execution_count": null,
   "id": "0921fecb",
   "metadata": {},
   "outputs": [],
   "source": [
    "plt.imshow( lfw_people.images[6] , cmap='gray')\n",
    "plt.show()\n",
    "print( lfw_people.target[6] , lfw_people.target_names[lfw_people.target[6]] )"
   ]
  },
  {
   "cell_type": "code",
   "execution_count": null,
   "id": "b740d7fe",
   "metadata": {},
   "outputs": [],
   "source": [
    "X = lfw_people.data\n",
    "y = lfw_people.target\n",
    "\n",
    "n_features = X.shape[1]\n",
    "target_names = lfw_people.target_names"
   ]
  },
  {
   "cell_type": "code",
   "execution_count": null,
   "id": "e107c5da",
   "metadata": {},
   "outputs": [],
   "source": [
    "y = keras.utils.to_categorical(y)\n",
    "y"
   ]
  },
  {
   "cell_type": "code",
   "execution_count": null,
   "id": "0d207113",
   "metadata": {},
   "outputs": [],
   "source": [
    "n_classes = y.shape[1]"
   ]
  },
  {
   "cell_type": "code",
   "execution_count": null,
   "id": "6522c222",
   "metadata": {},
   "outputs": [],
   "source": [
    "from sklearn.model_selection import train_test_split\n",
    "X_train, X_test, y_train, y_test = train_test_split(X, y, test_size=0.25, random_state = 1234)\n",
    "X_train = X_train / 255\n",
    "X_test = X_test / 255\n",
    "(X_train.shape, X_test.shape, y_train.shape, y_test.shape)"
   ]
  },
  {
   "cell_type": "code",
   "execution_count": null,
   "id": "23f6e854",
   "metadata": {},
   "outputs": [],
   "source": [
    "from keras.layers import Conv2D, MaxPooling2D, Activation, Dropout, Flatten, Dense, Reshape\n",
    "from keras.models import Sequential\n"
   ]
  },
  {
   "cell_type": "code",
   "execution_count": null,
   "id": "116d8d5d",
   "metadata": {},
   "outputs": [],
   "source": [
    "#Use callbacks\n",
    "from keras.callbacks import EarlyStopping\n",
    "early_stopping = EarlyStopping(patience=10, monitor=\"val_loss\", verbose=1)\n"
   ]
  },
  {
   "cell_type": "code",
   "execution_count": null,
   "id": "dda7f535",
   "metadata": {},
   "outputs": [],
   "source": [
    "#define the model, do not forget to reshape the input\n"
   ]
  },
  {
   "cell_type": "code",
   "execution_count": null,
   "id": "3e5ed18d",
   "metadata": {},
   "outputs": [],
   "source": [
    "print(model.summary())"
   ]
  },
  {
   "cell_type": "code",
   "execution_count": null,
   "id": "4a6d30b1",
   "metadata": {},
   "outputs": [],
   "source": [
    "#compile the model\n"
   ]
  },
  {
   "cell_type": "code",
   "execution_count": null,
   "id": "07e2c30b",
   "metadata": {},
   "outputs": [],
   "source": [
    "#train the model, use callbacks\n"
   ]
  },
  {
   "cell_type": "code",
   "execution_count": null,
   "id": "8086e822",
   "metadata": {},
   "outputs": [],
   "source": [
    "#evaluate the model\n"
   ]
  },
  {
   "cell_type": "code",
   "execution_count": null,
   "id": "db5896e3",
   "metadata": {},
   "outputs": [],
   "source": [
    "#Add more convolutional/maxpooling layers\n",
    "#Experiment with the number of neurons, filer size, number of filters etc.\n",
    "#Add dropout layer after first Dense layer\n",
    "#Try dropout layer after maxpooling\n",
    "#Try different hyperparameters"
   ]
  },
  {
   "cell_type": "code",
   "execution_count": null,
   "id": "d73083b5",
   "metadata": {},
   "outputs": [],
   "source": []
  },
  {
   "cell_type": "code",
   "execution_count": null,
   "id": "6e3921b6",
   "metadata": {},
   "outputs": [],
   "source": []
  }
 ],
 "metadata": {
  "kernelspec": {
   "display_name": "Python 3 (ipykernel)",
   "language": "python",
   "name": "python3"
  },
  "language_info": {
   "codemirror_mode": {
    "name": "ipython",
    "version": 3
   },
   "file_extension": ".py",
   "mimetype": "text/x-python",
   "name": "python",
   "nbconvert_exporter": "python",
   "pygments_lexer": "ipython3",
   "version": "3.10.4"
  }
 },
 "nbformat": 4,
 "nbformat_minor": 5
}
