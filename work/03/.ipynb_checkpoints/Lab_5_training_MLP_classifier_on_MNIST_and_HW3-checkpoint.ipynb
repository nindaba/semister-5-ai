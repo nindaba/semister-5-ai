{
 "cells": [
  {
   "cell_type": "markdown",
   "metadata": {},
   "source": [
    "<div style=\"font-size: 14pt;\">Prof. Krzysztof Rybinski</div><br/><br/>\n",
    "<div style=\"font-size: 22pt;\"><b>Artificial Intelligence course</b></div><br/><br/>\n",
    "<div style=\"font-size: 18pt;\">LAB 5.3</div><br/>\n",
    "<div style=\"font-size: 18pt;\">- Predicting handwritten digits in MNIST dataset with MLP</div><br/><br/>\n",
    "<div style=\"font-size: 18pt;\">- Homework 3 described at the end of this Jupyter Notebook</div><br/>"
   ]
  },
  {
   "cell_type": "code",
   "execution_count": 2,
   "metadata": {
    "ExecuteTime": {
     "end_time": "2018-11-13T15:21:42.701445Z",
     "start_time": "2018-11-13T15:21:39.648435Z"
    }
   },
   "outputs": [],
   "source": [
    "import keras"
   ]
  },
  {
   "cell_type": "code",
   "execution_count": null,
   "metadata": {},
   "outputs": [],
   "source": [
    "# check MNIST data information\n",
    "# https://en.wikipedia.org/wiki/MNIST_database"
   ]
  },
  {
   "cell_type": "code",
   "execution_count": 3,
   "metadata": {},
   "outputs": [],
   "source": [
    "from keras.datasets import mnist"
   ]
  },
  {
   "cell_type": "code",
   "execution_count": 4,
   "metadata": {
    "ExecuteTime": {
     "end_time": "2018-11-13T15:29:02.781102Z",
     "start_time": "2018-11-13T15:29:02.369623Z"
    }
   },
   "outputs": [],
   "source": [
    "dataset = mnist.load_data()\n",
    "\n",
    "(Xtrain, ytrain), (Xtest, ytest) = dataset\n",
    "\n",
    "n_train = len(Xtrain)\n",
    "n_test = len(Xtest)\n",
    "\n",
    "n_features = 28*28\n",
    "\n",
    "Xtrain = Xtrain.reshape( n_train, n_features )\n",
    "Xtest  = Xtest.reshape( n_test, n_features )"
   ]
  },
  {
   "cell_type": "code",
   "execution_count": null,
   "metadata": {
    "ExecuteTime": {
     "end_time": "2018-11-13T15:29:02.781102Z",
     "start_time": "2018-11-13T15:29:02.369623Z"
    }
   },
   "outputs": [],
   "source": [
    "Xtrain[0].shape"
   ]
  },
  {
   "cell_type": "code",
   "execution_count": null,
   "metadata": {},
   "outputs": [],
   "source": [
    "28*28"
   ]
  },
  {
   "cell_type": "code",
   "execution_count": null,
   "metadata": {},
   "outputs": [],
   "source": [
    "from matplotlib import pyplot as plt\n",
    "import numpy as np"
   ]
  },
  {
   "cell_type": "code",
   "execution_count": null,
   "metadata": {},
   "outputs": [],
   "source": [
    "plt.imshow( np.reshape( Xtrain[10002], (28,28) ) , cmap=plt.cm.gray)\n",
    "plt.show()"
   ]
  },
  {
   "cell_type": "code",
   "execution_count": null,
   "metadata": {
    "ExecuteTime": {
     "end_time": "2018-11-13T15:29:02.787949Z",
     "start_time": "2018-11-13T15:29:02.783514Z"
    }
   },
   "outputs": [],
   "source": [
    "Xtrain.shape"
   ]
  },
  {
   "cell_type": "code",
   "execution_count": null,
   "metadata": {
    "ExecuteTime": {
     "end_time": "2018-11-13T15:29:17.565311Z",
     "start_time": "2018-11-13T15:29:17.559317Z"
    }
   },
   "outputs": [],
   "source": [
    "Xtest.shape"
   ]
  },
  {
   "cell_type": "code",
   "execution_count": 9,
   "metadata": {
    "ExecuteTime": {
     "end_time": "2018-11-13T15:29:32.437992Z",
     "start_time": "2018-11-13T15:29:32.433262Z"
    }
   },
   "outputs": [],
   "source": [
    "from sklearn.neural_network import MLPClassifier"
   ]
  },
  {
   "cell_type": "code",
   "execution_count": null,
   "metadata": {
    "ExecuteTime": {
     "end_time": "2018-11-13T15:45:27.566378Z",
     "start_time": "2018-11-13T15:45:27.562418Z"
    }
   },
   "outputs": [],
   "source": [
    "clf = MLPClassifier(hidden_layer_sizes=(100,), verbose=True)"
   ]
  },
  {
   "cell_type": "code",
   "execution_count": null,
   "metadata": {},
   "outputs": [],
   "source": [
    "# check info on MLPClassifer in sklearn\n",
    "# https://scikit-learn.org/stable/modules/generated/sklearn.neural_network.MLPClassifier.html"
   ]
  },
  {
   "cell_type": "code",
   "execution_count": null,
   "metadata": {
    "ExecuteTime": {
     "end_time": "2018-11-13T15:46:02.148932Z",
     "start_time": "2018-11-13T15:45:28.037088Z"
    }
   },
   "outputs": [],
   "source": [
    "clf.fit(Xtrain, ytrain)"
   ]
  },
  {
   "cell_type": "code",
   "execution_count": null,
   "metadata": {},
   "outputs": [],
   "source": [
    "help(clf)"
   ]
  },
  {
   "cell_type": "code",
   "execution_count": null,
   "metadata": {},
   "outputs": [],
   "source": [
    "print(clf.coefs_)"
   ]
  },
  {
   "cell_type": "code",
   "execution_count": null,
   "metadata": {},
   "outputs": [],
   "source": [
    "len(clf.coefs_)"
   ]
  },
  {
   "cell_type": "code",
   "execution_count": null,
   "metadata": {},
   "outputs": [],
   "source": [
    "clf.coefs_[0].shape\n",
    "#explain the dimension of the W matrix for the first (hidden) layer"
   ]
  },
  {
   "cell_type": "code",
   "execution_count": null,
   "metadata": {},
   "outputs": [],
   "source": [
    "clf.coefs_[1].shape\n",
    "#explain the dimension of the W matrix for the second (output) layer"
   ]
  },
  {
   "cell_type": "code",
   "execution_count": null,
   "metadata": {},
   "outputs": [],
   "source": [
    "clf.intercepts_[0].shape\n",
    "#explain the dimension of the b (bias) vector for the first (hidden) layer"
   ]
  },
  {
   "cell_type": "code",
   "execution_count": null,
   "metadata": {},
   "outputs": [],
   "source": [
    "clf.intercepts_[1].shape\n",
    "#explain the dimension of the b (bias) vector for the second (output) layer"
   ]
  },
  {
   "cell_type": "code",
   "execution_count": null,
   "metadata": {
    "ExecuteTime": {
     "end_time": "2018-11-13T15:46:05.771427Z",
     "start_time": "2018-11-13T15:46:05.279063Z"
    }
   },
   "outputs": [],
   "source": [
    "clf.score(Xtrain, ytrain)"
   ]
  },
  {
   "cell_type": "code",
   "execution_count": null,
   "metadata": {
    "ExecuteTime": {
     "end_time": "2018-11-13T15:46:06.285050Z",
     "start_time": "2018-11-13T15:46:06.215576Z"
    }
   },
   "outputs": [],
   "source": [
    "clf.score(Xtest, ytest)"
   ]
  },
  {
   "cell_type": "code",
   "execution_count": null,
   "metadata": {},
   "outputs": [],
   "source": [
    "plt.imshow( np.reshape( Xtest[120], (28,28) ) , cmap=plt.cm.gray)\n",
    "plt.show()"
   ]
  },
  {
   "cell_type": "code",
   "execution_count": null,
   "metadata": {},
   "outputs": [],
   "source": [
    "clf.predict(Xtest[120].reshape(1, -1))"
   ]
  },
  {
   "cell_type": "code",
   "execution_count": null,
   "metadata": {
    "ExecuteTime": {
     "end_time": "2018-11-13T15:46:46.642228Z",
     "start_time": "2018-11-13T15:46:46.615128Z"
    }
   },
   "outputs": [],
   "source": [
    "class MyMLP:\n",
    "    def __init__(self, n_input, n_hidden, n_output, random_seed = 0, activate='sigmoid', verbose=False):\n",
    "        np.random.seed( random_seed )\n",
    "        # biases for hidden layer\n",
    "        self.b_hidden = np.random.randn( 1,n_hidden )\n",
    "        # weights for hidden layer\n",
    "        self.w_hidden = np.random.randn( n_input, n_hidden ) / np.sqrt(n_input+n_hidden)    # Glorot Initialization\n",
    "        # biases for output layer\n",
    "        self.b_output = np.random.randn( 1, n_output )\n",
    "        # weights for hidden layer\n",
    "        self.w_output = np.random.randn( n_hidden, n_output ) / np.sqrt(n_hidden+n_output)\n",
    "        \n",
    "        self.verbose = verbose\n",
    "        if activate=='sigmoid':\n",
    "            self.activate = self.sigmoid\n",
    "            self.activate_der = self.sigmoid_der\n",
    "        else:\n",
    "            self.activate = self.tanh\n",
    "            self.activate_der = self.tanh_der\n",
    "\n",
    "        \n",
    "    def sigmoid(self,x):\n",
    "        return 1.0/(1.0+np.exp(-x))\n",
    "\n",
    "    def sigmoid_der(self,x):\n",
    "        g = 1.0/(1.0+np.exp(-x))\n",
    "        return g, g*(1.0-g)\n",
    "    \n",
    "    def tanh(self,x):\n",
    "        return np.tanh(x)\n",
    "    \n",
    "    def tanh_der(self,x):\n",
    "        g = np.tanh(x)\n",
    "        return g, 1.0-g**2\n",
    "\n",
    "    def softmax(self,x):\n",
    "        x -= np.max(x,axis=1,keepdims=True)\n",
    "        x  = np.exp(x)\n",
    "        x /= np.sum(x,axis=1,keepdims=True)\n",
    "        return x\n",
    "        \n",
    "    def predict(self, X):\n",
    "        # X.shape = (m,n_input)\n",
    "        Z1 = X.dot(self.w_hidden) + self.b_hidden\n",
    "        # Z1.shape = (m,n_hidden)\n",
    "        A1 = self.activate( Z1 )\n",
    "        # A1.shape = (m,n_hidden)\n",
    "        Z2 = A1.dot(self.w_output) + self.b_output\n",
    "        # Z2.shape = (m,n_output)\n",
    "        A2 = self.softmax( Z2 )\n",
    "        # A2.shape = (m,n_output)\n",
    "        return A2\n",
    "    \n",
    "    def predict_class(self, X):\n",
    "        yhat = self.predict(X)\n",
    "        # pred.shape = (m,n_output)\n",
    "        # np.argmax( pred , axis=1 ).shape = (m,)\n",
    "        return np.argmax( yhat , axis=1 )\n",
    "    \n",
    "    def score(self,X,y):\n",
    "        return np.mean( self.predict_class(X) == y )\n",
    "    \n",
    "    # cross-entropy\n",
    "    def loss(self, X, y):\n",
    "        yhat = self.predict(X)\n",
    "        return - np.mean( np.log( yhat[ range(len(yhat)), y ] ) )\n",
    "    \n",
    "    def fit(self, Xtrain, ytrain, epochs = 100, learning_rate = 0.1):\n",
    "        m,_ = Xtrain.shape\n",
    "        \n",
    "        for iter in range(epochs):  \n",
    "            # Forward propagation\n",
    "            # X.shape = (m,n_input)\n",
    "            Z1 = Xtrain.dot(self.w_hidden) + self.b_hidden\n",
    "            # Z1.shape = (m,n_hidden)\n",
    "            A1,dZ1 = self.activate_der( Z1 )\n",
    "            # A1.shape = (m,n_hidden)\n",
    "            Z2 = A1.dot(self.w_output) + self.b_output\n",
    "            # Z2.shape = (m,n_output)\n",
    "            A2 = self.softmax( Z2 )\n",
    "            # A2.shape = (m,n_output)\n",
    "\n",
    "            # Backward propagation\n",
    "#             delta2 = (A2-ytrain_one_hot)/m\n",
    "            delta2 = A2\n",
    "            delta2[ range(len(delta2)), ytrain ] -= 1\n",
    "            delta2 /= len(delta2)\n",
    "        \n",
    "            delta1 = delta2.dot( self.w_output.T ) * dZ1\n",
    "\n",
    "            dw_output = A1.T.dot(delta2)\n",
    "            dw_hidden = Xtrain.T.dot(delta1)\n",
    "\n",
    "            db_output = np.sum( delta2, axis=0, keepdims=True )\n",
    "            db_hidden = np.sum( delta1, axis=0, keepdims=True )\n",
    "            \n",
    "            \n",
    "            # Gradient descent\n",
    "            self.w_hidden -= (learning_rate * dw_hidden)\n",
    "            self.b_hidden -= (learning_rate * db_hidden)\n",
    "            self.w_output -= (learning_rate * dw_output)\n",
    "            self.b_output -= (learning_rate * db_output)\n",
    "            \n",
    "            if self.verbose:\n",
    "                print(\"Loss after iteration %i: %f (score=%.2f%%)\" %(iter, self.loss(Xtrain, ytrain), 100.0*self.score(Xtrain,ytrain)))\n",
    "        return 0"
   ]
  },
  {
   "cell_type": "code",
   "execution_count": null,
   "metadata": {
    "ExecuteTime": {
     "end_time": "2018-11-13T15:47:48.517951Z",
     "start_time": "2018-11-13T15:47:48.511334Z"
    }
   },
   "outputs": [],
   "source": [
    "mlp = MyMLP(784, 100, 10, random_seed=0, activate='tanh', verbose=True)"
   ]
  },
  {
   "cell_type": "code",
   "execution_count": null,
   "metadata": {
    "ExecuteTime": {
     "end_time": "2018-11-13T16:00:47.505723Z",
     "start_time": "2018-11-13T15:57:33.640998Z"
    }
   },
   "outputs": [],
   "source": [
    "mlp.fit( Xtrain, ytrain)"
   ]
  },
  {
   "cell_type": "code",
   "execution_count": null,
   "metadata": {
    "ExecuteTime": {
     "end_time": "2018-11-13T16:00:47.585501Z",
     "start_time": "2018-11-13T16:00:47.508352Z"
    }
   },
   "outputs": [],
   "source": [
    "mlp.score( Xtest, ytest )"
   ]
  },
  {
   "cell_type": "code",
   "execution_count": null,
   "metadata": {},
   "outputs": [],
   "source": []
  },
  {
   "cell_type": "markdown",
   "metadata": {},
   "source": [
    "# Homework 3\n",
    "Load MNIST fashion dataset, it has the same dimensions as MNIST dataset <br/>\n",
    "https://keras.io/api/datasets/fashion_mnist/  <br/> \n",
    "Go to the sklearn MLPClassifier website, learn about parameters and try different ones to achieve the \n",
    "best accuracy on the test set <br/>\n",
    "Comment on bias (overfitting) and variance (underfitting) <br/>\n",
    "https://scikit-learn.org/stable/modules/generated/sklearn.neural_network.MLPClassifier.html"
   ]
  },
  {
   "cell_type": "code",
   "execution_count": 5,
   "metadata": {},
   "outputs": [],
   "source": [
    "from keras.datasets import fashion_mnist"
   ]
  },
  {
   "cell_type": "code",
   "execution_count": 6,
   "metadata": {},
   "outputs": [],
   "source": [
    "dataset = fashion_mnist.load_data()\n",
    "\n",
    "(Xtrain, ytrain), (Xtest, ytest) = dataset\n",
    "\n",
    "n_train = len(Xtrain)\n",
    "n_test = len(Xtest)\n",
    "\n",
    "n_features = 28*28\n",
    "\n",
    "Xtrain = Xtrain.reshape( n_train, n_features )\n",
    "Xtest  = Xtest.reshape( n_test, n_features )"
   ]
  },
  {
   "cell_type": "code",
   "execution_count": 7,
   "metadata": {},
   "outputs": [
    {
     "data": {
      "text/plain": [
       "(784,)"
      ]
     },
     "execution_count": 7,
     "metadata": {},
     "output_type": "execute_result"
    }
   ],
   "source": [
    "Xtrain[0].shape"
   ]
  },
  {
   "cell_type": "code",
   "execution_count": null,
   "metadata": {},
   "outputs": [],
   "source": [
    "plt.imshow( np.reshape( Xtrain[5000], (28,28) ) , cmap=plt.cm.gray)\n",
    "plt.show()"
   ]
  },
  {
   "cell_type": "code",
   "execution_count": null,
   "metadata": {},
   "outputs": [],
   "source": [
    "ytrain[20]"
   ]
  },
  {
   "cell_type": "code",
   "execution_count": 13,
   "metadata": {},
   "outputs": [],
   "source": [
    "clf = MLPClassifier(hidden_layer_sizes=(100,50,25,10), max_iter=50,activation = 'tanh',\n",
    "                    solver='adam',random_state=1, verbose=True)"
   ]
  },
  {
   "cell_type": "code",
   "execution_count": 14,
   "metadata": {},
   "outputs": [
    {
     "name": "stdout",
     "output_type": "stream",
     "text": [
      "Iteration 1, loss = 1.18933755\n",
      "Iteration 2, loss = 0.83997346\n",
      "Iteration 3, loss = 0.80187300\n",
      "Iteration 4, loss = 0.76066321\n",
      "Iteration 5, loss = 0.76789468\n",
      "Iteration 6, loss = 0.73175515\n",
      "Iteration 7, loss = 0.74864025\n",
      "Iteration 8, loss = 0.74684676\n",
      "Iteration 9, loss = 0.76970043\n",
      "Iteration 10, loss = 0.73019225\n",
      "Iteration 11, loss = 0.69392482\n",
      "Iteration 12, loss = 0.71517872\n",
      "Iteration 13, loss = 0.71591268\n",
      "Iteration 14, loss = 0.71654923\n",
      "Iteration 15, loss = 0.67798672\n",
      "Iteration 16, loss = 0.68589243\n",
      "Iteration 17, loss = 0.67594368\n",
      "Iteration 18, loss = 0.67245901\n",
      "Iteration 19, loss = 0.65813810\n",
      "Iteration 20, loss = 0.66105805\n",
      "Iteration 21, loss = 0.68405609\n",
      "Iteration 22, loss = 0.67209643\n",
      "Iteration 23, loss = 0.64908035\n",
      "Iteration 24, loss = 0.66023584\n",
      "Iteration 25, loss = 0.70868791\n",
      "Iteration 26, loss = 0.66146557\n",
      "Iteration 27, loss = 0.65198242\n",
      "Iteration 28, loss = 0.68577464\n",
      "Iteration 29, loss = 0.64554093\n",
      "Iteration 30, loss = 0.66151554\n",
      "Iteration 31, loss = 0.66002791\n",
      "Iteration 32, loss = 0.64500416\n",
      "Iteration 33, loss = 0.62230757\n",
      "Iteration 34, loss = 0.62621696\n",
      "Iteration 35, loss = 0.65174395\n",
      "Iteration 36, loss = 0.62078922\n",
      "Iteration 37, loss = 0.60595106\n",
      "Iteration 38, loss = 0.63096458\n",
      "Iteration 39, loss = 0.68141874\n",
      "Iteration 40, loss = 0.67204285\n",
      "Iteration 41, loss = 0.64080585\n",
      "Iteration 42, loss = 0.63890526\n",
      "Iteration 43, loss = 0.61499496\n",
      "Iteration 44, loss = 0.61012985\n",
      "Iteration 45, loss = 0.61728782\n",
      "Iteration 46, loss = 0.63242710\n",
      "Iteration 47, loss = 0.63054816\n",
      "Iteration 48, loss = 0.62296418\n",
      "Training loss did not improve more than tol=0.000100 for 10 consecutive epochs. Stopping.\n"
     ]
    },
    {
     "data": {
      "text/plain": [
       "MLPClassifier(activation='tanh', hidden_layer_sizes=(100, 50, 25, 10),\n",
       "              max_iter=50, random_state=1, verbose=True)"
      ]
     },
     "execution_count": 14,
     "metadata": {},
     "output_type": "execute_result"
    }
   ],
   "source": [
    "clf.fit(Xtrain, ytrain)"
   ]
  },
  {
   "cell_type": "code",
   "execution_count": 12,
   "metadata": {},
   "outputs": [
    {
     "data": {
      "text/plain": [
       "0.7175666666666667"
      ]
     },
     "execution_count": 12,
     "metadata": {},
     "output_type": "execute_result"
    }
   ],
   "source": [
    "clf.score(Xtrain, ytrain)"
   ]
  },
  {
   "cell_type": "code",
   "execution_count": null,
   "metadata": {},
   "outputs": [],
   "source": [
    "clf.score(Xtest, ytest)"
   ]
  }
 ],
 "metadata": {
  "kernelspec": {
   "display_name": "Python 3 (ipykernel)",
   "language": "python",
   "name": "python3"
  },
  "language_info": {
   "codemirror_mode": {
    "name": "ipython",
    "version": 3
   },
   "file_extension": ".py",
   "mimetype": "text/x-python",
   "name": "python",
   "nbconvert_exporter": "python",
   "pygments_lexer": "ipython3",
   "version": "3.9.13"
  },
  "toc": {
   "nav_menu": {},
   "number_sections": true,
   "sideBar": true,
   "skip_h1_title": false,
   "title_cell": "Table of Contents",
   "title_sidebar": "Contents",
   "toc_cell": false,
   "toc_position": {},
   "toc_section_display": true,
   "toc_window_display": false
  }
 },
 "nbformat": 4,
 "nbformat_minor": 2
}
