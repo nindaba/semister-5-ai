{
 "cells": [
  {
   "cell_type": "markdown",
   "metadata": {},
   "source": [
    "<div style=\"font-size: 14pt;\">Prof. Krzysztof Rybinski</div><br/><br/>\n",
    "<div style=\"font-size: 22pt;\"><b>Artificial Intelligence course</b></div><br/><br/>\n",
    "<div style=\"font-size: 18pt;\">LAB 3</div><br/>\n",
    "<div style=\"font-size: 18pt;\">- Classification, logistic regression</div><br/>\n",
    "<div style=\"font-size: 18pt;\">- Train set, test set</div><br/>\n",
    "<div style=\"font-size: 18pt;\">- Confusion matrix</div><br/>\n",
    "<div style=\"font-size: 18pt;\">- Accuracy, other model quality metrics</div><br/>\n",
    "<div style=\"font-size: 18pt;\">- ROC curve, threshold selection</div><br/>\n"
   ]
  },
  {
   "cell_type": "code",
   "execution_count": 1,
   "metadata": {},
   "outputs": [],
   "source": [
    "#load necessary packages\n",
    "import os\n",
    "import pandas as pd\n",
    "import statsmodels.api as sm\n",
    "import statsmodels.graphics.api as smg\n",
    "import matplotlib.pyplot as plt \n",
    "from sklearn.linear_model import LogisticRegression\n",
    "from sklearn.model_selection import train_test_split\n",
    "from sklearn.metrics import classification_report, confusion_matrix\n",
    "from sklearn.metrics import roc_curve, roc_auc_score\n",
    "import seaborn as sns"
   ]
  },
  {
   "cell_type": "code",
   "execution_count": 2,
   "metadata": {},
   "outputs": [
    {
     "data": {
      "text/plain": [
       "Index(['Unnamed: 0', 'School', 'Chair', 'Function_degree', 'FTE',\n",
       "       'KPI_assessment_1', 'Number.of.questionnaires_1', 'Average_grade_1',\n",
       "       'NPS_1', 'Number_of_courses_1', 'Additional_achievement_1',\n",
       "       'KPI_assessment_2', 'Number.of.questionnaires_2', 'Average_grade_2',\n",
       "       'NPS_2', 'Number_of_courses_2', 'Research_activity_2',\n",
       "       'Additional_activity_2', 'Negatives_2', 'X50_1', 'X20_1', 'X10_1',\n",
       "       'X50_2', 'X20_2', 'X10_2', 'bonus_2', 'reduce_wage_2', 'fire_2',\n",
       "       'X502010_1', 'X502010_2'],\n",
       "      dtype='object')"
      ]
     },
     "execution_count": 2,
     "metadata": {},
     "output_type": "execute_result"
    }
   ],
   "source": [
    "#load and inspect KPI data\n",
    "kpi = pd.read_csv(\"Lab_3_data/KPI_data_for_logit_model.csv\")\n",
    "kpi.columns"
   ]
  },
  {
   "cell_type": "code",
   "execution_count": 3,
   "metadata": {},
   "outputs": [
    {
     "data": {
      "text/plain": [
       "Index(['KPI_assessment_1', 'Number.of.questionnaires_1', 'Average_grade_1',\n",
       "       'NPS_1', 'Additional_achievement_1', 'X502010_1'],\n",
       "      dtype='object')"
      ]
     },
     "execution_count": 3,
     "metadata": {},
     "output_type": "execute_result"
    }
   ],
   "source": [
    "#select columns that we will use\n",
    "kpi = kpi[['KPI_assessment_1', 'Number.of.questionnaires_1', 'Average_grade_1', \\\n",
    "           'NPS_1', 'Additional_achievement_1', 'X502010_1']]\n",
    "kpi.columns "
   ]
  },
  {
   "cell_type": "code",
   "execution_count": 4,
   "metadata": {},
   "outputs": [
    {
     "data": {
      "text/html": [
       "<div>\n",
       "<style scoped>\n",
       "    .dataframe tbody tr th:only-of-type {\n",
       "        vertical-align: middle;\n",
       "    }\n",
       "\n",
       "    .dataframe tbody tr th {\n",
       "        vertical-align: top;\n",
       "    }\n",
       "\n",
       "    .dataframe thead th {\n",
       "        text-align: right;\n",
       "    }\n",
       "</style>\n",
       "<table border=\"1\" class=\"dataframe\">\n",
       "  <thead>\n",
       "    <tr style=\"text-align: right;\">\n",
       "      <th></th>\n",
       "      <th>KPI_assessment_1</th>\n",
       "      <th>Number.of.questionnaires_1</th>\n",
       "      <th>Average_grade_1</th>\n",
       "      <th>NPS_1</th>\n",
       "      <th>Additional_achievement_1</th>\n",
       "      <th>X502010_1</th>\n",
       "    </tr>\n",
       "  </thead>\n",
       "  <tbody>\n",
       "    <tr>\n",
       "      <th>0</th>\n",
       "      <td>4.0</td>\n",
       "      <td>69.351438</td>\n",
       "      <td>1.755570</td>\n",
       "      <td>52.525601</td>\n",
       "      <td>1</td>\n",
       "      <td>0</td>\n",
       "    </tr>\n",
       "    <tr>\n",
       "      <th>1</th>\n",
       "      <td>2.0</td>\n",
       "      <td>19.000000</td>\n",
       "      <td>1.724450</td>\n",
       "      <td>84.210000</td>\n",
       "      <td>0</td>\n",
       "      <td>0</td>\n",
       "    </tr>\n",
       "    <tr>\n",
       "      <th>2</th>\n",
       "      <td>2.0</td>\n",
       "      <td>32.000000</td>\n",
       "      <td>1.789062</td>\n",
       "      <td>56.250000</td>\n",
       "      <td>0</td>\n",
       "      <td>1</td>\n",
       "    </tr>\n",
       "    <tr>\n",
       "      <th>3</th>\n",
       "      <td>3.0</td>\n",
       "      <td>93.000000</td>\n",
       "      <td>1.733871</td>\n",
       "      <td>28.740000</td>\n",
       "      <td>1</td>\n",
       "      <td>1</td>\n",
       "    </tr>\n",
       "    <tr>\n",
       "      <th>4</th>\n",
       "      <td>2.0</td>\n",
       "      <td>88.000000</td>\n",
       "      <td>1.602273</td>\n",
       "      <td>43.180000</td>\n",
       "      <td>0</td>\n",
       "      <td>0</td>\n",
       "    </tr>\n",
       "    <tr>\n",
       "      <th>...</th>\n",
       "      <td>...</td>\n",
       "      <td>...</td>\n",
       "      <td>...</td>\n",
       "      <td>...</td>\n",
       "      <td>...</td>\n",
       "      <td>...</td>\n",
       "    </tr>\n",
       "    <tr>\n",
       "      <th>380</th>\n",
       "      <td>2.0</td>\n",
       "      <td>69.351438</td>\n",
       "      <td>1.755570</td>\n",
       "      <td>52.525601</td>\n",
       "      <td>0</td>\n",
       "      <td>0</td>\n",
       "    </tr>\n",
       "    <tr>\n",
       "      <th>381</th>\n",
       "      <td>2.6</td>\n",
       "      <td>21.000000</td>\n",
       "      <td>1.982143</td>\n",
       "      <td>61.900000</td>\n",
       "      <td>1</td>\n",
       "      <td>0</td>\n",
       "    </tr>\n",
       "    <tr>\n",
       "      <th>382</th>\n",
       "      <td>2.6</td>\n",
       "      <td>69.351438</td>\n",
       "      <td>1.755570</td>\n",
       "      <td>52.525601</td>\n",
       "      <td>0</td>\n",
       "      <td>0</td>\n",
       "    </tr>\n",
       "    <tr>\n",
       "      <th>383</th>\n",
       "      <td>2.6</td>\n",
       "      <td>18.000000</td>\n",
       "      <td>1.527778</td>\n",
       "      <td>-27.780000</td>\n",
       "      <td>0</td>\n",
       "      <td>0</td>\n",
       "    </tr>\n",
       "    <tr>\n",
       "      <th>384</th>\n",
       "      <td>2.0</td>\n",
       "      <td>51.000000</td>\n",
       "      <td>1.702717</td>\n",
       "      <td>23.530000</td>\n",
       "      <td>0</td>\n",
       "      <td>0</td>\n",
       "    </tr>\n",
       "  </tbody>\n",
       "</table>\n",
       "<p>385 rows × 6 columns</p>\n",
       "</div>"
      ],
      "text/plain": [
       "     KPI_assessment_1  Number.of.questionnaires_1  Average_grade_1      NPS_1  \\\n",
       "0                 4.0                   69.351438         1.755570  52.525601   \n",
       "1                 2.0                   19.000000         1.724450  84.210000   \n",
       "2                 2.0                   32.000000         1.789062  56.250000   \n",
       "3                 3.0                   93.000000         1.733871  28.740000   \n",
       "4                 2.0                   88.000000         1.602273  43.180000   \n",
       "..                ...                         ...              ...        ...   \n",
       "380               2.0                   69.351438         1.755570  52.525601   \n",
       "381               2.6                   21.000000         1.982143  61.900000   \n",
       "382               2.6                   69.351438         1.755570  52.525601   \n",
       "383               2.6                   18.000000         1.527778 -27.780000   \n",
       "384               2.0                   51.000000         1.702717  23.530000   \n",
       "\n",
       "     Additional_achievement_1  X502010_1  \n",
       "0                           1          0  \n",
       "1                           0          0  \n",
       "2                           0          1  \n",
       "3                           1          1  \n",
       "4                           0          0  \n",
       "..                        ...        ...  \n",
       "380                         0          0  \n",
       "381                         1          0  \n",
       "382                         0          0  \n",
       "383                         0          0  \n",
       "384                         0          0  \n",
       "\n",
       "[385 rows x 6 columns]"
      ]
     },
     "execution_count": 4,
     "metadata": {},
     "output_type": "execute_result"
    }
   ],
   "source": [
    "kpi"
   ]
  },
  {
   "cell_type": "markdown",
   "metadata": {},
   "source": [
    "<div style=\"font-size: 14pt;\">Exercise 1</div>\n",
    "Estimate logistic regression model from lecture 3"
   ]
  },
  {
   "cell_type": "code",
   "execution_count": 5,
   "metadata": {},
   "outputs": [
    {
     "data": {
      "image/png": "[encoded data removed]",
      "text/plain": [
       "<Figure size 640x480 with 2 Axes>"
      ]
     },
     "metadata": {},
     "output_type": "display_data"
    },
    {
     "data": {
      "image/png": "[encoded data removed]",
      "text/plain": [
       "<Figure size 640x480 with 2 Axes>"
      ]
     },
     "metadata": {},
     "output_type": "display_data"
    }
   ],
   "source": [
    "#check for multicollinearity\n",
    "corr = kpi.corr()\n",
    "smg.plot_corr(corr, xnames=corr.columns.values)\n",
    "smg.plot_corr(corr, xnames=corr.columns.values, normcolor=True)\n",
    "plt.show()"
   ]
  },
  {
   "cell_type": "code",
   "execution_count": 6,
   "metadata": {},
   "outputs": [
    {
     "name": "stdout",
     "output_type": "stream",
     "text": [
      "Optimization terminated successfully.\n",
      "         Current function value: 0.534761\n",
      "         Iterations 6\n"
     ]
    },
    {
     "data": {
      "text/html": [
       "<table class=\"simpletable\">\n",
       "<caption>Logit Regression Results</caption>\n",
       "<tr>\n",
       "  <th>Dep. Variable:</th>       <td>X502010_1</td>    <th>  No. Observations:  </th>  <td>   385</td>  \n",
       "</tr>\n",
       "<tr>\n",
       "  <th>Model:</th>                 <td>Logit</td>      <th>  Df Residuals:      </th>  <td>   379</td>  \n",
       "</tr>\n",
       "<tr>\n",
       "  <th>Method:</th>                 <td>MLE</td>       <th>  Df Model:          </th>  <td>     5</td>  \n",
       "</tr>\n",
       "<tr>\n",
       "  <th>Date:</th>            <td>Sat, 11 Mar 2023</td> <th>  Pseudo R-squ.:     </th>  <td>0.2112</td>  \n",
       "</tr>\n",
       "<tr>\n",
       "  <th>Time:</th>                <td>14:33:00</td>     <th>  Log-Likelihood:    </th> <td> -205.88</td> \n",
       "</tr>\n",
       "<tr>\n",
       "  <th>converged:</th>             <td>True</td>       <th>  LL-Null:           </th> <td> -261.00</td> \n",
       "</tr>\n",
       "<tr>\n",
       "  <th>Covariance Type:</th>        <td>hc0</td>       <th>  LLR p-value:       </th> <td>3.649e-22</td>\n",
       "</tr>\n",
       "</table>\n",
       "<table class=\"simpletable\">\n",
       "<tr>\n",
       "               <td></td>                 <th>coef</th>     <th>std err</th>      <th>z</th>      <th>P>|z|</th>  <th>[0.025</th>    <th>0.975]</th>  \n",
       "</tr>\n",
       "<tr>\n",
       "  <th>const</th>                      <td>  -10.2390</td> <td>    2.960</td> <td>   -3.459</td> <td> 0.001</td> <td>  -16.040</td> <td>   -4.438</td>\n",
       "</tr>\n",
       "<tr>\n",
       "  <th>KPI_assessment_1</th>           <td>    0.2592</td> <td>    0.241</td> <td>    1.074</td> <td> 0.283</td> <td>   -0.214</td> <td>    0.732</td>\n",
       "</tr>\n",
       "<tr>\n",
       "  <th>Number.of.questionnaires_1</th> <td>    0.0016</td> <td>    0.002</td> <td>    0.757</td> <td> 0.449</td> <td>   -0.003</td> <td>    0.006</td>\n",
       "</tr>\n",
       "<tr>\n",
       "  <th>Average_grade_1</th>            <td>    3.9964</td> <td>    1.830</td> <td>    2.183</td> <td> 0.029</td> <td>    0.409</td> <td>    7.584</td>\n",
       "</tr>\n",
       "<tr>\n",
       "  <th>NPS_1</th>                      <td>    0.0252</td> <td>    0.008</td> <td>    3.099</td> <td> 0.002</td> <td>    0.009</td> <td>    0.041</td>\n",
       "</tr>\n",
       "<tr>\n",
       "  <th>Additional_achievement_1</th>   <td>    1.2163</td> <td>    0.250</td> <td>    4.859</td> <td> 0.000</td> <td>    0.726</td> <td>    1.707</td>\n",
       "</tr>\n",
       "</table>"
      ],
      "text/plain": [
       "<class 'statsmodels.iolib.summary.Summary'>\n",
       "\"\"\"\n",
       "                           Logit Regression Results                           \n",
       "==============================================================================\n",
       "Dep. Variable:              X502010_1   No. Observations:                  385\n",
       "Model:                          Logit   Df Residuals:                      379\n",
       "Method:                           MLE   Df Model:                            5\n",
       "Date:                Sat, 11 Mar 2023   Pseudo R-squ.:                  0.2112\n",
       "Time:                        14:33:00   Log-Likelihood:                -205.88\n",
       "converged:                       True   LL-Null:                       -261.00\n",
       "Covariance Type:                  hc0   LLR p-value:                 3.649e-22\n",
       "==============================================================================================\n",
       "                                 coef    std err          z      P>|z|      [0.025      0.975]\n",
       "----------------------------------------------------------------------------------------------\n",
       "const                        -10.2390      2.960     -3.459      0.001     -16.040      -4.438\n",
       "KPI_assessment_1               0.2592      0.241      1.074      0.283      -0.214       0.732\n",
       "Number.of.questionnaires_1     0.0016      0.002      0.757      0.449      -0.003       0.006\n",
       "Average_grade_1                3.9964      1.830      2.183      0.029       0.409       7.584\n",
       "NPS_1                          0.0252      0.008      3.099      0.002       0.009       0.041\n",
       "Additional_achievement_1       1.2163      0.250      4.859      0.000       0.726       1.707\n",
       "==============================================================================================\n",
       "\"\"\""
      ]
     },
     "execution_count": 6,
     "metadata": {},
     "output_type": "execute_result"
    }
   ],
   "source": [
    "#estimate the model using robust standard errors\n",
    "y502010 = kpi[['X502010_1']]\n",
    "X = kpi.drop(['X502010_1'], axis=1)\n",
    "X = sm.add_constant(X)\n",
    "model_kpi_sm = sm.Logit(y502010, X)\n",
    "res_kpi_sm = model_kpi_sm.fit(method='newton', cov_type=\"hc0\")\n",
    "res_kpi_sm.summary()"
   ]
  },
  {
   "cell_type": "markdown",
   "metadata": {},
   "source": [
    "<div style=\"font-size: 14pt;\">Exercise 2</div>\n",
    "Implement ML approach to classification problem\n",
    "Create train and test sets, train the model, make predicitons on test set, calculate accuracy"
   ]
  },
  {
   "cell_type": "code",
   "execution_count": 7,
   "metadata": {},
   "outputs": [
    {
     "data": {
      "text/plain": [
       "(X502010_1    0.412338\n",
       " dtype: float64,\n",
       " X502010_1    0.415584\n",
       " dtype: float64)"
      ]
     },
     "execution_count": 7,
     "metadata": {},
     "output_type": "execute_result"
    }
   ],
   "source": [
    "#now we implement machine learning approach to classification \n",
    "#split the data into train and test set\n",
    "X = X.drop(['const'], axis=1)\n",
    "x_train, x_test, y_train, y_test = train_test_split(\n",
    "    X, y502010, test_size=0.2, random_state=4, stratify=y502010)\n",
    "\n",
    "#check proportions on 1s\n",
    "y_train.mean(), y_test.mean()\n",
    "\n",
    "#what is the base model accuracy?"
   ]
  },
  {
   "cell_type": "code",
   "execution_count": 8,
   "metadata": {},
   "outputs": [
    {
     "data": {
      "text/html": [
       "<div>\n",
       "<style scoped>\n",
       "    .dataframe tbody tr th:only-of-type {\n",
       "        vertical-align: middle;\n",
       "    }\n",
       "\n",
       "    .dataframe tbody tr th {\n",
       "        vertical-align: top;\n",
       "    }\n",
       "\n",
       "    .dataframe thead th {\n",
       "        text-align: right;\n",
       "    }\n",
       "</style>\n",
       "<table border=\"1\" class=\"dataframe\">\n",
       "  <thead>\n",
       "    <tr style=\"text-align: right;\">\n",
       "      <th></th>\n",
       "      <th>X502010_1</th>\n",
       "    </tr>\n",
       "  </thead>\n",
       "  <tbody>\n",
       "    <tr>\n",
       "      <th>278</th>\n",
       "      <td>0</td>\n",
       "    </tr>\n",
       "    <tr>\n",
       "      <th>328</th>\n",
       "      <td>0</td>\n",
       "    </tr>\n",
       "    <tr>\n",
       "      <th>321</th>\n",
       "      <td>1</td>\n",
       "    </tr>\n",
       "    <tr>\n",
       "      <th>231</th>\n",
       "      <td>0</td>\n",
       "    </tr>\n",
       "    <tr>\n",
       "      <th>112</th>\n",
       "      <td>1</td>\n",
       "    </tr>\n",
       "    <tr>\n",
       "      <th>...</th>\n",
       "      <td>...</td>\n",
       "    </tr>\n",
       "    <tr>\n",
       "      <th>72</th>\n",
       "      <td>1</td>\n",
       "    </tr>\n",
       "    <tr>\n",
       "      <th>6</th>\n",
       "      <td>1</td>\n",
       "    </tr>\n",
       "    <tr>\n",
       "      <th>290</th>\n",
       "      <td>0</td>\n",
       "    </tr>\n",
       "    <tr>\n",
       "      <th>188</th>\n",
       "      <td>1</td>\n",
       "    </tr>\n",
       "    <tr>\n",
       "      <th>146</th>\n",
       "      <td>0</td>\n",
       "    </tr>\n",
       "  </tbody>\n",
       "</table>\n",
       "<p>77 rows × 1 columns</p>\n",
       "</div>"
      ],
      "text/plain": [
       "     X502010_1\n",
       "278          0\n",
       "328          0\n",
       "321          1\n",
       "231          0\n",
       "112          1\n",
       "..         ...\n",
       "72           1\n",
       "6            1\n",
       "290          0\n",
       "188          1\n",
       "146          0\n",
       "\n",
       "[77 rows x 1 columns]"
      ]
     },
     "execution_count": 8,
     "metadata": {},
     "output_type": "execute_result"
    }
   ],
   "source": [
    "y_test"
   ]
  },
  {
   "cell_type": "code",
   "execution_count": 9,
   "metadata": {},
   "outputs": [
    {
     "name": "stderr",
     "output_type": "stream",
     "text": [
      "/Users/nindaba/opt/anaconda3/lib/python3.9/site-packages/sklearn/utils/validation.py:993: DataConversionWarning: A column-vector y was passed when a 1d array was expected. Please change the shape of y to (n_samples, ), for example using ravel().\n",
      "  y = column_or_1d(y, warn=True)\n"
     ]
    },
    {
     "data": {
      "text/plain": [
       "LogisticRegression(random_state=100)"
      ]
     },
     "execution_count": 9,
     "metadata": {},
     "output_type": "execute_result"
    }
   ],
   "source": [
    "#fit the model to the train data\n",
    "model_kpi = LogisticRegression(random_state=100)\n",
    "model_kpi.fit(x_train, y_train)"
   ]
  },
  {
   "cell_type": "code",
   "execution_count": 10,
   "metadata": {},
   "outputs": [
    {
     "data": {
      "text/plain": [
       "(308, 1)"
      ]
     },
     "execution_count": 10,
     "metadata": {},
     "output_type": "execute_result"
    }
   ],
   "source": [
    "y_train.shape"
   ]
  },
  {
   "cell_type": "code",
   "execution_count": 11,
   "metadata": {},
   "outputs": [],
   "source": [
    "y_train = y_train['X502010_1'].ravel()\n",
    "y_test = y_test['X502010_1'].ravel()"
   ]
  },
  {
   "cell_type": "code",
   "execution_count": 12,
   "metadata": {},
   "outputs": [
    {
     "data": {
      "text/plain": [
       "(308,)"
      ]
     },
     "execution_count": 12,
     "metadata": {},
     "output_type": "execute_result"
    }
   ],
   "source": [
    "y_train.shape"
   ]
  },
  {
   "cell_type": "code",
   "execution_count": 13,
   "metadata": {},
   "outputs": [
    {
     "data": {
      "text/plain": [
       "(array([[0.43528967, 0.00168317, 1.45455155, 0.03578606, 1.20087316]]),\n",
       " array([-6.80814944]))"
      ]
     },
     "execution_count": 13,
     "metadata": {},
     "output_type": "execute_result"
    }
   ],
   "source": [
    "model_kpi.fit(x_train, y_train)\n",
    "model_kpi.coef_, model_kpi.intercept_"
   ]
  },
  {
   "cell_type": "code",
   "execution_count": 14,
   "metadata": {},
   "outputs": [
    {
     "data": {
      "text/plain": [
       "Index(['KPI_assessment_1', 'Number.of.questionnaires_1', 'Average_grade_1',\n",
       "       'NPS_1', 'Additional_achievement_1'],\n",
       "      dtype='object')"
      ]
     },
     "execution_count": 14,
     "metadata": {},
     "output_type": "execute_result"
    }
   ],
   "source": [
    "X.columns"
   ]
  },
  {
   "cell_type": "code",
   "execution_count": 15,
   "metadata": {},
   "outputs": [
    {
     "name": "stdout",
     "output_type": "stream",
     "text": [
      "[1 0 1 0 0 1 1 0 0 1 1 1 0 0 1 0 0 0 0 0 0 0 0 0 1 1 0 0 0 1 1 1 0 0 1 0 1\n",
      " 0 0 0 0 0 0 0 1 0 1 0 1 1 0 1 1 0 0 0 0 1 1 1 0 0 0 1 0 0 1 0 1 0 0 0 0 0\n",
      " 0 1 0]\n"
     ]
    }
   ],
   "source": [
    "#calculate predictions\n",
    "y_pred=model_kpi.predict(x_test)\n",
    "print(y_pred)"
   ]
  },
  {
   "cell_type": "code",
   "execution_count": 16,
   "metadata": {},
   "outputs": [
    {
     "data": {
      "text/plain": [
       "<AxesSubplot:xlabel='Predicted', ylabel='Actual'>"
      ]
     },
     "execution_count": 16,
     "metadata": {},
     "output_type": "execute_result"
    },
    {
     "data": {
      "image/png": "[encoded data removed]",
      "text/plain": [
       "<Figure size 640x480 with 2 Axes>"
      ]
     },
     "metadata": {},
     "output_type": "display_data"
    }
   ],
   "source": [
    "#compute and plot confussion matrix\n",
    "cfm = pd.crosstab(y_test, y_pred, rownames=['Actual'], colnames=['Predicted'])\n",
    "cfm = cfm / cfm.sum().sum()\n",
    "sns.heatmap(cfm, annot=True)"
   ]
  },
  {
   "cell_type": "code",
   "execution_count": 17,
   "metadata": {},
   "outputs": [
    {
     "data": {
      "text/plain": [
       "0.6103896103896105"
      ]
     },
     "execution_count": 17,
     "metadata": {},
     "output_type": "execute_result"
    }
   ],
   "source": [
    "#calculate accuracy\n",
    "accuracy = cfm.iloc[0,0] + cfm.iloc[1,1]\n",
    "accuracy"
   ]
  },
  {
   "cell_type": "code",
   "execution_count": 18,
   "metadata": {},
   "outputs": [
    {
     "name": "stdout",
     "output_type": "stream",
     "text": [
      "              precision    recall  f1-score   support\n",
      "\n",
      "    no raise       0.65      0.71      0.68        45\n",
      "  wage raise       0.54      0.47      0.50        32\n",
      "\n",
      "    accuracy                           0.61        77\n",
      "   macro avg       0.59      0.59      0.59        77\n",
      "weighted avg       0.60      0.61      0.61        77\n",
      "\n"
     ]
    }
   ],
   "source": [
    "#print sklearn clasification report\n",
    "target_names = ['no raise', 'wage raise']\n",
    "print(classification_report(y_test, y_pred, target_names=target_names))"
   ]
  },
  {
   "cell_type": "code",
   "execution_count": 19,
   "metadata": {},
   "outputs": [
    {
     "name": "stdout",
     "output_type": "stream",
     "text": [
      "[1 0 1 0 0 1 1 0 0 1 1 1 0 0 1 0 0 0 0 0 0 0 0 0 1 1 0 0 0 1 1 1 0 0 1 0 1\n",
      " 0 0 0 0 0 0 0 1 0 1 0 1 1 0 1 1 0 0 0 0 1 1 1 0 0 0 1 0 0 1 0 1 0 0 0 0 0\n",
      " 0 1 0] \n",
      " [0.60762545 0.3578049  0.84714643 0.20162438 0.23815171 0.89896579\n",
      " 0.56182551 0.24482332 0.14833546 0.89754441 0.61091532 0.85718134\n",
      " 0.45888904 0.24482332 0.71752768 0.0119146  0.45345625 0.45659447\n",
      " 0.39112335 0.32758736 0.02931006 0.04443836 0.24482332 0.13948132\n",
      " 0.90260975 0.6646005  0.38294524 0.45441274 0.24482332 0.51813238\n",
      " 0.56182551 0.60828172 0.4676699  0.37318038 0.57059994 0.01534631\n",
      " 0.66426918 0.30236285 0.33180684 0.03023469 0.13079679 0.17709537\n",
      " 0.17745516 0.01715366 0.78870738 0.18257497 0.6646005  0.24482332\n",
      " 0.72611733 0.52619093 0.05834853 0.6646005  0.71708417 0.47250666\n",
      " 0.26272339 0.400487   0.10491709 0.56182551 0.76585995 0.67690871\n",
      " 0.24482332 0.26681408 0.34318402 0.56182551 0.24482332 0.24482332\n",
      " 0.66824259 0.21479218 0.65971319 0.17106243 0.13415355 0.24482332\n",
      " 0.46629924 0.24085691 0.24482332 0.52141784 0.05307348]\n"
     ]
    }
   ],
   "source": [
    "#improve the model by using ROC curve to calculate threshold\n",
    "#get probabilities for y_pred\n",
    "y_prob = model_kpi.predict_proba(x_test)\n",
    "y_prob = y_prob[:,1]\n",
    "print(y_pred, '\\n', y_prob)"
   ]
  },
  {
   "cell_type": "code",
   "execution_count": 20,
   "metadata": {},
   "outputs": [
    {
     "data": {
      "text/plain": [
       "((77,), (77,))"
      ]
     },
     "execution_count": 20,
     "metadata": {},
     "output_type": "execute_result"
    }
   ],
   "source": [
    "y_pred.shape, y_prob.shape"
   ]
  },
  {
   "cell_type": "code",
   "execution_count": 21,
   "metadata": {},
   "outputs": [
    {
     "name": "stdout",
     "output_type": "stream",
     "text": [
      "[0.         0.02222222 0.02222222 0.04444444 0.04444444 0.06666667\n",
      " 0.06666667 0.08888889 0.08888889 0.11111111 0.15555556 0.15555556\n",
      " 0.17777778 0.17777778 0.2        0.2        0.26666667 0.26666667\n",
      " 0.31111111 0.31111111 0.33333333 0.33333333 0.37777778 0.37777778\n",
      " 0.4        0.4        0.62222222 0.62222222 0.71111111 0.71111111\n",
      " 0.75555556 0.75555556 1.        ] \n",
      " [0.      0.      0.03125 0.03125 0.09375 0.09375 0.1875  0.1875  0.21875\n",
      " 0.21875 0.25    0.28125 0.28125 0.34375 0.34375 0.375   0.40625 0.46875\n",
      " 0.46875 0.6875  0.6875  0.71875 0.71875 0.8125  0.8125  0.875   0.875\n",
      " 0.9375  0.9375  0.96875 0.96875 1.      1.     ] \n",
      " ['1.9', '0.9', '0.9', '0.9', '0.85', '0.79', '0.72', '0.72', '0.68', '0.67', '0.66', '0.66', '0.66', '0.61', '0.61', '0.57', '0.56', '0.52', '0.47', '0.4', '0.39', '0.38', '0.36', '0.33', '0.3', '0.26', '0.24', '0.24', '0.18', '0.18', '0.15', '0.14', '0.01']\n"
     ]
    }
   ],
   "source": [
    "#get tpr, fpr and thresholds\n",
    "fpr, tpr, thresholds = roc_curve(y_test, y_prob)\n",
    "str_thresholds = [str(round(x,2)) for x in thresholds]\n",
    "print(fpr, '\\n', tpr, '\\n', str_thresholds)"
   ]
  },
  {
   "cell_type": "code",
   "execution_count": 22,
   "metadata": {},
   "outputs": [
    {
     "name": "stdout",
     "output_type": "stream",
     "text": [
      "['.', '0.9', '.', '0.9', '.', '0.79', '.', '0.72', '.', '0.67', '.', '0.66', '.', '0.61', '.', '0.57', '.', '0.52', '.', '0.4', '.', '0.38', '.', '0.33', '.', '0.26', '.', '0.24', '.', '0.18', '.', '0.14', '.']\n"
     ]
    }
   ],
   "source": [
    "#change every second threshold to dot\n",
    "sel = list(range(len(str_thresholds))[::2])\n",
    "for ind in sel:\n",
    "    str_thresholds[ind] = '.'\n",
    "print(str_thresholds)"
   ]
  },
  {
   "cell_type": "code",
   "execution_count": 23,
   "metadata": {},
   "outputs": [
    {
     "data": {
      "image/png": "[encoded data removed]",
      "text/plain": [
       "<Figure size 640x480 with 1 Axes>"
      ]
     },
     "metadata": {},
     "output_type": "display_data"
    }
   ],
   "source": [
    "# plot the roc curve for the model\n",
    "plt.plot(fpr, tpr, marker='.', label='Logistic')\n",
    "# axis labels\n",
    "plt.xlabel('False Positive Rate')\n",
    "plt.ylabel('True Positive Rate')\n",
    "# show the legend\n",
    "plt.legend()\n",
    "\n",
    "for i in range(len(thresholds)): \n",
    "    plt.text(fpr[i], tpr[i], str_thresholds[i], fontsize=10)\n",
    "\n",
    "plt.show()"
   ]
  },
  {
   "cell_type": "code",
   "execution_count": 24,
   "metadata": {},
   "outputs": [
    {
     "data": {
      "text/plain": [
       "0.7135416666666665"
      ]
     },
     "execution_count": 24,
     "metadata": {},
     "output_type": "execute_result"
    }
   ],
   "source": [
    "#calculate ROC AUC (area under curve)\n",
    "roc_auc_score(y_test, y_prob)"
   ]
  },
  {
   "cell_type": "code",
   "execution_count": 25,
   "metadata": {},
   "outputs": [],
   "source": [
    "#inspect confusion matrix for different threshold values\n",
    "\n",
    "############################################################\n",
    "def calculate_confusion_matrix(y_test, y_prob, threshold):\n",
    "    y_pred_t = 1*(y_prob >= threshold)\n",
    "    cfm = pd.crosstab(y_test, y_pred_t, rownames=['Actual'], colnames=['Predicted'])\n",
    "    cfm = cfm / cfm.sum().sum()\n",
    "    sns.heatmap(cfm, annot=True)\n",
    "    accuracy = cfm.iloc[0,0] + cfm.iloc[1,1]\n",
    "    print(\"`Accuracy =  {:6.4f}\".format(accuracy))\n",
    "    return cfm, accuracy\n",
    "############################################################"
   ]
  },
  {
   "cell_type": "code",
   "execution_count": 26,
   "metadata": {},
   "outputs": [
    {
     "name": "stdout",
     "output_type": "stream",
     "text": [
      "`Accuracy =  0.7143\n"
     ]
    },
    {
     "data": {
      "image/png": "[encoded data removed]",
      "text/plain": [
       "<Figure size 640x480 with 2 Axes>"
      ]
     },
     "metadata": {},
     "output_type": "display_data"
    }
   ],
   "source": [
    "#try different thresholds, comment on changes in confussion matrix\n",
    "cfm , accuracy = calculate_confusion_matrix(y_test, y_prob, 0.26)"
   ]
  },
  {
   "cell_type": "code",
   "execution_count": 27,
   "metadata": {},
   "outputs": [
    {
     "data": {
      "text/plain": [
       "array([[32, 13],\n",
       "       [17, 15]])"
      ]
     },
     "execution_count": 27,
     "metadata": {},
     "output_type": "execute_result"
    }
   ],
   "source": [
    "# using sklearn function to compute confusion matrix\n",
    "cfm2 = confusion_matrix(y_test, y_pred)\n",
    "cfm2"
   ]
  },
  {
   "cell_type": "code",
   "execution_count": 28,
   "metadata": {},
   "outputs": [
    {
     "data": {
      "text/plain": [
       "array([[0.41558442, 0.16883117],\n",
       "       [0.22077922, 0.19480519]])"
      ]
     },
     "execution_count": 28,
     "metadata": {},
     "output_type": "execute_result"
    }
   ],
   "source": [
    "cfm2/cfm2.sum().sum()"
   ]
  },
  {
   "cell_type": "code",
   "execution_count": null,
   "metadata": {},
   "outputs": [],
   "source": []
  },
  {
   "cell_type": "code",
   "execution_count": null,
   "metadata": {},
   "outputs": [],
   "source": []
  },
  {
   "cell_type": "code",
   "execution_count": null,
   "metadata": {},
   "outputs": [],
   "source": []
  },
  {
   "cell_type": "code",
   "execution_count": null,
   "metadata": {},
   "outputs": [],
   "source": []
  },
  {
   "cell_type": "code",
   "execution_count": null,
   "metadata": {},
   "outputs": [],
   "source": []
  }
 ],
 "metadata": {
  "kernelspec": {
   "display_name": "Python 3 (ipykernel)",
   "language": "python",
   "name": "python3"
  },
  "language_info": {
   "codemirror_mode": {
    "name": "ipython",
    "version": 3
   },
   "file_extension": ".py",
   "mimetype": "text/x-python",
   "name": "python",
   "nbconvert_exporter": "python",
   "pygments_lexer": "ipython3",
   "version": "3.9.13"
  }
 },
 "nbformat": 4,
 "nbformat_minor": 4
}
