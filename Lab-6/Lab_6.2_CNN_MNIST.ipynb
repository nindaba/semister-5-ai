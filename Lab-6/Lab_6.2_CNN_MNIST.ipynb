{
 "cells": [
  {
   "cell_type": "markdown",
   "metadata": {},
   "source": [
    "<div style=\"font-size: 14pt;\">Prof. Krzysztof Rybinski</div><br/><br/>\n",
    "<div style=\"font-size: 22pt;\"><b>Artificial Intelligence course</b></div><br/><br/>\n",
    "<div style=\"font-size: 18pt;\">LAB 6.2</div><br/>\n",
    "<div style=\"font-size: 18pt;\">- Programming CNN in Keras</div><br/><br/>"
   ]
  },
  {
   "cell_type": "markdown",
   "metadata": {},
   "source": [
    "# MNIST dataset"
   ]
  },
  {
   "cell_type": "code",
   "execution_count": 1,
   "metadata": {
    "ExecuteTime": {
     "end_time": "2018-07-24T20:09:11.307389Z",
     "start_time": "2018-07-24T20:09:05.399446Z"
    }
   },
   "outputs": [
    {
     "name": "stderr",
     "output_type": "stream",
     "text": [
      "2023-03-22 11:06:22.879888: I tensorflow/core/platform/cpu_feature_guard.cc:193] This TensorFlow binary is optimized with oneAPI Deep Neural Network Library (oneDNN) to use the following CPU instructions in performance-critical operations:  SSE4.1 SSE4.2\n",
      "To enable them in other operations, rebuild TensorFlow with the appropriate compiler flags.\n"
     ]
    },
    {
     "name": "stdout",
     "output_type": "stream",
     "text": [
      "Training dataset:\n",
      "(60000, 28, 28)\n",
      "(60000,)\n",
      "(60000, 10)\n",
      "Testing dataset:\n",
      "(10000, 28, 28)\n",
      "(10000,)\n",
      "(10000, 10)\n"
     ]
    }
   ],
   "source": [
    "import numpy as np\n",
    "import keras\n",
    "from keras.utils import to_categorical\n",
    "from matplotlib import pyplot as plt\n",
    "from keras.datasets import mnist\n",
    "\n",
    "(train_images, train_labels), (test_images, test_labels) = mnist.load_data()\n",
    "\n",
    "y_train = to_categorical(train_labels)\n",
    "y_test  = to_categorical(test_labels)\n",
    "\n",
    "# normalize inputs from 0-255 to 0.0-1.0\n",
    "train_images = train_images.astype('float32')\n",
    "test_images  = test_images.astype('float32')\n",
    "train_images = train_images / 255.0\n",
    "test_images  = test_images / 255.0\n",
    "\n",
    "# training dataset\n",
    "print('Training dataset:')\n",
    "print(train_images.shape)\n",
    "print(train_labels.shape)\n",
    "print(y_train.shape)\n",
    "\n",
    "# testing dataset\n",
    "print('Testing dataset:')\n",
    "print(test_images.shape)\n",
    "print(test_labels.shape)\n",
    "print(y_test.shape)"
   ]
  },
  {
   "cell_type": "markdown",
   "metadata": {},
   "source": [
    "# Baseline - Multilayer perceptron (MLP)"
   ]
  },
  {
   "cell_type": "code",
   "execution_count": 2,
   "metadata": {
    "ExecuteTime": {
     "end_time": "2018-07-24T20:09:11.316419Z",
     "start_time": "2018-07-24T20:09:11.309588Z"
    }
   },
   "outputs": [
    {
     "data": {
      "text/plain": [
       "(60000, 28, 28)"
      ]
     },
     "execution_count": 2,
     "metadata": {},
     "output_type": "execute_result"
    }
   ],
   "source": [
    "train_images.shape"
   ]
  },
  {
   "cell_type": "code",
   "execution_count": 3,
   "metadata": {
    "ExecuteTime": {
     "end_time": "2018-07-24T20:09:11.442123Z",
     "start_time": "2018-07-24T20:09:11.321861Z"
    }
   },
   "outputs": [
    {
     "name": "stdout",
     "output_type": "stream",
     "text": [
      "Model: \"sequential\"\n",
      "_________________________________________________________________\n",
      " Layer (type)                Output Shape              Param #   \n",
      "=================================================================\n",
      " flatten (Flatten)           (None, 784)               0         \n",
      "                                                                 \n",
      " dense (Dense)               (None, 300)               235500    \n",
      "                                                                 \n",
      " dense_1 (Dense)             (None, 10)                3010      \n",
      "                                                                 \n",
      "=================================================================\n",
      "Total params: 238,510\n",
      "Trainable params: 238,510\n",
      "Non-trainable params: 0\n",
      "_________________________________________________________________\n"
     ]
    },
    {
     "name": "stderr",
     "output_type": "stream",
     "text": [
      "2023-03-22 11:06:26.349662: I tensorflow/core/platform/cpu_feature_guard.cc:193] This TensorFlow binary is optimized with oneAPI Deep Neural Network Library (oneDNN) to use the following CPU instructions in performance-critical operations:  SSE4.1 SSE4.2\n",
      "To enable them in other operations, rebuild TensorFlow with the appropriate compiler flags.\n"
     ]
    }
   ],
   "source": [
    "from keras.models import Sequential\n",
    "from keras.layers import Dense, Flatten\n",
    "\n",
    "#try different activation functions\n",
    "model = Sequential()\n",
    "model.add(Flatten(input_shape=(28,28)))\n",
    "model.add(Dense(300, activation='relu'))\n",
    "model.add(Dense(10,  activation='softmax'))\n",
    "model.summary()"
   ]
  },
  {
   "cell_type": "code",
   "execution_count": 4,
   "metadata": {
    "ExecuteTime": {
     "end_time": "2018-07-24T20:09:11.519908Z",
     "start_time": "2018-07-24T20:09:11.444438Z"
    }
   },
   "outputs": [],
   "source": [
    "model.compile(loss='categorical_crossentropy', optimizer=\"adam\", metrics=['accuracy'])"
   ]
  },
  {
   "cell_type": "code",
   "execution_count": 5,
   "metadata": {
    "ExecuteTime": {
     "end_time": "2018-07-24T20:10:09.192112Z",
     "start_time": "2018-07-24T20:09:11.522206Z"
    }
   },
   "outputs": [
    {
     "name": "stdout",
     "output_type": "stream",
     "text": [
      "Epoch 1/10\n",
      "1688/1688 [==============================] - 2s 980us/step - loss: 0.2329 - accuracy: 0.9332 - val_loss: 0.0990 - val_accuracy: 0.9715\n",
      "Epoch 2/10\n",
      "1688/1688 [==============================] - 2s 913us/step - loss: 0.0941 - accuracy: 0.9716 - val_loss: 0.0741 - val_accuracy: 0.9770\n",
      "Epoch 3/10\n",
      "1688/1688 [==============================] - 2s 913us/step - loss: 0.0617 - accuracy: 0.9809 - val_loss: 0.0816 - val_accuracy: 0.9765\n",
      "Epoch 4/10\n",
      "1688/1688 [==============================] - 2s 910us/step - loss: 0.0432 - accuracy: 0.9859 - val_loss: 0.0780 - val_accuracy: 0.9780\n",
      "Epoch 5/10\n",
      "1688/1688 [==============================] - 2s 922us/step - loss: 0.0313 - accuracy: 0.9903 - val_loss: 0.0730 - val_accuracy: 0.9807\n",
      "Epoch 6/10\n",
      "1688/1688 [==============================] - 2s 926us/step - loss: 0.0242 - accuracy: 0.9919 - val_loss: 0.0754 - val_accuracy: 0.9795\n",
      "Epoch 7/10\n",
      "1688/1688 [==============================] - 2s 932us/step - loss: 0.0203 - accuracy: 0.9935 - val_loss: 0.0709 - val_accuracy: 0.9810\n",
      "Epoch 8/10\n",
      "1688/1688 [==============================] - 2s 930us/step - loss: 0.0148 - accuracy: 0.9952 - val_loss: 0.1187 - val_accuracy: 0.9700\n",
      "Epoch 9/10\n",
      "1688/1688 [==============================] - 2s 920us/step - loss: 0.0137 - accuracy: 0.9956 - val_loss: 0.0795 - val_accuracy: 0.9810\n",
      "Epoch 10/10\n",
      "1688/1688 [==============================] - 2s 912us/step - loss: 0.0114 - accuracy: 0.9964 - val_loss: 0.0929 - val_accuracy: 0.9797\n"
     ]
    },
    {
     "data": {
      "text/plain": [
       "<keras.callbacks.History at 0x7fa786356d40>"
      ]
     },
     "execution_count": 5,
     "metadata": {},
     "output_type": "execute_result"
    }
   ],
   "source": [
    "model.fit(train_images, y_train, validation_split=0.1, epochs=10, batch_size=32)"
   ]
  },
  {
   "cell_type": "code",
   "execution_count": 6,
   "metadata": {
    "ExecuteTime": {
     "end_time": "2018-07-24T20:10:09.510153Z",
     "start_time": "2018-07-24T20:10:09.194399Z"
    }
   },
   "outputs": [
    {
     "name": "stdout",
     "output_type": "stream",
     "text": [
      "313/313 [==============================] - 0s 566us/step - loss: 0.0928 - accuracy: 0.9763\n"
     ]
    },
    {
     "data": {
      "text/plain": [
       "[0.09275301545858383, 0.9763000011444092]"
      ]
     },
     "execution_count": 6,
     "metadata": {},
     "output_type": "execute_result"
    }
   ],
   "source": [
    "model.evaluate(test_images, y_test)"
   ]
  },
  {
   "cell_type": "markdown",
   "metadata": {},
   "source": [
    "# Convolutional neural networks"
   ]
  },
  {
   "cell_type": "markdown",
   "metadata": {},
   "source": [
    "## One convolution layer"
   ]
  },
  {
   "cell_type": "code",
   "execution_count": 7,
   "metadata": {
    "ExecuteTime": {
     "end_time": "2018-07-24T20:10:09.514808Z",
     "start_time": "2018-07-24T20:10:09.512068Z"
    }
   },
   "outputs": [],
   "source": [
    "from keras.layers import Conv2D, MaxPooling2D, Reshape, Activation, Dropout, Flatten\n",
    "from keras.models import Sequential"
   ]
  },
  {
   "cell_type": "code",
   "execution_count": 8,
   "metadata": {},
   "outputs": [
    {
     "name": "stdout",
     "output_type": "stream",
     "text": [
      "[name: \"/device:CPU:0\"\n",
      "device_type: \"CPU\"\n",
      "memory_limit: 268435456\n",
      "locality {\n",
      "}\n",
      "incarnation: 4725818188990629097\n",
      "xla_global_id: -1\n",
      "]\n"
     ]
    }
   ],
   "source": [
    "from tensorflow.python.client import device_lib\n",
    "print(device_lib.list_local_devices())"
   ]
  },
  {
   "cell_type": "markdown",
   "metadata": {},
   "source": [
    "Check Keras documentation <br/>\n",
    "- https://keras.io/api/layers/convolution_layers/convolution2d/\n",
    "- https://keras.io/api/layers/pooling_layers/max_pooling2d/"
   ]
  },
  {
   "cell_type": "code",
   "execution_count": 9,
   "metadata": {
    "ExecuteTime": {
     "end_time": "2018-07-24T20:10:09.612669Z",
     "start_time": "2018-07-24T20:10:09.517034Z"
    }
   },
   "outputs": [
    {
     "name": "stdout",
     "output_type": "stream",
     "text": [
      "Model: \"sequential_1\"\n",
      "_________________________________________________________________\n",
      " Layer (type)                Output Shape              Param #   \n",
      "=================================================================\n",
      " reshape (Reshape)           (None, 28, 28, 1)         0         \n",
      "                                                                 \n",
      " conv2d (Conv2D)             (None, 28, 28, 16)        416       \n",
      "                                                                 \n",
      " max_pooling2d (MaxPooling2D  (None, 14, 14, 16)       0         \n",
      " )                                                               \n",
      "                                                                 \n",
      " flatten_1 (Flatten)         (None, 3136)              0         \n",
      "                                                                 \n",
      " dense_2 (Dense)             (None, 20)                62740     \n",
      "                                                                 \n",
      " dense_3 (Dense)             (None, 10)                210       \n",
      "                                                                 \n",
      "=================================================================\n",
      "Total params: 63,366\n",
      "Trainable params: 63,366\n",
      "Non-trainable params: 0\n",
      "_________________________________________________________________\n",
      "None\n"
     ]
    }
   ],
   "source": [
    "#build computational graph\n",
    "model = Sequential()\n",
    "\n",
    "model.add(Reshape((28, 28, 1), input_shape=(28, 28)))\n",
    "model.add(Conv2D(filters=16, kernel_size=(5,5), padding='same', activation='relu'))\n",
    "model.add(MaxPooling2D(pool_size=(2,2)))\n",
    "model.add(Flatten())\n",
    "# add Dense layers\n",
    "model.add(Dense(20, activation='relu'))\n",
    "model.add(Dense(10, activation='softmax'))\n",
    "\n",
    "\n",
    "print(model.summary())"
   ]
  },
  {
   "cell_type": "code",
   "execution_count": 10,
   "metadata": {
    "ExecuteTime": {
     "end_time": "2018-07-24T20:10:09.674895Z",
     "start_time": "2018-07-24T20:10:09.616925Z"
    }
   },
   "outputs": [],
   "source": [
    "#compile\n",
    "model.compile(loss='categorical_crossentropy', \n",
    "              optimizer=\"adam\", metrics=['categorical_accuracy'])"
   ]
  },
  {
   "cell_type": "code",
   "execution_count": 11,
   "metadata": {
    "ExecuteTime": {
     "end_time": "2018-07-24T20:13:38.568565Z",
     "start_time": "2018-07-24T20:10:09.676948Z"
    }
   },
   "outputs": [
    {
     "name": "stdout",
     "output_type": "stream",
     "text": [
      "Epoch 1/10\n",
      "1688/1688 [==============================] - 6s 3ms/step - loss: 0.2457 - categorical_accuracy: 0.9268 - val_loss: 0.0840 - val_categorical_accuracy: 0.9773\n",
      "Epoch 2/10\n",
      "1688/1688 [==============================] - 5s 3ms/step - loss: 0.0837 - categorical_accuracy: 0.9744 - val_loss: 0.0659 - val_categorical_accuracy: 0.9823\n",
      "Epoch 3/10\n",
      "1688/1688 [==============================] - 5s 3ms/step - loss: 0.0595 - categorical_accuracy: 0.9818 - val_loss: 0.0572 - val_categorical_accuracy: 0.9865\n",
      "Epoch 4/10\n",
      "1688/1688 [==============================] - 5s 3ms/step - loss: 0.0479 - categorical_accuracy: 0.9845 - val_loss: 0.0549 - val_categorical_accuracy: 0.9837\n",
      "Epoch 5/10\n",
      "1688/1688 [==============================] - 5s 3ms/step - loss: 0.0373 - categorical_accuracy: 0.9884 - val_loss: 0.0519 - val_categorical_accuracy: 0.9860\n",
      "Epoch 6/10\n",
      "1688/1688 [==============================] - 5s 3ms/step - loss: 0.0314 - categorical_accuracy: 0.9904 - val_loss: 0.0535 - val_categorical_accuracy: 0.9858\n",
      "Epoch 7/10\n",
      "1688/1688 [==============================] - 5s 3ms/step - loss: 0.0269 - categorical_accuracy: 0.9910 - val_loss: 0.0525 - val_categorical_accuracy: 0.9870\n",
      "Epoch 8/10\n",
      "1688/1688 [==============================] - 5s 3ms/step - loss: 0.0223 - categorical_accuracy: 0.9926 - val_loss: 0.0569 - val_categorical_accuracy: 0.9858\n",
      "Epoch 9/10\n",
      "1688/1688 [==============================] - 5s 3ms/step - loss: 0.0182 - categorical_accuracy: 0.9942 - val_loss: 0.0581 - val_categorical_accuracy: 0.9858\n",
      "Epoch 10/10\n",
      "1688/1688 [==============================] - 5s 3ms/step - loss: 0.0160 - categorical_accuracy: 0.9948 - val_loss: 0.0561 - val_categorical_accuracy: 0.9870\n"
     ]
    },
    {
     "data": {
      "text/plain": [
       "<keras.callbacks.History at 0x7fa76843b730>"
      ]
     },
     "execution_count": 11,
     "metadata": {},
     "output_type": "execute_result"
    }
   ],
   "source": [
    "#train\n",
    "model.fit(train_images, y_train, validation_split=0.1, epochs=10, batch_size=32)"
   ]
  },
  {
   "cell_type": "code",
   "execution_count": 12,
   "metadata": {
    "ExecuteTime": {
     "end_time": "2018-07-24T20:16:03.021005Z",
     "start_time": "2018-07-24T20:16:00.146697Z"
    }
   },
   "outputs": [
    {
     "name": "stdout",
     "output_type": "stream",
     "text": [
      "313/313 [==============================] - 0s 1ms/step - loss: 0.0491 - categorical_accuracy: 0.9869\n"
     ]
    },
    {
     "data": {
      "text/plain": [
       "[0.04908600449562073, 0.9868999719619751]"
      ]
     },
     "execution_count": 12,
     "metadata": {},
     "output_type": "execute_result"
    }
   ],
   "source": [
    "#evaluate on test images\n",
    "model.evaluate(test_images, y_test)"
   ]
  },
  {
   "cell_type": "code",
   "execution_count": 13,
   "metadata": {
    "ExecuteTime": {
     "end_time": "2018-07-24T20:17:14.090543Z",
     "start_time": "2018-07-24T20:16:57.436024Z"
    }
   },
   "outputs": [
    {
     "name": "stdout",
     "output_type": "stream",
     "text": [
      "313/313 [==============================] - 0s 1ms/step\n"
     ]
    }
   ],
   "source": [
    "#calculate predicted labels\n",
    "ypred = model.predict( test_images )\n",
    "ypred_class = np.argmax( ypred, axis=1 )"
   ]
  },
  {
   "cell_type": "code",
   "execution_count": 14,
   "metadata": {
    "ExecuteTime": {
     "end_time": "2018-07-24T20:17:55.445525Z",
     "start_time": "2018-07-24T20:17:55.102864Z"
    }
   },
   "outputs": [
    {
     "data": {
      "text/plain": [
       "array([[ 970,    0,    3,    1,    1,    1,    2,    0,    2,    0],\n",
       "       [   0, 1134,    0,    0,    0,    0,    0,    0,    1,    0],\n",
       "       [   2,    6, 1010,    1,    1,    0,    0,    6,    5,    1],\n",
       "       [   0,    0,    3,  998,    0,    4,    0,    2,    3,    0],\n",
       "       [   0,    1,    0,    0,  971,    0,    2,    0,    1,    7],\n",
       "       [   2,    1,    0,   10,    0,  870,    4,    0,    4,    1],\n",
       "       [   5,    3,    0,    1,    1,    1,  945,    0,    2,    0],\n",
       "       [   0,    2,    4,    1,    1,    0,    0, 1014,    2,    4],\n",
       "       [   2,    0,    0,    1,    0,    1,    0,    2,  966,    2],\n",
       "       [   0,    2,    0,    3,    5,    2,    0,    5,    1,  991]])"
      ]
     },
     "execution_count": 14,
     "metadata": {},
     "output_type": "execute_result"
    }
   ],
   "source": [
    "#print confusion matrix\n",
    "from sklearn.metrics import confusion_matrix\n",
    "confusion_matrix(test_labels , ypred_class)"
   ]
  },
  {
   "cell_type": "markdown",
   "metadata": {
    "collapsed": true
   },
   "source": [
    "## Two convolution layers"
   ]
  },
  {
   "cell_type": "markdown",
   "metadata": {
    "collapsed": true
   },
   "source": [
    "### Example\n",
    "\n",
    "Build the following model\n",
    "<center><img src=\"img/cnn_exercise.png\" width=\"100%\"></center>"
   ]
  },
  {
   "cell_type": "code",
   "execution_count": 15,
   "metadata": {
    "ExecuteTime": {
     "end_time": "2018-07-24T20:00:39.347891Z",
     "start_time": "2018-07-24T20:00:39.282963Z"
    }
   },
   "outputs": [
    {
     "name": "stdout",
     "output_type": "stream",
     "text": [
      "Model: \"sequential_2\"\n",
      "_________________________________________________________________\n",
      " Layer (type)                Output Shape              Param #   \n",
      "=================================================================\n",
      " reshape_1 (Reshape)         (None, 28, 28, 1)         0         \n",
      "                                                                 \n",
      " conv2d_1 (Conv2D)           (None, 28, 28, 32)        832       \n",
      "                                                                 \n",
      " max_pooling2d_1 (MaxPooling  (None, 14, 14, 32)       0         \n",
      " 2D)                                                             \n",
      "                                                                 \n",
      " conv2d_2 (Conv2D)           (None, 14, 14, 64)        51264     \n",
      "                                                                 \n",
      " max_pooling2d_2 (MaxPooling  (None, 7, 7, 64)         0         \n",
      " 2D)                                                             \n",
      "                                                                 \n",
      " flatten_2 (Flatten)         (None, 3136)              0         \n",
      "                                                                 \n",
      " dense_4 (Dense)             (None, 20)                62740     \n",
      "                                                                 \n",
      " dropout (Dropout)           (None, 20)                0         \n",
      "                                                                 \n",
      " dense_5 (Dense)             (None, 10)                210       \n",
      "                                                                 \n",
      "=================================================================\n",
      "Total params: 115,046\n",
      "Trainable params: 115,046\n",
      "Non-trainable params: 0\n",
      "_________________________________________________________________\n",
      "None\n"
     ]
    }
   ],
   "source": [
    "model = Sequential()\n",
    "model.add(Reshape((28,28,1), input_shape=(28,28)))\n",
    "model.add(Conv2D(filters=32, kernel_size=(5,5), padding='same', activation='relu'), )\n",
    "model.add(MaxPooling2D(pool_size=(2,2)))\n",
    "#model.add(Dropout(0.2) )\n",
    "model.add(Conv2D(filters=64, kernel_size=(5,5), padding='same', activation='relu'), )\n",
    "model.add(MaxPooling2D(pool_size=(2,2)))\n",
    "#model.add(Dropout(0.2) )\n",
    "model.add(Flatten())\n",
    "# add Dense layers\n",
    "model.add(Dense(20, activation='relu'))\n",
    "model.add(Dropout(0.2) )\n",
    "model.add(Dense(10, activation='softmax'))\n",
    "print(model.summary())"
   ]
  },
  {
   "cell_type": "code",
   "execution_count": 16,
   "metadata": {
    "ExecuteTime": {
     "end_time": "2018-07-24T20:00:39.352061Z",
     "start_time": "2018-07-24T20:00:39.349392Z"
    }
   },
   "outputs": [],
   "source": [
    "#compile the model\n",
    "model.compile(loss='categorical_crossentropy', \n",
    "              optimizer=\"adam\", metrics=['categorical_accuracy'])"
   ]
  },
  {
   "cell_type": "code",
   "execution_count": 17,
   "metadata": {},
   "outputs": [
    {
     "data": {
      "text/plain": [
       "3313"
      ]
     },
     "execution_count": 17,
     "metadata": {},
     "output_type": "execute_result"
    }
   ],
   "source": [
    "#free computer memory\n",
    "import gc\n",
    "gc.collect()"
   ]
  },
  {
   "cell_type": "code",
   "execution_count": 18,
   "metadata": {
    "ExecuteTime": {
     "end_time": "2018-07-24T20:00:39.356797Z",
     "start_time": "2018-07-24T20:00:39.354115Z"
    }
   },
   "outputs": [
    {
     "name": "stdout",
     "output_type": "stream",
     "text": [
      "Epoch 1/10\n",
      "1688/1688 [==============================] - 30s 18ms/step - loss: 0.2710 - categorical_accuracy: 0.9152 - val_loss: 0.0553 - val_categorical_accuracy: 0.9858\n",
      "Epoch 2/10\n",
      "1688/1688 [==============================] - 31s 19ms/step - loss: 0.1090 - categorical_accuracy: 0.9675 - val_loss: 0.0421 - val_categorical_accuracy: 0.9883\n",
      "Epoch 3/10\n",
      "1688/1688 [==============================] - 30s 18ms/step - loss: 0.0793 - categorical_accuracy: 0.9763 - val_loss: 0.0389 - val_categorical_accuracy: 0.9897\n",
      "Epoch 4/10\n",
      "1688/1688 [==============================] - 30s 18ms/step - loss: 0.0640 - categorical_accuracy: 0.9803 - val_loss: 0.0348 - val_categorical_accuracy: 0.9903\n",
      "Epoch 5/10\n",
      "1688/1688 [==============================] - 30s 18ms/step - loss: 0.0580 - categorical_accuracy: 0.9822 - val_loss: 0.0371 - val_categorical_accuracy: 0.9915\n",
      "Epoch 6/10\n",
      "1688/1688 [==============================] - 30s 18ms/step - loss: 0.0468 - categorical_accuracy: 0.9855 - val_loss: 0.0345 - val_categorical_accuracy: 0.9913\n",
      "Epoch 7/10\n",
      "1688/1688 [==============================] - 31s 18ms/step - loss: 0.0401 - categorical_accuracy: 0.9872 - val_loss: 0.0368 - val_categorical_accuracy: 0.9912\n",
      "Epoch 8/10\n",
      "1688/1688 [==============================] - 30s 18ms/step - loss: 0.0345 - categorical_accuracy: 0.9890 - val_loss: 0.0413 - val_categorical_accuracy: 0.9917\n",
      "Epoch 9/10\n",
      "1688/1688 [==============================] - 30s 18ms/step - loss: 0.0340 - categorical_accuracy: 0.9893 - val_loss: 0.0463 - val_categorical_accuracy: 0.9900\n",
      "Epoch 10/10\n",
      "1688/1688 [==============================] - 30s 18ms/step - loss: 0.0305 - categorical_accuracy: 0.9902 - val_loss: 0.0398 - val_categorical_accuracy: 0.9923\n"
     ]
    },
    {
     "data": {
      "text/plain": [
       "<keras.callbacks.History at 0x7fa786979ba0>"
      ]
     },
     "execution_count": 18,
     "metadata": {},
     "output_type": "execute_result"
    }
   ],
   "source": [
    "model.fit(train_images, y_train, validation_split=0.1, epochs=10, batch_size=32)"
   ]
  },
  {
   "cell_type": "code",
   "execution_count": 19,
   "metadata": {
    "ExecuteTime": {
     "end_time": "2018-07-24T20:00:39.361123Z",
     "start_time": "2018-07-24T20:00:39.359061Z"
    }
   },
   "outputs": [
    {
     "name": "stdout",
     "output_type": "stream",
     "text": [
      "313/313 [==============================] - 2s 6ms/step - loss: 0.0268 - categorical_accuracy: 0.9927\n"
     ]
    },
    {
     "data": {
      "text/plain": [
       "[0.026790399104356766, 0.9926999807357788]"
      ]
     },
     "execution_count": 19,
     "metadata": {},
     "output_type": "execute_result"
    }
   ],
   "source": [
    "#evaluate on test images\n",
    "model.evaluate(test_images, y_test)"
   ]
  },
  {
   "cell_type": "code",
   "execution_count": null,
   "metadata": {},
   "outputs": [],
   "source": []
  }
 ],
 "metadata": {
  "kernelspec": {
   "display_name": "Python 3 (ipykernel)",
   "language": "python",
   "name": "python3"
  },
  "language_info": {
   "codemirror_mode": {
    "name": "ipython",
    "version": 3
   },
   "file_extension": ".py",
   "mimetype": "text/x-python",
   "name": "python",
   "nbconvert_exporter": "python",
   "pygments_lexer": "ipython3",
   "version": "3.10.4"
  },
  "latex_envs": {
   "LaTeX_envs_menu_present": true,
   "autoclose": false,
   "autocomplete": true,
   "bibliofile": "biblio.bib",
   "cite_by": "apalike",
   "current_citInitial": 1,
   "eqLabelWithNumbers": true,
   "eqNumInitial": 1,
   "hotkeys": {
    "equation": "Ctrl-E",
    "itemize": "Ctrl-I"
   },
   "labels_anchors": false,
   "latex_user_defs": false,
   "report_style_numbering": false,
   "user_envs_cfg": false
  },
  "toc": {
   "nav_menu": {},
   "number_sections": true,
   "sideBar": true,
   "skip_h1_title": false,
   "title_cell": "Table of Contents",
   "title_sidebar": "Contents",
   "toc_cell": false,
   "toc_position": {},
   "toc_section_display": true,
   "toc_window_display": true
  }
 },
 "nbformat": 4,
 "nbformat_minor": 2
}
