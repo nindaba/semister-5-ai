{
 "cells": [
  {
   "cell_type": "markdown",
   "metadata": {},
   "source": [
    "<div style=\"font-size: 14pt;\">Prof. Krzysztof Rybinski</div><br/><br/>\n",
    "<div style=\"font-size: 22pt;\"><b>Artificial Intelligence course</b></div><br/><br/>\n",
    "<div style=\"font-size: 18pt;\">LAB 6.1</div><br/>\n",
    "<div style=\"font-size: 18pt;\">- Programming Multilayer perception (MLP) in Keras</div><br/><br/>"
   ]
  },
  {
   "cell_type": "code",
   "execution_count": 1,
   "metadata": {
    "ExecuteTime": {
     "end_time": "2018-07-24T06:57:17.877024Z",
     "start_time": "2018-07-24T06:57:16.271285Z"
    }
   },
   "outputs": [
    {
     "name": "stderr",
     "output_type": "stream",
     "text": [
      "2023-03-22 08:45:18.213313: I tensorflow/core/platform/cpu_feature_guard.cc:193] This TensorFlow binary is optimized with oneAPI Deep Neural Network Library (oneDNN) to use the following CPU instructions in performance-critical operations:  SSE4.1 SSE4.2\n",
      "To enable them in other operations, rebuild TensorFlow with the appropriate compiler flags.\n"
     ]
    }
   ],
   "source": [
    "import keras\n",
    "\n",
    "import numpy as np\n",
    "from matplotlib import pyplot as plt\n",
    "import os"
   ]
  },
  {
   "cell_type": "code",
   "execution_count": 2,
   "metadata": {},
   "outputs": [
    {
     "data": {
      "text/plain": [
       "'/Users/nindaba/Documents/vistula/semister-5/ai/Lab-6'"
      ]
     },
     "execution_count": 2,
     "metadata": {},
     "output_type": "execute_result"
    }
   ],
   "source": [
    "os.getcwd()"
   ]
  },
  {
   "cell_type": "markdown",
   "metadata": {
    "heading_collapsed": true
   },
   "source": [
    "# Multilayer Perceptron (MLP)\n",
    "\n",
    "<center><img width=\"400\" src=\"https://dzone.com/storage/temp/3627042-mlp-network.png\"></center>\n",
    "(https://dzone.com/articles/deep-learning-via-multilayer-perceptron-classifier)"
   ]
  },
  {
   "cell_type": "markdown",
   "metadata": {
    "heading_collapsed": true
   },
   "source": [
    "# Building your first neural network in keras\n",
    "\n",
    "In this exercise you will build MLP using **keras**.\n",
    "Remember that there are three parts to implement a keras model:\n",
    "\n",
    "- Create the computation graph (using models.Sequential)\n",
    "- Compile the model\n",
    "- Run the graph (using Tensorflow backend)\n",
    "\n",
    "\n",
    "## Problem statement: LFW Faces\n",
    "<center><img src=\"img/faces.png\" width=\"50%\"></center>\n",
    "Labeled Faces in the Wild, a database of face photographs designed for studying the problem of unconstrained face recognition. The data set contains more than 13,000 images of faces collected from the web. \n",
    "Each face has been labeled with the name of the person pictured. 1680 of the people pictured have two or more distinct photos in the data set. The only constraint on these faces is that they were detected by the Viola-Jones face detector. More details can be found in the technical report http://vis-www.cs.umass.edu/lfw/\n",
    "\n",
    "**Dataset subset (min_faces_per_person=70, resize=0.4)**\n",
    "- 1288 images of size 50x37"
   ]
  },
  {
   "cell_type": "markdown",
   "metadata": {},
   "source": [
    "check how grey scale images are stored on a computer <br/>\n",
    "https://www.analyticsvidhya.com/blog/2021/03/grayscale-and-rgb-format-for-storing-images/"
   ]
  },
  {
   "cell_type": "code",
   "execution_count": null,
   "metadata": {
    "ExecuteTime": {
     "end_time": "2018-07-24T06:57:19.970932Z",
     "start_time": "2018-07-24T06:57:19.892426Z"
    },
    "hidden": true
   },
   "outputs": [],
   "source": [
    "# Download dataset\n",
    "from sklearn import datasets\n",
    "lfw_people = datasets.fetch_lfw_people(min_faces_per_person=70, resize=0.4)\n",
    "\n",
    "n_samples, h, w = lfw_people.images.shape\n",
    "print(n_samples, h, w)"
   ]
  },
  {
   "cell_type": "markdown",
   "metadata": {
    "hidden": true
   },
   "source": [
    "We have 1288 pictures (50x37 = 1850, grey scale) with faces. Let's plot picture nr 6."
   ]
  },
  {
   "cell_type": "code",
   "execution_count": null,
   "metadata": {
    "ExecuteTime": {
     "end_time": "2018-07-24T06:57:20.779513Z",
     "start_time": "2018-07-24T06:57:20.676983Z"
    },
    "hidden": true
   },
   "outputs": [],
   "source": [
    "ind = 6\n",
    "plt.imshow( lfw_people.images[ind] , cmap='gray')\n",
    "plt.show()\n",
    "print( lfw_people.target[ind] , lfw_people.target_names[lfw_people.target[ind]] )"
   ]
  },
  {
   "cell_type": "code",
   "execution_count": null,
   "metadata": {
    "ExecuteTime": {
     "end_time": "2018-07-24T06:57:21.205651Z",
     "start_time": "2018-07-24T06:57:21.202936Z"
    },
    "hidden": true
   },
   "outputs": [],
   "source": [
    "X = lfw_people.data\n",
    "y = lfw_people.target\n",
    "\n",
    "n_features = X.shape[1]\n",
    "target_names = lfw_people.target_names"
   ]
  },
  {
   "cell_type": "code",
   "execution_count": null,
   "metadata": {},
   "outputs": [],
   "source": [
    "X.shape, y.shape"
   ]
  },
  {
   "cell_type": "code",
   "execution_count": null,
   "metadata": {},
   "outputs": [],
   "source": [
    "50*37"
   ]
  },
  {
   "cell_type": "code",
   "execution_count": null,
   "metadata": {},
   "outputs": [],
   "source": [
    "y[6], lfw_people.target_names[lfw_people.target[6]]"
   ]
  },
  {
   "cell_type": "code",
   "execution_count": null,
   "metadata": {
    "ExecuteTime": {
     "end_time": "2018-07-24T06:57:21.685673Z",
     "start_time": "2018-07-24T06:57:21.681483Z"
    },
    "hidden": true
   },
   "outputs": [],
   "source": [
    "(X[6], X[6].shape) #the picture is flattened into a flat vector\n"
   ]
  },
  {
   "cell_type": "code",
   "execution_count": null,
   "metadata": {
    "ExecuteTime": {
     "end_time": "2018-07-24T06:57:22.694868Z",
     "start_time": "2018-07-24T06:57:22.688515Z"
    },
    "hidden": true
   },
   "outputs": [],
   "source": [
    "np.unique(y,return_counts=True)"
   ]
  },
  {
   "cell_type": "code",
   "execution_count": null,
   "metadata": {},
   "outputs": [],
   "source": [
    "target_names"
   ]
  },
  {
   "cell_type": "markdown",
   "metadata": {
    "hidden": true
   },
   "source": [
    "Convert y to one-hot coding"
   ]
  },
  {
   "cell_type": "code",
   "execution_count": null,
   "metadata": {
    "ExecuteTime": {
     "end_time": "2018-07-24T06:57:38.709686Z",
     "start_time": "2018-07-24T06:57:38.703841Z"
    },
    "hidden": true
   },
   "outputs": [],
   "source": [
    "y = keras.utils.to_categorical(y)\n",
    "y"
   ]
  },
  {
   "cell_type": "code",
   "execution_count": null,
   "metadata": {
    "ExecuteTime": {
     "end_time": "2018-07-24T06:57:41.346728Z",
     "start_time": "2018-07-24T06:57:41.341858Z"
    },
    "hidden": true
   },
   "outputs": [],
   "source": [
    "y.shape"
   ]
  },
  {
   "cell_type": "code",
   "execution_count": null,
   "metadata": {
    "ExecuteTime": {
     "end_time": "2018-07-24T06:57:43.215039Z",
     "start_time": "2018-07-24T06:57:43.212118Z"
    },
    "hidden": true
   },
   "outputs": [],
   "source": [
    "n_classes = y.shape[1]"
   ]
  },
  {
   "cell_type": "code",
   "execution_count": null,
   "metadata": {
    "ExecuteTime": {
     "end_time": "2018-07-24T06:57:48.766291Z",
     "start_time": "2018-07-24T06:57:48.744432Z"
    },
    "hidden": true
   },
   "outputs": [],
   "source": [
    "from sklearn.model_selection import train_test_split\n",
    "X_train, X_test, y_train, y_test = train_test_split(X, y, test_size=0.25)"
   ]
  },
  {
   "cell_type": "code",
   "execution_count": null,
   "metadata": {
    "ExecuteTime": {
     "end_time": "2018-07-24T06:57:51.326463Z",
     "start_time": "2018-07-24T06:57:51.320483Z"
    },
    "hidden": true
   },
   "outputs": [],
   "source": [
    "X_train.shape"
   ]
  },
  {
   "cell_type": "markdown",
   "metadata": {},
   "source": [
    "How grey scale and color images are coded for deep learning <br/>\n",
    "https://towardsdatascience.com/exploring-the-mnist-digits-dataset-7ff62631766a"
   ]
  },
  {
   "cell_type": "code",
   "execution_count": null,
   "metadata": {
    "ExecuteTime": {
     "end_time": "2018-07-24T06:57:54.939630Z",
     "start_time": "2018-07-24T06:57:54.927290Z"
    },
    "hidden": true
   },
   "outputs": [],
   "source": [
    "X_train = np.array([x.reshape((h, w, 1)) for x in X_train])\n",
    "X_test  = np.array([x.reshape((h, w, 1)) for x in X_test])\n",
    "\n",
    "X_train = X_train / 255\n",
    "X_test = X_test / 255"
   ]
  },
  {
   "cell_type": "code",
   "execution_count": null,
   "metadata": {
    "ExecuteTime": {
     "end_time": "2018-07-24T06:57:57.209674Z",
     "start_time": "2018-07-24T06:57:57.204050Z"
    },
    "hidden": true
   },
   "outputs": [],
   "source": [
    "X_train.shape"
   ]
  },
  {
   "cell_type": "code",
   "execution_count": null,
   "metadata": {
    "ExecuteTime": {
     "end_time": "2018-07-24T06:57:59.340346Z",
     "start_time": "2018-07-24T06:57:59.334120Z"
    },
    "hidden": true,
    "scrolled": true
   },
   "outputs": [],
   "source": [
    "X_train[0]"
   ]
  },
  {
   "cell_type": "code",
   "execution_count": null,
   "metadata": {
    "ExecuteTime": {
     "end_time": "2018-07-24T06:58:18.612631Z",
     "start_time": "2018-07-24T06:58:18.332540Z"
    },
    "hidden": true
   },
   "outputs": [],
   "source": [
    "images = X_train[:12]\n",
    "n_col = 4\n",
    "n_row = 3\n",
    "plt.figure(figsize=(1.8 * n_col, 2.4 * n_row))\n",
    "plt.subplots_adjust(bottom=0, left=.01, right=.99, top=.90, hspace=.35)\n",
    "for i in range(n_row * n_col):\n",
    "    plt.subplot(n_row, n_col, i + 1)\n",
    "    plt.imshow(images[i][:,:,0], cmap=plt.cm.gray)\n",
    "    plt.title(target_names[np.argmax(y_train[i])])\n",
    "    plt.xticks(())\n",
    "    plt.yticks(())    \n",
    "plt.show()"
   ]
  },
  {
   "cell_type": "code",
   "execution_count": null,
   "metadata": {
    "ExecuteTime": {
     "end_time": "2018-07-24T06:58:26.959571Z",
     "start_time": "2018-07-24T06:58:26.954944Z"
    },
    "hidden": true
   },
   "outputs": [],
   "source": [
    "(X_train.shape, y_train.shape)"
   ]
  },
  {
   "cell_type": "code",
   "execution_count": null,
   "metadata": {
    "ExecuteTime": {
     "end_time": "2018-07-24T06:58:28.003605Z",
     "start_time": "2018-07-24T06:58:27.997606Z"
    },
    "hidden": true
   },
   "outputs": [],
   "source": [
    "X_test.shape, y_test.shape"
   ]
  },
  {
   "cell_type": "markdown",
   "metadata": {},
   "source": [
    "# MLP model in keras using Dense layers\n"
   ]
  },
  {
   "cell_type": "code",
   "execution_count": null,
   "metadata": {
    "ExecuteTime": {
     "end_time": "2018-11-14T12:38:29.414835Z",
     "start_time": "2018-11-14T12:38:29.410137Z"
    }
   },
   "outputs": [],
   "source": [
    "from keras.models import Sequential\n",
    "from keras.layers import Dense, Flatten"
   ]
  },
  {
   "cell_type": "code",
   "execution_count": null,
   "metadata": {},
   "outputs": [],
   "source": [
    "#Check Keras models and layers\n",
    "#links in the presentation of lecture 6"
   ]
  },
  {
   "cell_type": "code",
   "execution_count": null,
   "metadata": {
    "ExecuteTime": {
     "end_time": "2018-11-14T12:38:49.248613Z",
     "start_time": "2018-11-14T12:38:49.203273Z"
    }
   },
   "outputs": [],
   "source": [
    "model = Sequential()\n",
    "\n",
    "model.add( Flatten(input_shape=(50,37,1)))\n",
    "#model.add( Dense(units=1000, activation='tanh') )\n",
    "#model.add( Dense(500, activation='tanh') )\n",
    "#model.add( Dense(200, activation='tanh'))\n",
    "model.add( Dense(100, activation='tanh'))\n",
    "model.add( Dense(n_classes, activation='softmax'))\n",
    "\n",
    "print(model.summary())"
   ]
  },
  {
   "cell_type": "code",
   "execution_count": null,
   "metadata": {
    "ExecuteTime": {
     "end_time": "2018-11-14T12:38:49.429648Z",
     "start_time": "2018-11-14T12:38:49.391524Z"
    }
   },
   "outputs": [],
   "source": [
    "# compile the model\n",
    "model.compile(\n",
    "    loss      = 'categorical_crossentropy',\n",
    "    optimizer = 'adam',\n",
    "    metrics   = ['acc'] )"
   ]
  },
  {
   "cell_type": "code",
   "execution_count": null,
   "metadata": {
    "ExecuteTime": {
     "end_time": "2018-11-14T12:39:03.846203Z",
     "start_time": "2018-11-14T12:38:49.592122Z"
    }
   },
   "outputs": [],
   "source": [
    "# train\n",
    "model.fit(\n",
    "    x = X_train, # training_data\n",
    "    y = y_train, # training_labels\n",
    "    batch_size = 32, epochs = 100, verbose = 1 )"
   ]
  },
  {
   "cell_type": "code",
   "execution_count": null,
   "metadata": {
    "ExecuteTime": {
     "end_time": "2018-11-14T12:39:03.955139Z",
     "start_time": "2018-11-14T12:39:03.848800Z"
    }
   },
   "outputs": [],
   "source": [
    "# evaluate\n",
    "model.evaluate(\n",
    "    x = X_test,\n",
    "    y = y_test,\n",
    "    batch_size = 8 , verbose = 1)"
   ]
  },
  {
   "cell_type": "code",
   "execution_count": null,
   "metadata": {},
   "outputs": [],
   "source": [
    "#Add more layers, change layer size, run the model again"
   ]
  },
  {
   "cell_type": "markdown",
   "metadata": {},
   "source": [
    "## Exercise 1\n",
    "\n",
    "Try classification using logistic regression <br/> \n",
    "0-layer or 1-layer NN, counting output layer as one <br/> \n",
    "Remember to flatten the inputs"
   ]
  },
  {
   "cell_type": "code",
   "execution_count": null,
   "metadata": {
    "ExecuteTime": {
     "end_time": "2018-11-14T12:47:15.711195Z",
     "start_time": "2018-11-14T12:47:07.587983Z"
    }
   },
   "outputs": [],
   "source": [
    "model = Sequential()\n",
    "\n",
    "model.add( Flatten(input_shape=(50,37,1)))\n",
    "#model.add( Dense(100, activation='tanh') )\n",
    "model.add( Dense(n_classes, activation='softmax'))\n",
    "\n",
    "print(model.summary())\n",
    "\n",
    "# compile\n",
    "model.compile(\n",
    "    loss      = 'categorical_crossentropy',\n",
    "    optimizer = 'adam',\n",
    "    metrics   = ['acc'] )\n",
    "\n",
    "\n",
    "# train\n",
    "model.fit(\n",
    "    x = X_train, # training_data\n",
    "    y = y_train, # training_labels\n",
    "    batch_size = 32, epochs = 100,  validation_split=0.1, verbose = 1 )"
   ]
  },
  {
   "cell_type": "code",
   "execution_count": null,
   "metadata": {
    "ExecuteTime": {
     "end_time": "2018-11-14T12:47:15.711195Z",
     "start_time": "2018-11-14T12:47:07.587983Z"
    }
   },
   "outputs": [],
   "source": [
    "# evaluate\n",
    "model.evaluate(\n",
    "    x = X_test,\n",
    "    y = y_test,\n",
    "    batch_size = 8 , verbose = 1)"
   ]
  },
  {
   "cell_type": "code",
   "execution_count": null,
   "metadata": {},
   "outputs": [],
   "source": [
    "#plot 12 first test images\n",
    "images = X_test[:12]\n",
    "n_col = 4\n",
    "n_row = 3\n",
    "plt.figure(figsize=(1.8 * n_col, 2.4 * n_row))\n",
    "plt.subplots_adjust(bottom=0, left=.01, right=.99, top=.90, hspace=.35)\n",
    "for i in range(n_row * n_col):\n",
    "    plt.subplot(n_row, n_col, i + 1)\n",
    "    plt.imshow(images[i][:,:,0], cmap=plt.cm.gray)\n",
    "    plt.title(target_names[np.argmax(y_test[i])])\n",
    "    plt.xticks(())\n",
    "    plt.yticks(())    \n",
    "plt.show()"
   ]
  },
  {
   "cell_type": "code",
   "execution_count": null,
   "metadata": {},
   "outputs": [],
   "source": [
    "pred = np.argmax(model.predict(X_test[0:12]), axis=-1)\n",
    "target_names[pred]"
   ]
  },
  {
   "cell_type": "code",
   "execution_count": null,
   "metadata": {},
   "outputs": [],
   "source": []
  },
  {
   "cell_type": "markdown",
   "metadata": {},
   "source": [
    "## Exercise 2\n",
    "<br/>\n",
    "Add callback `EarlyStopping`"
   ]
  },
  {
   "cell_type": "code",
   "execution_count": null,
   "metadata": {
    "ExecuteTime": {
     "end_time": "2018-11-14T12:52:46.555748Z",
     "start_time": "2018-11-14T12:52:43.493900Z"
    }
   },
   "outputs": [],
   "source": [
    "from keras.callbacks import EarlyStopping\n",
    "\n",
    "early_stopping = EarlyStopping(patience=5, monitor=\"val_loss\", verbose=1)\n",
    "\n",
    "\n",
    "model = Sequential()\n",
    "\n",
    "model.add( Flatten(input_shape=(50,37,1)))\n",
    "model.add( Dense(100, activation='tanh') )\n",
    "model.add( Dense(n_classes, activation='softmax'))\n",
    "\n",
    "print(model.summary())"
   ]
  },
  {
   "cell_type": "code",
   "execution_count": null,
   "metadata": {
    "ExecuteTime": {
     "end_time": "2018-11-14T12:52:46.555748Z",
     "start_time": "2018-11-14T12:52:43.493900Z"
    }
   },
   "outputs": [],
   "source": [
    "model.compile(\n",
    "    loss      = 'categorical_crossentropy',\n",
    "    optimizer = 'adam',\n",
    "    metrics   = ['acc'] )\n",
    "\n",
    "\n",
    "model.fit(X_train, y_train, validation_split=0.1, epochs=100, callbacks=[early_stopping])\n",
    "\n",
    "model.evaluate(X_test,y_test) # returns loss and metrics"
   ]
  },
  {
   "cell_type": "markdown",
   "metadata": {},
   "source": [
    "## Exercise 3\n",
    "<br/>\n",
    "Add callback `ModelCheckpoint`"
   ]
  },
  {
   "cell_type": "code",
   "execution_count": null,
   "metadata": {
    "ExecuteTime": {
     "end_time": "2018-11-14T12:56:19.241757Z",
     "start_time": "2018-11-14T12:56:19.238356Z"
    }
   },
   "outputs": [],
   "source": [
    "from keras.callbacks import ModelCheckpoint\n",
    "take_best_model = ModelCheckpoint(\"my_model.h5py\", save_best_only=True, verbose=1)"
   ]
  },
  {
   "cell_type": "markdown",
   "metadata": {
    "collapsed": true
   },
   "source": [
    "Repeat exercise 2 but do evaluation using best model (for lowest validation loss epoch)"
   ]
  },
  {
   "cell_type": "code",
   "execution_count": null,
   "metadata": {
    "ExecuteTime": {
     "end_time": "2018-11-14T13:00:45.380490Z",
     "start_time": "2018-11-14T13:00:41.151274Z"
    }
   },
   "outputs": [],
   "source": [
    "from keras.callbacks import EarlyStopping\n",
    "\n",
    "early_stopping = EarlyStopping(patience=5, monitor=\"val_loss\", verbose=1)\n",
    "\n",
    "\n",
    "model = Sequential()\n",
    "\n",
    "model.add( Flatten(input_shape=(50,37,1)))\n",
    "model.add( Dense(100, activation='tanh') )\n",
    "model.add( Dense(n_classes, activation='softmax'))\n",
    "\n",
    "print(model.summary())"
   ]
  },
  {
   "cell_type": "code",
   "execution_count": null,
   "metadata": {
    "ExecuteTime": {
     "end_time": "2018-11-14T13:00:45.380490Z",
     "start_time": "2018-11-14T13:00:41.151274Z"
    }
   },
   "outputs": [],
   "source": [
    "model.compile(\n",
    "    loss      = 'categorical_crossentropy',\n",
    "    optimizer = 'adam',\n",
    "    metrics   = ['acc'] )\n",
    "\n",
    "\n",
    "model.fit(X_train, y_train, validation_split=0.1, epochs=100, callbacks=[early_stopping, take_best_model])"
   ]
  },
  {
   "cell_type": "code",
   "execution_count": null,
   "metadata": {
    "ExecuteTime": {
     "end_time": "2018-11-14T13:00:45.380490Z",
     "start_time": "2018-11-14T13:00:41.151274Z"
    }
   },
   "outputs": [],
   "source": [
    "model.evaluate(X_test,y_test) # returns loss and metrics"
   ]
  },
  {
   "cell_type": "code",
   "execution_count": null,
   "metadata": {},
   "outputs": [],
   "source": [
    "#load best model\n",
    "model_best = keras.models.load_model(\"D:/A1/_Priv/Vistula_AI_course_2023/Python/my_model.h5py\")"
   ]
  },
  {
   "cell_type": "code",
   "execution_count": null,
   "metadata": {},
   "outputs": [],
   "source": [
    "model_best.evaluate(X_test,y_test) # returns loss and metrics"
   ]
  },
  {
   "cell_type": "code",
   "execution_count": null,
   "metadata": {},
   "outputs": [],
   "source": []
  }
 ],
 "metadata": {
  "kernelspec": {
   "display_name": "Python 3 (ipykernel)",
   "language": "python",
   "name": "python3"
  },
  "language_info": {
   "codemirror_mode": {
    "name": "ipython",
    "version": 3
   },
   "file_extension": ".py",
   "mimetype": "text/x-python",
   "name": "python",
   "nbconvert_exporter": "python",
   "pygments_lexer": "ipython3",
   "version": "3.10.4"
  },
  "latex_envs": {
   "LaTeX_envs_menu_present": true,
   "autoclose": false,
   "autocomplete": true,
   "bibliofile": "biblio.bib",
   "cite_by": "apalike",
   "current_citInitial": 1,
   "eqLabelWithNumbers": true,
   "eqNumInitial": 1,
   "hotkeys": {
    "equation": "Ctrl-E",
    "itemize": "Ctrl-I"
   },
   "labels_anchors": false,
   "latex_user_defs": false,
   "report_style_numbering": false,
   "user_envs_cfg": false
  },
  "toc": {
   "nav_menu": {},
   "number_sections": true,
   "sideBar": true,
   "skip_h1_title": false,
   "title_cell": "Table of Contents",
   "title_sidebar": "Contents",
   "toc_cell": false,
   "toc_position": {},
   "toc_section_display": true,
   "toc_window_display": true
  }
 },
 "nbformat": 4,
 "nbformat_minor": 2
}
