{
 "cells": [
  {
   "cell_type": "markdown",
   "metadata": {},
   "source": [
    "<div style=\"font-size: 14pt;\">Prof. Krzysztof Rybinski</div><br/><br/>\n",
    "<div style=\"font-size: 22pt;\"><b>Artificial Intelligence course</b></div><br/><br/>\n",
    "<div style=\"font-size: 18pt;\">LAB 6.1</div><br/>\n",
    "<div style=\"font-size: 18pt;\">- Programming Multilayer perception (MLP) in Keras</div><br/><br/>"
   ]
  },
  {
   "cell_type": "code",
   "execution_count": 1,
   "metadata": {
    "ExecuteTime": {
     "end_time": "2018-07-24T06:57:17.877024Z",
     "start_time": "2018-07-24T06:57:16.271285Z"
    }
   },
   "outputs": [
    {
     "name": "stderr",
     "output_type": "stream",
     "text": [
      "2023-03-22 08:51:00.773540: I tensorflow/core/platform/cpu_feature_guard.cc:193] This TensorFlow binary is optimized with oneAPI Deep Neural Network Library (oneDNN) to use the following CPU instructions in performance-critical operations:  SSE4.1 SSE4.2\n",
      "To enable them in other operations, rebuild TensorFlow with the appropriate compiler flags.\n"
     ]
    }
   ],
   "source": [
    "import keras\n",
    "\n",
    "import numpy as np\n",
    "from matplotlib import pyplot as plt\n",
    "import os"
   ]
  },
  {
   "cell_type": "code",
   "execution_count": 2,
   "metadata": {},
   "outputs": [
    {
     "data": {
      "text/plain": [
       "'/Users/nindaba/Documents/vistula/semister-5/ai/Lab-6'"
      ]
     },
     "execution_count": 2,
     "metadata": {},
     "output_type": "execute_result"
    }
   ],
   "source": [
    "os.getcwd()"
   ]
  },
  {
   "cell_type": "markdown",
   "metadata": {
    "heading_collapsed": true
   },
   "source": [
    "# Multilayer Perceptron (MLP)\n",
    "\n",
    "<center><img width=\"400\" src=\"https://dzone.com/storage/temp/3627042-mlp-network.png\"></center>\n",
    "(https://dzone.com/articles/deep-learning-via-multilayer-perceptron-classifier)"
   ]
  },
  {
   "cell_type": "markdown",
   "metadata": {
    "heading_collapsed": true
   },
   "source": [
    "# Building your first neural network in keras\n",
    "\n",
    "In this exercise you will build MLP using **keras**.\n",
    "Remember that there are three parts to implement a keras model:\n",
    "\n",
    "- Create the computation graph (using models.Sequential)\n",
    "- Compile the model\n",
    "- Run the graph (using Tensorflow backend)\n",
    "\n",
    "\n",
    "## Problem statement: LFW Faces\n",
    "<center><img src=\"img/faces.png\" width=\"50%\"></center>\n",
    "Labeled Faces in the Wild, a database of face photographs designed for studying the problem of unconstrained face recognition. The data set contains more than 13,000 images of faces collected from the web. \n",
    "Each face has been labeled with the name of the person pictured. 1680 of the people pictured have two or more distinct photos in the data set. The only constraint on these faces is that they were detected by the Viola-Jones face detector. More details can be found in the technical report http://vis-www.cs.umass.edu/lfw/\n",
    "\n",
    "**Dataset subset (min_faces_per_person=70, resize=0.4)**\n",
    "- 1288 images of size 50x37"
   ]
  },
  {
   "cell_type": "markdown",
   "metadata": {},
   "source": [
    "check how grey scale images are stored on a computer <br/>\n",
    "https://www.analyticsvidhya.com/blog/2021/03/grayscale-and-rgb-format-for-storing-images/"
   ]
  },
  {
   "cell_type": "code",
   "execution_count": 3,
   "metadata": {
    "ExecuteTime": {
     "end_time": "2018-07-24T06:57:19.970932Z",
     "start_time": "2018-07-24T06:57:19.892426Z"
    },
    "hidden": true
   },
   "outputs": [
    {
     "name": "stdout",
     "output_type": "stream",
     "text": [
      "1288 50 37\n"
     ]
    }
   ],
   "source": [
    "# Download dataset\n",
    "from sklearn import datasets\n",
    "lfw_people = datasets.fetch_lfw_people(min_faces_per_person=70, resize=0.4)\n",
    "\n",
    "n_samples, h, w = lfw_people.images.shape\n",
    "print(n_samples, h, w)"
   ]
  },
  {
   "cell_type": "markdown",
   "metadata": {
    "hidden": true
   },
   "source": [
    "We have 1288 pictures (50x37 = 1850, grey scale) with faces. Let's plot picture nr 6."
   ]
  },
  {
   "cell_type": "code",
   "execution_count": 4,
   "metadata": {
    "ExecuteTime": {
     "end_time": "2018-07-24T06:57:20.779513Z",
     "start_time": "2018-07-24T06:57:20.676983Z"
    },
    "hidden": true
   },
   "outputs": [
    {
     "data": {
      "image/png": "[encoded data removed]",
      "text/plain": [
       "<Figure size 432x288 with 1 Axes>"
      ]
     },
     "metadata": {
      "needs_background": "light"
     },
     "output_type": "display_data"
    },
    {
     "name": "stdout",
     "output_type": "stream",
     "text": [
      "3 George W Bush\n"
     ]
    }
   ],
   "source": [
    "ind = 6\n",
    "plt.imshow( lfw_people.images[ind] , cmap='gray')\n",
    "plt.show()\n",
    "print( lfw_people.target[ind] , lfw_people.target_names[lfw_people.target[ind]] )"
   ]
  },
  {
   "cell_type": "code",
   "execution_count": 5,
   "metadata": {
    "ExecuteTime": {
     "end_time": "2018-07-24T06:57:21.205651Z",
     "start_time": "2018-07-24T06:57:21.202936Z"
    },
    "hidden": true
   },
   "outputs": [],
   "source": [
    "X = lfw_people.data\n",
    "y = lfw_people.target\n",
    "\n",
    "n_features = X.shape[1]\n",
    "target_names = lfw_people.target_names"
   ]
  },
  {
   "cell_type": "code",
   "execution_count": 6,
   "metadata": {},
   "outputs": [
    {
     "data": {
      "text/plain": [
       "((1288, 1850), (1288,))"
      ]
     },
     "execution_count": 6,
     "metadata": {},
     "output_type": "execute_result"
    }
   ],
   "source": [
    "X.shape, y.shape"
   ]
  },
  {
   "cell_type": "code",
   "execution_count": 7,
   "metadata": {},
   "outputs": [
    {
     "data": {
      "text/plain": [
       "1850"
      ]
     },
     "execution_count": 7,
     "metadata": {},
     "output_type": "execute_result"
    }
   ],
   "source": [
    "50*37"
   ]
  },
  {
   "cell_type": "code",
   "execution_count": 8,
   "metadata": {},
   "outputs": [
    {
     "data": {
      "text/plain": [
       "(3, 'George W Bush')"
      ]
     },
     "execution_count": 8,
     "metadata": {},
     "output_type": "execute_result"
    }
   ],
   "source": [
    "y[6], lfw_people.target_names[lfw_people.target[6]]"
   ]
  },
  {
   "cell_type": "code",
   "execution_count": 9,
   "metadata": {
    "ExecuteTime": {
     "end_time": "2018-07-24T06:57:21.685673Z",
     "start_time": "2018-07-24T06:57:21.681483Z"
    },
    "hidden": true
   },
   "outputs": [
    {
     "data": {
      "text/plain": [
       "(array([73.333336, 83.333336, 88.333336, ..., 25.666666, 24.333334,\n",
       "        22.333334], dtype=float32),\n",
       " (1850,))"
      ]
     },
     "execution_count": 9,
     "metadata": {},
     "output_type": "execute_result"
    }
   ],
   "source": [
    "(X[6], X[6].shape) #the picture is flattened into a flat vector\n"
   ]
  },
  {
   "cell_type": "code",
   "execution_count": 10,
   "metadata": {
    "ExecuteTime": {
     "end_time": "2018-07-24T06:57:22.694868Z",
     "start_time": "2018-07-24T06:57:22.688515Z"
    },
    "hidden": true
   },
   "outputs": [
    {
     "data": {
      "text/plain": [
       "(array([0, 1, 2, 3, 4, 5, 6]), array([ 77, 236, 121, 530, 109,  71, 144]))"
      ]
     },
     "execution_count": 10,
     "metadata": {},
     "output_type": "execute_result"
    }
   ],
   "source": [
    "np.unique(y,return_counts=True)"
   ]
  },
  {
   "cell_type": "code",
   "execution_count": 11,
   "metadata": {},
   "outputs": [
    {
     "data": {
      "text/plain": [
       "array(['Ariel Sharon', 'Colin Powell', 'Donald Rumsfeld', 'George W Bush',\n",
       "       'Gerhard Schroeder', 'Hugo Chavez', 'Tony Blair'], dtype='<U17')"
      ]
     },
     "execution_count": 11,
     "metadata": {},
     "output_type": "execute_result"
    }
   ],
   "source": [
    "target_names"
   ]
  },
  {
   "cell_type": "markdown",
   "metadata": {
    "hidden": true
   },
   "source": [
    "Convert y to one-hot coding"
   ]
  },
  {
   "cell_type": "code",
   "execution_count": 12,
   "metadata": {
    "ExecuteTime": {
     "end_time": "2018-07-24T06:57:38.709686Z",
     "start_time": "2018-07-24T06:57:38.703841Z"
    },
    "hidden": true
   },
   "outputs": [
    {
     "data": {
      "text/plain": [
       "array([[0., 0., 0., ..., 0., 1., 0.],\n",
       "       [0., 0., 0., ..., 0., 0., 1.],\n",
       "       [0., 0., 0., ..., 0., 0., 0.],\n",
       "       ...,\n",
       "       [0., 0., 0., ..., 0., 1., 0.],\n",
       "       [0., 0., 0., ..., 0., 0., 0.],\n",
       "       [0., 0., 0., ..., 0., 1., 0.]], dtype=float32)"
      ]
     },
     "execution_count": 12,
     "metadata": {},
     "output_type": "execute_result"
    }
   ],
   "source": [
    "y = keras.utils.to_categorical(y)\n",
    "y"
   ]
  },
  {
   "cell_type": "code",
   "execution_count": 13,
   "metadata": {
    "ExecuteTime": {
     "end_time": "2018-07-24T06:57:41.346728Z",
     "start_time": "2018-07-24T06:57:41.341858Z"
    },
    "hidden": true
   },
   "outputs": [
    {
     "data": {
      "text/plain": [
       "(1288, 7)"
      ]
     },
     "execution_count": 13,
     "metadata": {},
     "output_type": "execute_result"
    }
   ],
   "source": [
    "y.shape"
   ]
  },
  {
   "cell_type": "code",
   "execution_count": 14,
   "metadata": {
    "ExecuteTime": {
     "end_time": "2018-07-24T06:57:43.215039Z",
     "start_time": "2018-07-24T06:57:43.212118Z"
    },
    "hidden": true
   },
   "outputs": [],
   "source": [
    "n_classes = y.shape[1]"
   ]
  },
  {
   "cell_type": "code",
   "execution_count": 15,
   "metadata": {
    "ExecuteTime": {
     "end_time": "2018-07-24T06:57:48.766291Z",
     "start_time": "2018-07-24T06:57:48.744432Z"
    },
    "hidden": true
   },
   "outputs": [],
   "source": [
    "from sklearn.model_selection import train_test_split\n",
    "X_train, X_test, y_train, y_test = train_test_split(X, y, test_size=0.25)"
   ]
  },
  {
   "cell_type": "code",
   "execution_count": 16,
   "metadata": {
    "ExecuteTime": {
     "end_time": "2018-07-24T06:57:51.326463Z",
     "start_time": "2018-07-24T06:57:51.320483Z"
    },
    "hidden": true
   },
   "outputs": [
    {
     "data": {
      "text/plain": [
       "(966, 1850)"
      ]
     },
     "execution_count": 16,
     "metadata": {},
     "output_type": "execute_result"
    }
   ],
   "source": [
    "X_train.shape"
   ]
  },
  {
   "cell_type": "markdown",
   "metadata": {},
   "source": [
    "How grey scale and color images are coded for deep learning <br/>\n",
    "https://towardsdatascience.com/exploring-the-mnist-digits-dataset-7ff62631766a"
   ]
  },
  {
   "cell_type": "code",
   "execution_count": 17,
   "metadata": {
    "ExecuteTime": {
     "end_time": "2018-07-24T06:57:54.939630Z",
     "start_time": "2018-07-24T06:57:54.927290Z"
    },
    "hidden": true
   },
   "outputs": [],
   "source": [
    "X_train = np.array([x.reshape((h, w, 1)) for x in X_train])\n",
    "X_test  = np.array([x.reshape((h, w, 1)) for x in X_test])\n",
    "\n",
    "X_train = X_train / 255\n",
    "X_test = X_test / 255"
   ]
  },
  {
   "cell_type": "code",
   "execution_count": 18,
   "metadata": {
    "ExecuteTime": {
     "end_time": "2018-07-24T06:57:57.209674Z",
     "start_time": "2018-07-24T06:57:57.204050Z"
    },
    "hidden": true
   },
   "outputs": [
    {
     "data": {
      "text/plain": [
       "(966, 50, 37, 1)"
      ]
     },
     "execution_count": 18,
     "metadata": {},
     "output_type": "execute_result"
    }
   ],
   "source": [
    "X_train.shape"
   ]
  },
  {
   "cell_type": "code",
   "execution_count": 19,
   "metadata": {
    "ExecuteTime": {
     "end_time": "2018-07-24T06:57:59.340346Z",
     "start_time": "2018-07-24T06:57:59.334120Z"
    },
    "hidden": true,
    "scrolled": true
   },
   "outputs": [
    {
     "data": {
      "text/plain": [
       "array([[[0.04313726],\n",
       "        [0.05228758],\n",
       "        [0.06143791],\n",
       "        ...,\n",
       "        [0.77385616],\n",
       "        [0.7607843 ],\n",
       "        [0.7751634 ]],\n",
       "\n",
       "       [[0.0496732 ],\n",
       "        [0.05490196],\n",
       "        [0.06928104],\n",
       "        ...,\n",
       "        [0.75555557],\n",
       "        [0.73202616],\n",
       "        [0.7398693 ]],\n",
       "\n",
       "       [[0.05228758],\n",
       "        [0.05098039],\n",
       "        [0.07843138],\n",
       "        ...,\n",
       "        [0.75686276],\n",
       "        [0.74771243],\n",
       "        [0.7281046 ]],\n",
       "\n",
       "       ...,\n",
       "\n",
       "       [[0.2522876 ],\n",
       "        [0.26928103],\n",
       "        [0.2509804 ],\n",
       "        ...,\n",
       "        [0.4509804 ],\n",
       "        [0.48496732],\n",
       "        [0.49673203]],\n",
       "\n",
       "       [[0.24183007],\n",
       "        [0.24836601],\n",
       "        [0.2509804 ],\n",
       "        ...,\n",
       "        [0.46928105],\n",
       "        [0.4888889 ],\n",
       "        [0.49673203]],\n",
       "\n",
       "       [[0.25490198],\n",
       "        [0.24183007],\n",
       "        [0.23529412],\n",
       "        ...,\n",
       "        [0.47320262],\n",
       "        [0.48104575],\n",
       "        [0.5176471 ]]], dtype=float32)"
      ]
     },
     "execution_count": 19,
     "metadata": {},
     "output_type": "execute_result"
    }
   ],
   "source": [
    "X_train[0]"
   ]
  },
  {
   "cell_type": "code",
   "execution_count": 20,
   "metadata": {
    "ExecuteTime": {
     "end_time": "2018-07-24T06:58:18.612631Z",
     "start_time": "2018-07-24T06:58:18.332540Z"
    },
    "hidden": true
   },
   "outputs": [
    {
     "data": {
      "image/png": "[encoded data removed]",
      "text/plain": [
       "<Figure size 518.4x518.4 with 12 Axes>"
      ]
     },
     "metadata": {},
     "output_type": "display_data"
    }
   ],
   "source": [
    "images = X_train[:12]\n",
    "n_col = 4\n",
    "n_row = 3\n",
    "plt.figure(figsize=(1.8 * n_col, 2.4 * n_row))\n",
    "plt.subplots_adjust(bottom=0, left=.01, right=.99, top=.90, hspace=.35)\n",
    "for i in range(n_row * n_col):\n",
    "    plt.subplot(n_row, n_col, i + 1)\n",
    "    plt.imshow(images[i][:,:,0], cmap=plt.cm.gray)\n",
    "    plt.title(target_names[np.argmax(y_train[i])])\n",
    "    plt.xticks(())\n",
    "    plt.yticks(())    \n",
    "plt.show()"
   ]
  },
  {
   "cell_type": "code",
   "execution_count": 21,
   "metadata": {
    "ExecuteTime": {
     "end_time": "2018-07-24T06:58:26.959571Z",
     "start_time": "2018-07-24T06:58:26.954944Z"
    },
    "hidden": true
   },
   "outputs": [
    {
     "data": {
      "text/plain": [
       "((966, 50, 37, 1), (966, 7))"
      ]
     },
     "execution_count": 21,
     "metadata": {},
     "output_type": "execute_result"
    }
   ],
   "source": [
    "(X_train.shape, y_train.shape)"
   ]
  },
  {
   "cell_type": "code",
   "execution_count": 22,
   "metadata": {
    "ExecuteTime": {
     "end_time": "2018-07-24T06:58:28.003605Z",
     "start_time": "2018-07-24T06:58:27.997606Z"
    },
    "hidden": true
   },
   "outputs": [
    {
     "data": {
      "text/plain": [
       "((322, 50, 37, 1), (322, 7))"
      ]
     },
     "execution_count": 22,
     "metadata": {},
     "output_type": "execute_result"
    }
   ],
   "source": [
    "X_test.shape, y_test.shape"
   ]
  },
  {
   "cell_type": "markdown",
   "metadata": {},
   "source": [
    "# MLP model in keras using Dense layers\n"
   ]
  },
  {
   "cell_type": "code",
   "execution_count": 23,
   "metadata": {
    "ExecuteTime": {
     "end_time": "2018-11-14T12:38:29.414835Z",
     "start_time": "2018-11-14T12:38:29.410137Z"
    }
   },
   "outputs": [],
   "source": [
    "from keras.models import Sequential\n",
    "from keras.layers import Dense, Flatten"
   ]
  },
  {
   "cell_type": "code",
   "execution_count": 24,
   "metadata": {},
   "outputs": [],
   "source": [
    "#Check Keras models and layers\n",
    "#links in the presentation of lecture 6"
   ]
  },
  {
   "cell_type": "code",
   "execution_count": 25,
   "metadata": {
    "ExecuteTime": {
     "end_time": "2018-11-14T12:38:49.248613Z",
     "start_time": "2018-11-14T12:38:49.203273Z"
    }
   },
   "outputs": [
    {
     "name": "stdout",
     "output_type": "stream",
     "text": [
      "Model: \"sequential\"\n",
      "_________________________________________________________________\n",
      " Layer (type)                Output Shape              Param #   \n",
      "=================================================================\n",
      " flatten (Flatten)           (None, 1850)              0         \n",
      "                                                                 \n",
      " dense (Dense)               (None, 100)               185100    \n",
      "                                                                 \n",
      " dense_1 (Dense)             (None, 7)                 707       \n",
      "                                                                 \n",
      "=================================================================\n",
      "Total params: 185,807\n",
      "Trainable params: 185,807\n",
      "Non-trainable params: 0\n",
      "_________________________________________________________________\n",
      "None\n"
     ]
    },
    {
     "name": "stderr",
     "output_type": "stream",
     "text": [
      "2023-03-22 08:51:06.331640: I tensorflow/core/platform/cpu_feature_guard.cc:193] This TensorFlow binary is optimized with oneAPI Deep Neural Network Library (oneDNN) to use the following CPU instructions in performance-critical operations:  SSE4.1 SSE4.2\n",
      "To enable them in other operations, rebuild TensorFlow with the appropriate compiler flags.\n"
     ]
    }
   ],
   "source": [
    "model = Sequential()\n",
    "\n",
    "model.add( Flatten(input_shape=(50,37,1)))\n",
    "#model.add( Dense(units=1000, activation='tanh') )\n",
    "#model.add( Dense(500, activation='tanh') )\n",
    "#model.add( Dense(200, activation='tanh'))\n",
    "model.add( Dense(100, activation='tanh'))\n",
    "model.add( Dense(n_classes, activation='softmax'))\n",
    "\n",
    "print(model.summary())"
   ]
  },
  {
   "cell_type": "code",
   "execution_count": 26,
   "metadata": {
    "ExecuteTime": {
     "end_time": "2018-11-14T12:38:49.429648Z",
     "start_time": "2018-11-14T12:38:49.391524Z"
    }
   },
   "outputs": [],
   "source": [
    "# compile the model\n",
    "model.compile(\n",
    "    loss      = 'categorical_crossentropy',\n",
    "    optimizer = 'adam',\n",
    "    metrics   = ['acc'] )"
   ]
  },
  {
   "cell_type": "code",
   "execution_count": 27,
   "metadata": {
    "ExecuteTime": {
     "end_time": "2018-11-14T12:39:03.846203Z",
     "start_time": "2018-11-14T12:38:49.592122Z"
    }
   },
   "outputs": [
    {
     "name": "stdout",
     "output_type": "stream",
     "text": [
      "Epoch 1/100\n",
      "31/31 [==============================] - 0s 848us/step - loss: 2.0837 - acc: 0.3778\n",
      "Epoch 2/100\n",
      "31/31 [==============================] - 0s 879us/step - loss: 1.6652 - acc: 0.4048\n",
      "Epoch 3/100\n",
      "31/31 [==============================] - 0s 849us/step - loss: 1.6285 - acc: 0.4306\n",
      "Epoch 4/100\n",
      "31/31 [==============================] - 0s 865us/step - loss: 1.5625 - acc: 0.4472\n",
      "Epoch 5/100\n",
      "31/31 [==============================] - 0s 926us/step - loss: 1.4875 - acc: 0.4689\n",
      "Epoch 6/100\n",
      "31/31 [==============================] - 0s 934us/step - loss: 1.4224 - acc: 0.4938\n",
      "Epoch 7/100\n",
      "31/31 [==============================] - 0s 951us/step - loss: 1.3676 - acc: 0.5072\n",
      "Epoch 8/100\n",
      "31/31 [==============================] - 0s 913us/step - loss: 1.2804 - acc: 0.5362\n",
      "Epoch 9/100\n",
      "31/31 [==============================] - 0s 892us/step - loss: 1.2097 - acc: 0.5518\n",
      "Epoch 10/100\n",
      "31/31 [==============================] - 0s 904us/step - loss: 1.1923 - acc: 0.5694\n",
      "Epoch 11/100\n",
      "31/31 [==============================] - 0s 928us/step - loss: 1.1254 - acc: 0.6159\n",
      "Epoch 12/100\n",
      "31/31 [==============================] - 0s 897us/step - loss: 1.1079 - acc: 0.6025\n",
      "Epoch 13/100\n",
      "31/31 [==============================] - 0s 890us/step - loss: 1.0835 - acc: 0.6170\n",
      "Epoch 14/100\n",
      "31/31 [==============================] - 0s 882us/step - loss: 1.0157 - acc: 0.6687\n",
      "Epoch 15/100\n",
      "31/31 [==============================] - 0s 860us/step - loss: 0.9890 - acc: 0.6667\n",
      "Epoch 16/100\n",
      "31/31 [==============================] - 0s 847us/step - loss: 0.9979 - acc: 0.6656\n",
      "Epoch 17/100\n",
      "31/31 [==============================] - 0s 856us/step - loss: 0.9056 - acc: 0.7122\n",
      "Epoch 18/100\n",
      "31/31 [==============================] - 0s 871us/step - loss: 0.8582 - acc: 0.7236\n",
      "Epoch 19/100\n",
      "31/31 [==============================] - 0s 897us/step - loss: 0.8427 - acc: 0.7443\n",
      "Epoch 20/100\n",
      "31/31 [==============================] - 0s 877us/step - loss: 0.8329 - acc: 0.7257\n",
      "Epoch 21/100\n",
      "31/31 [==============================] - 0s 861us/step - loss: 0.8095 - acc: 0.7381\n",
      "Epoch 22/100\n",
      "31/31 [==============================] - 0s 922us/step - loss: 0.7709 - acc: 0.7619\n",
      "Epoch 23/100\n",
      "31/31 [==============================] - 0s 993us/step - loss: 0.7734 - acc: 0.7557\n",
      "Epoch 24/100\n",
      "31/31 [==============================] - 0s 909us/step - loss: 0.7052 - acc: 0.7733\n",
      "Epoch 25/100\n",
      "31/31 [==============================] - 0s 896us/step - loss: 0.6901 - acc: 0.7723\n",
      "Epoch 26/100\n",
      "31/31 [==============================] - 0s 911us/step - loss: 0.6393 - acc: 0.8064\n",
      "Epoch 27/100\n",
      "31/31 [==============================] - 0s 907us/step - loss: 0.6178 - acc: 0.8209\n",
      "Epoch 28/100\n",
      "31/31 [==============================] - 0s 943us/step - loss: 0.6335 - acc: 0.8023\n",
      "Epoch 29/100\n",
      "31/31 [==============================] - 0s 915us/step - loss: 0.5963 - acc: 0.8199\n",
      "Epoch 30/100\n",
      "31/31 [==============================] - 0s 923us/step - loss: 0.5788 - acc: 0.8282\n",
      "Epoch 31/100\n",
      "31/31 [==============================] - 0s 925us/step - loss: 0.5618 - acc: 0.8478\n",
      "Epoch 32/100\n",
      "31/31 [==============================] - 0s 881us/step - loss: 0.5356 - acc: 0.8427\n",
      "Epoch 33/100\n",
      "31/31 [==============================] - 0s 891us/step - loss: 0.6030 - acc: 0.8023\n",
      "Epoch 34/100\n",
      "31/31 [==============================] - 0s 893us/step - loss: 0.6029 - acc: 0.8085\n",
      "Epoch 35/100\n",
      "31/31 [==============================] - 0s 885us/step - loss: 0.5286 - acc: 0.8499\n",
      "Epoch 36/100\n",
      "31/31 [==============================] - 0s 884us/step - loss: 0.5238 - acc: 0.8313\n",
      "Epoch 37/100\n",
      "31/31 [==============================] - 0s 876us/step - loss: 0.5269 - acc: 0.8354\n",
      "Epoch 38/100\n",
      "31/31 [==============================] - 0s 869us/step - loss: 0.5143 - acc: 0.8416\n",
      "Epoch 39/100\n",
      "31/31 [==============================] - 0s 873us/step - loss: 0.5227 - acc: 0.8385\n",
      "Epoch 40/100\n",
      "31/31 [==============================] - 0s 883us/step - loss: 0.4371 - acc: 0.8820\n",
      "Epoch 41/100\n",
      "31/31 [==============================] - 0s 881us/step - loss: 0.4689 - acc: 0.8644\n",
      "Epoch 42/100\n",
      "31/31 [==============================] - 0s 858us/step - loss: 0.4621 - acc: 0.8613\n",
      "Epoch 43/100\n",
      "31/31 [==============================] - 0s 867us/step - loss: 0.4768 - acc: 0.8634\n",
      "Epoch 44/100\n",
      "31/31 [==============================] - 0s 872us/step - loss: 0.3888 - acc: 0.8944\n",
      "Epoch 45/100\n",
      "31/31 [==============================] - 0s 891us/step - loss: 0.3983 - acc: 0.8872\n",
      "Epoch 46/100\n",
      "31/31 [==============================] - 0s 891us/step - loss: 0.4210 - acc: 0.8696\n",
      "Epoch 47/100\n",
      "31/31 [==============================] - 0s 900us/step - loss: 0.3842 - acc: 0.8903\n",
      "Epoch 48/100\n",
      "31/31 [==============================] - 0s 887us/step - loss: 0.3841 - acc: 0.8934\n",
      "Epoch 49/100\n",
      "31/31 [==============================] - 0s 852us/step - loss: 0.4134 - acc: 0.8716\n",
      "Epoch 50/100\n",
      "31/31 [==============================] - 0s 862us/step - loss: 0.3971 - acc: 0.8892\n",
      "Epoch 51/100\n",
      "31/31 [==============================] - 0s 881us/step - loss: 0.3578 - acc: 0.8986\n",
      "Epoch 52/100\n",
      "31/31 [==============================] - 0s 854us/step - loss: 0.3330 - acc: 0.9079\n",
      "Epoch 53/100\n",
      "31/31 [==============================] - 0s 850us/step - loss: 0.3368 - acc: 0.9006\n",
      "Epoch 54/100\n",
      "31/31 [==============================] - 0s 885us/step - loss: 0.3565 - acc: 0.8975\n",
      "Epoch 55/100\n",
      "31/31 [==============================] - 0s 885us/step - loss: 0.3271 - acc: 0.9120\n",
      "Epoch 56/100\n",
      "31/31 [==============================] - 0s 882us/step - loss: 0.3562 - acc: 0.8965\n",
      "Epoch 57/100\n",
      "31/31 [==============================] - 0s 859us/step - loss: 0.3230 - acc: 0.9068\n",
      "Epoch 58/100\n",
      "31/31 [==============================] - 0s 863us/step - loss: 0.2941 - acc: 0.9213\n",
      "Epoch 59/100\n",
      "31/31 [==============================] - 0s 881us/step - loss: 0.2808 - acc: 0.9234\n",
      "Epoch 60/100\n",
      "31/31 [==============================] - 0s 888us/step - loss: 0.2913 - acc: 0.9182\n",
      "Epoch 61/100\n",
      "31/31 [==============================] - 0s 864us/step - loss: 0.3107 - acc: 0.9068\n",
      "Epoch 62/100\n",
      "31/31 [==============================] - 0s 879us/step - loss: 0.2863 - acc: 0.9172\n",
      "Epoch 63/100\n",
      "31/31 [==============================] - 0s 878us/step - loss: 0.3028 - acc: 0.9099\n",
      "Epoch 64/100\n",
      "31/31 [==============================] - 0s 867us/step - loss: 0.2757 - acc: 0.9244\n",
      "Epoch 65/100\n",
      "31/31 [==============================] - 0s 892us/step - loss: 0.2395 - acc: 0.9348\n",
      "Epoch 66/100\n",
      "31/31 [==============================] - 0s 870us/step - loss: 0.2755 - acc: 0.9203\n",
      "Epoch 67/100\n",
      "31/31 [==============================] - 0s 875us/step - loss: 0.2385 - acc: 0.9379\n",
      "Epoch 68/100\n",
      "31/31 [==============================] - 0s 858us/step - loss: 0.2651 - acc: 0.9275\n",
      "Epoch 69/100\n",
      "31/31 [==============================] - 0s 852us/step - loss: 0.2470 - acc: 0.9327\n",
      "Epoch 70/100\n",
      "31/31 [==============================] - 0s 995us/step - loss: 0.4175 - acc: 0.8654\n",
      "Epoch 71/100\n",
      "31/31 [==============================] - 0s 888us/step - loss: 0.2457 - acc: 0.9472\n",
      "Epoch 72/100\n",
      "31/31 [==============================] - 0s 858us/step - loss: 0.2424 - acc: 0.9462\n",
      "Epoch 73/100\n",
      "31/31 [==============================] - 0s 879us/step - loss: 0.2720 - acc: 0.9275\n",
      "Epoch 74/100\n",
      "31/31 [==============================] - 0s 886us/step - loss: 0.2349 - acc: 0.9441\n",
      "Epoch 75/100\n",
      "31/31 [==============================] - 0s 883us/step - loss: 0.2416 - acc: 0.9369\n",
      "Epoch 76/100\n",
      "31/31 [==============================] - 0s 910us/step - loss: 0.2127 - acc: 0.9534\n",
      "Epoch 77/100\n",
      "31/31 [==============================] - 0s 900us/step - loss: 0.1949 - acc: 0.9596\n",
      "Epoch 78/100\n",
      "31/31 [==============================] - 0s 895us/step - loss: 0.2245 - acc: 0.9389\n",
      "Epoch 79/100\n",
      "31/31 [==============================] - 0s 904us/step - loss: 0.2325 - acc: 0.9431\n",
      "Epoch 80/100\n",
      "31/31 [==============================] - 0s 890us/step - loss: 0.2127 - acc: 0.9503\n",
      "Epoch 81/100\n",
      "31/31 [==============================] - 0s 916us/step - loss: 0.2724 - acc: 0.9213\n",
      "Epoch 82/100\n",
      "31/31 [==============================] - 0s 896us/step - loss: 0.2295 - acc: 0.9462\n",
      "Epoch 83/100\n",
      "31/31 [==============================] - 0s 898us/step - loss: 0.2006 - acc: 0.9524\n",
      "Epoch 84/100\n",
      "31/31 [==============================] - 0s 875us/step - loss: 0.1832 - acc: 0.9627\n",
      "Epoch 85/100\n"
     ]
    },
    {
     "name": "stdout",
     "output_type": "stream",
     "text": [
      "31/31 [==============================] - 0s 881us/step - loss: 0.1757 - acc: 0.9648\n",
      "Epoch 86/100\n",
      "31/31 [==============================] - 0s 865us/step - loss: 0.2230 - acc: 0.9400\n",
      "Epoch 87/100\n",
      "31/31 [==============================] - 0s 830us/step - loss: 0.1752 - acc: 0.9617\n",
      "Epoch 88/100\n",
      "31/31 [==============================] - 0s 816us/step - loss: 0.2371 - acc: 0.9348\n",
      "Epoch 89/100\n",
      "31/31 [==============================] - 0s 833us/step - loss: 0.1583 - acc: 0.9689\n",
      "Epoch 90/100\n",
      "31/31 [==============================] - 0s 843us/step - loss: 0.1397 - acc: 0.9824\n",
      "Epoch 91/100\n",
      "31/31 [==============================] - 0s 852us/step - loss: 0.1451 - acc: 0.9720\n",
      "Epoch 92/100\n",
      "31/31 [==============================] - 0s 846us/step - loss: 0.1411 - acc: 0.9762\n",
      "Epoch 93/100\n",
      "31/31 [==============================] - 0s 848us/step - loss: 0.1544 - acc: 0.9700\n",
      "Epoch 94/100\n",
      "31/31 [==============================] - 0s 831us/step - loss: 0.1457 - acc: 0.9720\n",
      "Epoch 95/100\n",
      "31/31 [==============================] - 0s 837us/step - loss: 0.1407 - acc: 0.9689\n",
      "Epoch 96/100\n",
      "31/31 [==============================] - 0s 850us/step - loss: 0.1559 - acc: 0.9710\n",
      "Epoch 97/100\n",
      "31/31 [==============================] - 0s 828us/step - loss: 0.1474 - acc: 0.9741\n",
      "Epoch 98/100\n",
      "31/31 [==============================] - 0s 848us/step - loss: 0.1270 - acc: 0.9803\n",
      "Epoch 99/100\n",
      "31/31 [==============================] - 0s 860us/step - loss: 0.1229 - acc: 0.9824\n",
      "Epoch 100/100\n",
      "31/31 [==============================] - 0s 828us/step - loss: 0.1122 - acc: 0.9865\n"
     ]
    },
    {
     "data": {
      "text/plain": [
       "<keras.callbacks.History at 0x7fa2a9762f20>"
      ]
     },
     "execution_count": 27,
     "metadata": {},
     "output_type": "execute_result"
    }
   ],
   "source": [
    "# train\n",
    "model.fit(\n",
    "    x = X_train, # training_data\n",
    "    y = y_train, # training_labels\n",
    "    batch_size = 32, epochs = 100, verbose = 1 )"
   ]
  },
  {
   "cell_type": "code",
   "execution_count": 28,
   "metadata": {
    "ExecuteTime": {
     "end_time": "2018-11-14T12:39:03.955139Z",
     "start_time": "2018-11-14T12:39:03.848800Z"
    }
   },
   "outputs": [
    {
     "name": "stdout",
     "output_type": "stream",
     "text": [
      "41/41 [==============================] - 0s 491us/step - loss: 0.6440 - acc: 0.8168\n"
     ]
    },
    {
     "data": {
      "text/plain": [
       "[0.644019603729248, 0.8167701959609985]"
      ]
     },
     "execution_count": 28,
     "metadata": {},
     "output_type": "execute_result"
    }
   ],
   "source": [
    "# evaluate\n",
    "model.evaluate(\n",
    "    x = X_test,\n",
    "    y = y_test,\n",
    "    batch_size = 8 , verbose = 1)"
   ]
  },
  {
   "cell_type": "code",
   "execution_count": 29,
   "metadata": {},
   "outputs": [],
   "source": [
    "#Add more layers, change layer size, run the model again"
   ]
  },
  {
   "cell_type": "markdown",
   "metadata": {},
   "source": [
    "## Exercise 1\n",
    "\n",
    "Try classification using logistic regression <br/> \n",
    "0-layer or 1-layer NN, counting output layer as one <br/> \n",
    "Remember to flatten the inputs"
   ]
  },
  {
   "cell_type": "code",
   "execution_count": 30,
   "metadata": {
    "ExecuteTime": {
     "end_time": "2018-11-14T12:47:15.711195Z",
     "start_time": "2018-11-14T12:47:07.587983Z"
    }
   },
   "outputs": [
    {
     "name": "stdout",
     "output_type": "stream",
     "text": [
      "Model: \"sequential_1\"\n",
      "_________________________________________________________________\n",
      " Layer (type)                Output Shape              Param #   \n",
      "=================================================================\n",
      " flatten_1 (Flatten)         (None, 1850)              0         \n",
      "                                                                 \n",
      " dense_2 (Dense)             (None, 7)                 12957     \n",
      "                                                                 \n",
      "=================================================================\n",
      "Total params: 12,957\n",
      "Trainable params: 12,957\n",
      "Non-trainable params: 0\n",
      "_________________________________________________________________\n",
      "None\n",
      "Epoch 1/100\n",
      "28/28 [==============================] - 0s 3ms/step - loss: 1.8149 - acc: 0.3832 - val_loss: 1.6064 - val_acc: 0.4742\n",
      "Epoch 2/100\n",
      "28/28 [==============================] - 0s 1ms/step - loss: 1.6388 - acc: 0.4350 - val_loss: 1.5721 - val_acc: 0.4536\n",
      "Epoch 3/100\n",
      "28/28 [==============================] - 0s 1ms/step - loss: 1.5464 - acc: 0.4453 - val_loss: 1.4803 - val_acc: 0.5361\n",
      "Epoch 4/100\n",
      "28/28 [==============================] - 0s 1ms/step - loss: 1.5154 - acc: 0.4327 - val_loss: 1.3630 - val_acc: 0.5258\n",
      "Epoch 5/100\n",
      "28/28 [==============================] - 0s 1ms/step - loss: 1.4010 - acc: 0.4960 - val_loss: 1.3472 - val_acc: 0.5773\n",
      "Epoch 6/100\n",
      "28/28 [==============================] - 0s 1ms/step - loss: 1.3293 - acc: 0.5305 - val_loss: 1.3364 - val_acc: 0.5567\n",
      "Epoch 7/100\n",
      "28/28 [==============================] - 0s 1ms/step - loss: 1.3052 - acc: 0.5386 - val_loss: 1.2265 - val_acc: 0.5361\n",
      "Epoch 8/100\n",
      "28/28 [==============================] - 0s 1ms/step - loss: 1.2664 - acc: 0.5409 - val_loss: 1.2430 - val_acc: 0.5876\n",
      "Epoch 9/100\n",
      "28/28 [==============================] - 0s 1ms/step - loss: 1.2274 - acc: 0.5777 - val_loss: 1.3306 - val_acc: 0.5670\n",
      "Epoch 10/100\n",
      "28/28 [==============================] - 0s 1ms/step - loss: 1.2110 - acc: 0.5604 - val_loss: 1.1856 - val_acc: 0.5773\n",
      "Epoch 11/100\n",
      "28/28 [==============================] - 0s 1ms/step - loss: 1.1254 - acc: 0.6157 - val_loss: 1.0929 - val_acc: 0.6392\n",
      "Epoch 12/100\n",
      "28/28 [==============================] - 0s 1ms/step - loss: 1.0783 - acc: 0.6283 - val_loss: 1.0912 - val_acc: 0.6289\n",
      "Epoch 13/100\n",
      "28/28 [==============================] - 0s 1ms/step - loss: 1.0332 - acc: 0.6571 - val_loss: 1.0482 - val_acc: 0.6186\n",
      "Epoch 14/100\n",
      "28/28 [==============================] - 0s 1ms/step - loss: 1.0288 - acc: 0.6559 - val_loss: 1.0343 - val_acc: 0.7113\n",
      "Epoch 15/100\n",
      "28/28 [==============================] - 0s 1ms/step - loss: 0.9831 - acc: 0.6720 - val_loss: 1.0529 - val_acc: 0.6392\n",
      "Epoch 16/100\n",
      "28/28 [==============================] - 0s 1ms/step - loss: 1.0007 - acc: 0.6237 - val_loss: 0.9695 - val_acc: 0.7320\n",
      "Epoch 17/100\n",
      "28/28 [==============================] - 0s 1ms/step - loss: 0.9605 - acc: 0.6893 - val_loss: 0.9491 - val_acc: 0.6907\n",
      "Epoch 18/100\n",
      "28/28 [==============================] - 0s 1ms/step - loss: 0.9054 - acc: 0.7319 - val_loss: 0.9735 - val_acc: 0.7216\n",
      "Epoch 19/100\n",
      "28/28 [==============================] - 0s 1ms/step - loss: 0.9185 - acc: 0.7112 - val_loss: 0.9980 - val_acc: 0.7113\n",
      "Epoch 20/100\n",
      "28/28 [==============================] - 0s 1ms/step - loss: 0.9214 - acc: 0.6997 - val_loss: 0.9635 - val_acc: 0.7732\n",
      "Epoch 21/100\n",
      "28/28 [==============================] - 0s 1ms/step - loss: 0.8673 - acc: 0.7319 - val_loss: 0.9585 - val_acc: 0.6804\n",
      "Epoch 22/100\n",
      "28/28 [==============================] - 0s 1ms/step - loss: 0.8722 - acc: 0.7227 - val_loss: 0.9665 - val_acc: 0.7320\n",
      "Epoch 23/100\n",
      "28/28 [==============================] - 0s 1ms/step - loss: 0.8417 - acc: 0.7434 - val_loss: 0.8860 - val_acc: 0.7320\n",
      "Epoch 24/100\n",
      "28/28 [==============================] - 0s 1ms/step - loss: 0.7862 - acc: 0.7687 - val_loss: 0.9016 - val_acc: 0.7526\n",
      "Epoch 25/100\n",
      "28/28 [==============================] - 0s 1ms/step - loss: 0.7769 - acc: 0.7733 - val_loss: 0.8772 - val_acc: 0.7629\n",
      "Epoch 26/100\n",
      "28/28 [==============================] - 0s 1ms/step - loss: 0.7893 - acc: 0.7641 - val_loss: 0.8353 - val_acc: 0.7629\n",
      "Epoch 27/100\n",
      "28/28 [==============================] - 0s 1ms/step - loss: 0.7624 - acc: 0.7722 - val_loss: 0.9182 - val_acc: 0.7423\n",
      "Epoch 28/100\n",
      "28/28 [==============================] - 0s 1ms/step - loss: 0.7895 - acc: 0.7376 - val_loss: 0.8783 - val_acc: 0.7629\n",
      "Epoch 29/100\n",
      "28/28 [==============================] - 0s 1ms/step - loss: 0.7487 - acc: 0.7791 - val_loss: 0.8194 - val_acc: 0.8041\n",
      "Epoch 30/100\n",
      "28/28 [==============================] - 0s 1ms/step - loss: 0.7264 - acc: 0.7906 - val_loss: 0.8307 - val_acc: 0.7526\n",
      "Epoch 31/100\n",
      "28/28 [==============================] - 0s 1ms/step - loss: 0.7069 - acc: 0.8067 - val_loss: 0.8748 - val_acc: 0.7320\n",
      "Epoch 32/100\n",
      "28/28 [==============================] - 0s 1ms/step - loss: 0.6977 - acc: 0.7975 - val_loss: 0.7995 - val_acc: 0.7732\n",
      "Epoch 33/100\n",
      "28/28 [==============================] - 0s 1ms/step - loss: 0.6880 - acc: 0.8113 - val_loss: 0.8157 - val_acc: 0.7732\n",
      "Epoch 34/100\n",
      "28/28 [==============================] - 0s 1ms/step - loss: 0.6833 - acc: 0.8113 - val_loss: 0.7958 - val_acc: 0.7113\n",
      "Epoch 35/100\n",
      "28/28 [==============================] - 0s 1ms/step - loss: 0.6841 - acc: 0.7779 - val_loss: 0.7727 - val_acc: 0.7732\n",
      "Epoch 36/100\n",
      "28/28 [==============================] - 0s 1ms/step - loss: 0.6758 - acc: 0.8101 - val_loss: 0.8499 - val_acc: 0.7423\n",
      "Epoch 37/100\n",
      "28/28 [==============================] - 0s 2ms/step - loss: 0.6703 - acc: 0.8021 - val_loss: 0.7428 - val_acc: 0.7835\n",
      "Epoch 38/100\n",
      "28/28 [==============================] - 0s 2ms/step - loss: 0.6226 - acc: 0.8343 - val_loss: 0.7703 - val_acc: 0.8144\n",
      "Epoch 39/100\n",
      "28/28 [==============================] - 0s 2ms/step - loss: 0.6132 - acc: 0.8377 - val_loss: 0.7687 - val_acc: 0.7732\n",
      "Epoch 40/100\n",
      "28/28 [==============================] - 0s 1ms/step - loss: 0.6204 - acc: 0.8366 - val_loss: 0.7364 - val_acc: 0.8041\n",
      "Epoch 41/100\n",
      "28/28 [==============================] - 0s 1ms/step - loss: 0.6814 - acc: 0.7929 - val_loss: 0.8004 - val_acc: 0.7526\n",
      "Epoch 42/100\n",
      "28/28 [==============================] - 0s 1ms/step - loss: 0.6244 - acc: 0.8274 - val_loss: 0.7505 - val_acc: 0.7835\n",
      "Epoch 43/100\n",
      "28/28 [==============================] - 0s 1ms/step - loss: 0.6146 - acc: 0.8458 - val_loss: 0.7658 - val_acc: 0.7732\n",
      "Epoch 44/100\n",
      "28/28 [==============================] - 0s 1ms/step - loss: 0.6004 - acc: 0.8400 - val_loss: 0.7514 - val_acc: 0.7835\n",
      "Epoch 45/100\n",
      "28/28 [==============================] - 0s 1ms/step - loss: 0.5789 - acc: 0.8550 - val_loss: 0.7563 - val_acc: 0.7732\n",
      "Epoch 46/100\n",
      "28/28 [==============================] - 0s 1ms/step - loss: 0.6206 - acc: 0.8308 - val_loss: 0.8083 - val_acc: 0.7629\n",
      "Epoch 47/100\n",
      "28/28 [==============================] - 0s 1ms/step - loss: 0.6029 - acc: 0.8193 - val_loss: 0.6899 - val_acc: 0.8041\n",
      "Epoch 48/100\n",
      "28/28 [==============================] - 0s 1ms/step - loss: 0.5712 - acc: 0.8435 - val_loss: 0.7099 - val_acc: 0.8144\n",
      "Epoch 49/100\n",
      "28/28 [==============================] - 0s 1ms/step - loss: 0.5398 - acc: 0.8516 - val_loss: 0.7943 - val_acc: 0.8041\n",
      "Epoch 50/100\n",
      "28/28 [==============================] - 0s 1ms/step - loss: 0.5277 - acc: 0.8746 - val_loss: 0.7355 - val_acc: 0.7835\n",
      "Epoch 51/100\n",
      "28/28 [==============================] - 0s 1ms/step - loss: 0.5359 - acc: 0.8585 - val_loss: 0.7264 - val_acc: 0.8041\n",
      "Epoch 52/100\n",
      "28/28 [==============================] - 0s 1ms/step - loss: 0.5276 - acc: 0.8642 - val_loss: 0.7007 - val_acc: 0.7938\n",
      "Epoch 53/100\n",
      "28/28 [==============================] - 0s 1ms/step - loss: 0.5243 - acc: 0.8619 - val_loss: 0.7444 - val_acc: 0.7835\n",
      "Epoch 54/100\n",
      "28/28 [==============================] - 0s 1ms/step - loss: 0.5205 - acc: 0.8642 - val_loss: 0.6884 - val_acc: 0.7938\n",
      "Epoch 55/100\n",
      "28/28 [==============================] - 0s 1ms/step - loss: 0.5308 - acc: 0.8608 - val_loss: 0.7752 - val_acc: 0.7835\n",
      "Epoch 56/100\n",
      "28/28 [==============================] - 0s 1ms/step - loss: 0.5038 - acc: 0.8757 - val_loss: 0.7173 - val_acc: 0.7938\n",
      "Epoch 57/100\n",
      "28/28 [==============================] - 0s 1ms/step - loss: 0.5085 - acc: 0.8596 - val_loss: 0.7174 - val_acc: 0.8041\n"
     ]
    },
    {
     "name": "stdout",
     "output_type": "stream",
     "text": [
      "Epoch 58/100\n",
      "28/28 [==============================] - 0s 1ms/step - loss: 0.4788 - acc: 0.8895 - val_loss: 0.7093 - val_acc: 0.8041\n",
      "Epoch 59/100\n",
      "28/28 [==============================] - 0s 1ms/step - loss: 0.4885 - acc: 0.8734 - val_loss: 0.6954 - val_acc: 0.7938\n",
      "Epoch 60/100\n",
      "28/28 [==============================] - 0s 1ms/step - loss: 0.4840 - acc: 0.8780 - val_loss: 0.6631 - val_acc: 0.8351\n",
      "Epoch 61/100\n",
      "28/28 [==============================] - 0s 1ms/step - loss: 0.4959 - acc: 0.8700 - val_loss: 0.6852 - val_acc: 0.8041\n",
      "Epoch 62/100\n",
      "28/28 [==============================] - 0s 1ms/step - loss: 0.4877 - acc: 0.8734 - val_loss: 0.6461 - val_acc: 0.8351\n",
      "Epoch 63/100\n",
      "28/28 [==============================] - 0s 1ms/step - loss: 0.4629 - acc: 0.8884 - val_loss: 0.6863 - val_acc: 0.8247\n",
      "Epoch 64/100\n",
      "28/28 [==============================] - 0s 1ms/step - loss: 0.4687 - acc: 0.8872 - val_loss: 0.6695 - val_acc: 0.8041\n",
      "Epoch 65/100\n",
      "28/28 [==============================] - 0s 1ms/step - loss: 0.4660 - acc: 0.8757 - val_loss: 0.6864 - val_acc: 0.8247\n",
      "Epoch 66/100\n",
      "28/28 [==============================] - 0s 1ms/step - loss: 0.4558 - acc: 0.8884 - val_loss: 0.6874 - val_acc: 0.7938\n",
      "Epoch 67/100\n",
      "28/28 [==============================] - 0s 1ms/step - loss: 0.4464 - acc: 0.8907 - val_loss: 0.7078 - val_acc: 0.7938\n",
      "Epoch 68/100\n",
      "28/28 [==============================] - 0s 1ms/step - loss: 0.4491 - acc: 0.8918 - val_loss: 0.6520 - val_acc: 0.8247\n",
      "Epoch 69/100\n",
      "28/28 [==============================] - 0s 1ms/step - loss: 0.4386 - acc: 0.8941 - val_loss: 0.6601 - val_acc: 0.8351\n",
      "Epoch 70/100\n",
      "28/28 [==============================] - 0s 1ms/step - loss: 0.4293 - acc: 0.8999 - val_loss: 0.6491 - val_acc: 0.8041\n",
      "Epoch 71/100\n",
      "28/28 [==============================] - 0s 1ms/step - loss: 0.4374 - acc: 0.8999 - val_loss: 0.6785 - val_acc: 0.8351\n",
      "Epoch 72/100\n",
      "28/28 [==============================] - 0s 1ms/step - loss: 0.4382 - acc: 0.8826 - val_loss: 0.6819 - val_acc: 0.8041\n",
      "Epoch 73/100\n",
      "28/28 [==============================] - 0s 1ms/step - loss: 0.4240 - acc: 0.8953 - val_loss: 0.6497 - val_acc: 0.8144\n",
      "Epoch 74/100\n",
      "28/28 [==============================] - 0s 1ms/step - loss: 0.4317 - acc: 0.8849 - val_loss: 0.6494 - val_acc: 0.8351\n",
      "Epoch 75/100\n",
      "28/28 [==============================] - 0s 1ms/step - loss: 0.4238 - acc: 0.8976 - val_loss: 0.6241 - val_acc: 0.8351\n",
      "Epoch 76/100\n",
      "28/28 [==============================] - 0s 1ms/step - loss: 0.4178 - acc: 0.8999 - val_loss: 0.6625 - val_acc: 0.8041\n",
      "Epoch 77/100\n",
      "28/28 [==============================] - 0s 1ms/step - loss: 0.4112 - acc: 0.8953 - val_loss: 0.6423 - val_acc: 0.8247\n",
      "Epoch 78/100\n",
      "28/28 [==============================] - 0s 1ms/step - loss: 0.4084 - acc: 0.9114 - val_loss: 0.6549 - val_acc: 0.8144\n",
      "Epoch 79/100\n",
      "28/28 [==============================] - 0s 1ms/step - loss: 0.4167 - acc: 0.8964 - val_loss: 0.6262 - val_acc: 0.8351\n",
      "Epoch 80/100\n",
      "28/28 [==============================] - 0s 1ms/step - loss: 0.3936 - acc: 0.9091 - val_loss: 0.7103 - val_acc: 0.8144\n",
      "Epoch 81/100\n",
      "28/28 [==============================] - 0s 1ms/step - loss: 0.3996 - acc: 0.8976 - val_loss: 0.6475 - val_acc: 0.8041\n",
      "Epoch 82/100\n",
      "28/28 [==============================] - 0s 1ms/step - loss: 0.4087 - acc: 0.9022 - val_loss: 0.7083 - val_acc: 0.8247\n",
      "Epoch 83/100\n",
      "28/28 [==============================] - 0s 1ms/step - loss: 0.4110 - acc: 0.8976 - val_loss: 0.6389 - val_acc: 0.8144\n",
      "Epoch 84/100\n",
      "28/28 [==============================] - 0s 1ms/step - loss: 0.3960 - acc: 0.8964 - val_loss: 0.6211 - val_acc: 0.8351\n",
      "Epoch 85/100\n",
      "28/28 [==============================] - 0s 1ms/step - loss: 0.4096 - acc: 0.9010 - val_loss: 0.6204 - val_acc: 0.8247\n",
      "Epoch 86/100\n",
      "28/28 [==============================] - 0s 1ms/step - loss: 0.3835 - acc: 0.9252 - val_loss: 0.6159 - val_acc: 0.8247\n",
      "Epoch 87/100\n",
      "28/28 [==============================] - 0s 1ms/step - loss: 0.3674 - acc: 0.9137 - val_loss: 0.6400 - val_acc: 0.8144\n",
      "Epoch 88/100\n",
      "28/28 [==============================] - 0s 1ms/step - loss: 0.3688 - acc: 0.9183 - val_loss: 0.6762 - val_acc: 0.8041\n",
      "Epoch 89/100\n",
      "28/28 [==============================] - 0s 1ms/step - loss: 0.3661 - acc: 0.9148 - val_loss: 0.6973 - val_acc: 0.8144\n",
      "Epoch 90/100\n",
      "28/28 [==============================] - 0s 1ms/step - loss: 0.3737 - acc: 0.9091 - val_loss: 0.6443 - val_acc: 0.8247\n",
      "Epoch 91/100\n",
      "28/28 [==============================] - 0s 1ms/step - loss: 0.3727 - acc: 0.9125 - val_loss: 0.6086 - val_acc: 0.8247\n",
      "Epoch 92/100\n",
      "28/28 [==============================] - 0s 1ms/step - loss: 0.3661 - acc: 0.9125 - val_loss: 0.6459 - val_acc: 0.8247\n",
      "Epoch 93/100\n",
      "28/28 [==============================] - 0s 1ms/step - loss: 0.3457 - acc: 0.9160 - val_loss: 0.6249 - val_acc: 0.8247\n",
      "Epoch 94/100\n",
      "28/28 [==============================] - 0s 1ms/step - loss: 0.3557 - acc: 0.9160 - val_loss: 0.6169 - val_acc: 0.8041\n",
      "Epoch 95/100\n",
      "28/28 [==============================] - 0s 1ms/step - loss: 0.3550 - acc: 0.9171 - val_loss: 0.6422 - val_acc: 0.8247\n",
      "Epoch 96/100\n",
      "28/28 [==============================] - 0s 1ms/step - loss: 0.3465 - acc: 0.9241 - val_loss: 0.6403 - val_acc: 0.8144\n",
      "Epoch 97/100\n",
      "28/28 [==============================] - 0s 1ms/step - loss: 0.3422 - acc: 0.9241 - val_loss: 0.6377 - val_acc: 0.8454\n",
      "Epoch 98/100\n",
      "28/28 [==============================] - 0s 1ms/step - loss: 0.3511 - acc: 0.9091 - val_loss: 0.6867 - val_acc: 0.8351\n",
      "Epoch 99/100\n",
      "28/28 [==============================] - 0s 1ms/step - loss: 0.3636 - acc: 0.9137 - val_loss: 0.6266 - val_acc: 0.8247\n",
      "Epoch 100/100\n",
      "28/28 [==============================] - 0s 1ms/step - loss: 0.3369 - acc: 0.9241 - val_loss: 0.6680 - val_acc: 0.8247\n"
     ]
    },
    {
     "data": {
      "text/plain": [
       "<keras.callbacks.History at 0x7fa29a9a9060>"
      ]
     },
     "execution_count": 30,
     "metadata": {},
     "output_type": "execute_result"
    }
   ],
   "source": [
    "model = Sequential()\n",
    "\n",
    "model.add( Flatten(input_shape=(50,37,1)))\n",
    "#model.add( Dense(100, activation='tanh') )\n",
    "model.add( Dense(n_classes, activation='softmax'))\n",
    "\n",
    "print(model.summary())\n",
    "\n",
    "# compile\n",
    "model.compile(\n",
    "    loss      = 'categorical_crossentropy',\n",
    "    optimizer = 'adam',\n",
    "    metrics   = ['acc'] )\n",
    "\n",
    "\n",
    "# train\n",
    "model.fit(\n",
    "    x = X_train, # training_data\n",
    "    y = y_train, # training_labels\n",
    "    batch_size = 32, epochs = 100,  validation_split=0.1, verbose = 1 )"
   ]
  },
  {
   "cell_type": "code",
   "execution_count": 31,
   "metadata": {
    "ExecuteTime": {
     "end_time": "2018-11-14T12:47:15.711195Z",
     "start_time": "2018-11-14T12:47:07.587983Z"
    }
   },
   "outputs": [
    {
     "name": "stdout",
     "output_type": "stream",
     "text": [
      "41/41 [==============================] - 0s 1ms/step - loss: 0.6039 - acc: 0.8323\n"
     ]
    },
    {
     "data": {
      "text/plain": [
       "[0.6039041876792908, 0.8322981595993042]"
      ]
     },
     "execution_count": 31,
     "metadata": {},
     "output_type": "execute_result"
    }
   ],
   "source": [
    "# evaluate\n",
    "model.evaluate(\n",
    "    x = X_test,\n",
    "    y = y_test,\n",
    "    batch_size = 8 , verbose = 1)"
   ]
  },
  {
   "cell_type": "code",
   "execution_count": 32,
   "metadata": {},
   "outputs": [
    {
     "data": {
      "image/png": "[encoded data removed]",
      "text/plain": [
       "<Figure size 518.4x518.4 with 12 Axes>"
      ]
     },
     "metadata": {},
     "output_type": "display_data"
    }
   ],
   "source": [
    "#plot 12 first test images\n",
    "images = X_test[:12]\n",
    "n_col = 4\n",
    "n_row = 3\n",
    "plt.figure(figsize=(1.8 * n_col, 2.4 * n_row))\n",
    "plt.subplots_adjust(bottom=0, left=.01, right=.99, top=.90, hspace=.35)\n",
    "for i in range(n_row * n_col):\n",
    "    plt.subplot(n_row, n_col, i + 1)\n",
    "    plt.imshow(images[i][:,:,0], cmap=plt.cm.gray)\n",
    "    plt.title(target_names[np.argmax(y_test[i])])\n",
    "    plt.xticks(())\n",
    "    plt.yticks(())    \n",
    "plt.show()"
   ]
  },
  {
   "cell_type": "code",
   "execution_count": 33,
   "metadata": {},
   "outputs": [
    {
     "name": "stdout",
     "output_type": "stream",
     "text": [
      "1/1 [==============================] - 0s 39ms/step\n"
     ]
    },
    {
     "data": {
      "text/plain": [
       "array(['Gerhard Schroeder', 'George W Bush', 'Colin Powell',\n",
       "       'George W Bush', 'Colin Powell', 'George W Bush', 'Tony Blair',\n",
       "       'George W Bush', 'George W Bush', 'Gerhard Schroeder',\n",
       "       'Hugo Chavez', 'Tony Blair'], dtype='<U17')"
      ]
     },
     "execution_count": 33,
     "metadata": {},
     "output_type": "execute_result"
    }
   ],
   "source": [
    "pred = np.argmax(model.predict(X_test[0:12]), axis=-1)\n",
    "target_names[pred]"
   ]
  },
  {
   "cell_type": "code",
   "execution_count": null,
   "metadata": {},
   "outputs": [],
   "source": []
  },
  {
   "cell_type": "markdown",
   "metadata": {},
   "source": [
    "## Exercise 2\n",
    "<br/>\n",
    "Add callback `EarlyStopping`"
   ]
  },
  {
   "cell_type": "code",
   "execution_count": 34,
   "metadata": {
    "ExecuteTime": {
     "end_time": "2018-11-14T12:52:46.555748Z",
     "start_time": "2018-11-14T12:52:43.493900Z"
    }
   },
   "outputs": [
    {
     "name": "stdout",
     "output_type": "stream",
     "text": [
      "Model: \"sequential_2\"\n",
      "_________________________________________________________________\n",
      " Layer (type)                Output Shape              Param #   \n",
      "=================================================================\n",
      " flatten_2 (Flatten)         (None, 1850)              0         \n",
      "                                                                 \n",
      " dense_3 (Dense)             (None, 100)               185100    \n",
      "                                                                 \n",
      " dense_4 (Dense)             (None, 7)                 707       \n",
      "                                                                 \n",
      "=================================================================\n",
      "Total params: 185,807\n",
      "Trainable params: 185,807\n",
      "Non-trainable params: 0\n",
      "_________________________________________________________________\n",
      "None\n"
     ]
    }
   ],
   "source": [
    "from keras.callbacks import EarlyStopping\n",
    "\n",
    "early_stopping = EarlyStopping(patience=5, monitor=\"val_loss\", verbose=1)\n",
    "\n",
    "\n",
    "model = Sequential()\n",
    "\n",
    "model.add( Flatten(input_shape=(50,37,1)))\n",
    "model.add( Dense(100, activation='tanh') )\n",
    "model.add( Dense(n_classes, activation='softmax'))\n",
    "\n",
    "print(model.summary())"
   ]
  },
  {
   "cell_type": "code",
   "execution_count": 35,
   "metadata": {
    "ExecuteTime": {
     "end_time": "2018-11-14T12:52:46.555748Z",
     "start_time": "2018-11-14T12:52:43.493900Z"
    }
   },
   "outputs": [
    {
     "name": "stdout",
     "output_type": "stream",
     "text": [
      "Epoch 1/100\n",
      "28/28 [==============================] - 0s 4ms/step - loss: 1.9573 - acc: 0.3510 - val_loss: 1.6096 - val_acc: 0.4536\n",
      "Epoch 2/100\n",
      "28/28 [==============================] - 0s 2ms/step - loss: 1.6657 - acc: 0.3936 - val_loss: 1.7564 - val_acc: 0.2062\n",
      "Epoch 3/100\n",
      "28/28 [==============================] - 0s 2ms/step - loss: 1.6759 - acc: 0.3924 - val_loss: 1.6276 - val_acc: 0.4536\n",
      "Epoch 4/100\n",
      "28/28 [==============================] - 0s 2ms/step - loss: 1.6384 - acc: 0.4028 - val_loss: 1.5408 - val_acc: 0.4536\n",
      "Epoch 5/100\n",
      "28/28 [==============================] - 0s 2ms/step - loss: 1.5805 - acc: 0.4223 - val_loss: 1.4949 - val_acc: 0.4536\n",
      "Epoch 6/100\n",
      "28/28 [==============================] - 0s 2ms/step - loss: 1.5694 - acc: 0.4177 - val_loss: 1.4691 - val_acc: 0.5258\n",
      "Epoch 7/100\n",
      "28/28 [==============================] - 0s 2ms/step - loss: 1.4913 - acc: 0.4684 - val_loss: 1.3892 - val_acc: 0.5155\n",
      "Epoch 8/100\n",
      "28/28 [==============================] - 0s 2ms/step - loss: 1.4389 - acc: 0.4753 - val_loss: 1.3937 - val_acc: 0.5361\n",
      "Epoch 9/100\n",
      "28/28 [==============================] - 0s 2ms/step - loss: 1.3906 - acc: 0.5098 - val_loss: 1.3530 - val_acc: 0.5258\n",
      "Epoch 10/100\n",
      "28/28 [==============================] - 0s 2ms/step - loss: 1.3507 - acc: 0.5213 - val_loss: 1.2812 - val_acc: 0.5773\n",
      "Epoch 11/100\n",
      "28/28 [==============================] - 0s 2ms/step - loss: 1.3404 - acc: 0.5270 - val_loss: 1.2714 - val_acc: 0.5258\n",
      "Epoch 12/100\n",
      "28/28 [==============================] - 0s 2ms/step - loss: 1.2868 - acc: 0.5443 - val_loss: 1.2600 - val_acc: 0.5464\n",
      "Epoch 13/100\n",
      "28/28 [==============================] - 0s 2ms/step - loss: 1.2318 - acc: 0.5570 - val_loss: 1.1216 - val_acc: 0.6082\n",
      "Epoch 14/100\n",
      "28/28 [==============================] - 0s 2ms/step - loss: 1.1805 - acc: 0.5765 - val_loss: 1.1318 - val_acc: 0.6186\n",
      "Epoch 15/100\n",
      "28/28 [==============================] - 0s 2ms/step - loss: 1.1495 - acc: 0.5869 - val_loss: 1.1474 - val_acc: 0.6392\n",
      "Epoch 16/100\n",
      "28/28 [==============================] - 0s 2ms/step - loss: 1.1123 - acc: 0.6145 - val_loss: 1.1810 - val_acc: 0.5773\n",
      "Epoch 17/100\n",
      "28/28 [==============================] - 0s 2ms/step - loss: 1.1031 - acc: 0.6030 - val_loss: 1.0391 - val_acc: 0.6186\n",
      "Epoch 18/100\n",
      "28/28 [==============================] - 0s 2ms/step - loss: 1.1062 - acc: 0.6018 - val_loss: 1.0539 - val_acc: 0.6701\n",
      "Epoch 19/100\n",
      "28/28 [==============================] - 0s 2ms/step - loss: 1.0232 - acc: 0.6559 - val_loss: 0.9907 - val_acc: 0.6804\n",
      "Epoch 20/100\n",
      "28/28 [==============================] - 0s 2ms/step - loss: 0.9840 - acc: 0.6444 - val_loss: 0.9816 - val_acc: 0.7010\n",
      "Epoch 21/100\n",
      "28/28 [==============================] - 0s 2ms/step - loss: 0.9773 - acc: 0.6674 - val_loss: 0.9730 - val_acc: 0.6907\n",
      "Epoch 22/100\n",
      "28/28 [==============================] - 0s 2ms/step - loss: 0.9525 - acc: 0.6720 - val_loss: 0.9113 - val_acc: 0.7113\n",
      "Epoch 23/100\n",
      "28/28 [==============================] - 0s 2ms/step - loss: 0.9253 - acc: 0.6916 - val_loss: 0.9249 - val_acc: 0.7320\n",
      "Epoch 24/100\n",
      "28/28 [==============================] - 0s 3ms/step - loss: 0.9180 - acc: 0.6789 - val_loss: 0.9214 - val_acc: 0.7113\n",
      "Epoch 25/100\n",
      "28/28 [==============================] - 0s 2ms/step - loss: 0.8718 - acc: 0.7089 - val_loss: 0.9889 - val_acc: 0.6289\n",
      "Epoch 26/100\n",
      "28/28 [==============================] - 0s 2ms/step - loss: 0.8627 - acc: 0.7077 - val_loss: 0.8727 - val_acc: 0.7320\n",
      "Epoch 27/100\n",
      "28/28 [==============================] - 0s 3ms/step - loss: 0.8242 - acc: 0.7054 - val_loss: 0.8697 - val_acc: 0.7320\n",
      "Epoch 28/100\n",
      "28/28 [==============================] - 0s 2ms/step - loss: 0.8453 - acc: 0.7112 - val_loss: 0.9799 - val_acc: 0.6804\n",
      "Epoch 29/100\n",
      "28/28 [==============================] - 0s 2ms/step - loss: 0.8188 - acc: 0.7146 - val_loss: 0.8384 - val_acc: 0.7320\n",
      "Epoch 30/100\n",
      "28/28 [==============================] - 0s 2ms/step - loss: 0.7596 - acc: 0.7675 - val_loss: 0.8207 - val_acc: 0.7423\n",
      "Epoch 31/100\n",
      "28/28 [==============================] - 0s 2ms/step - loss: 0.7999 - acc: 0.7273 - val_loss: 0.8320 - val_acc: 0.7526\n",
      "Epoch 32/100\n",
      "28/28 [==============================] - 0s 2ms/step - loss: 0.7538 - acc: 0.7457 - val_loss: 0.8105 - val_acc: 0.7216\n",
      "Epoch 33/100\n",
      "28/28 [==============================] - 0s 2ms/step - loss: 0.7309 - acc: 0.7595 - val_loss: 0.8134 - val_acc: 0.7010\n",
      "Epoch 34/100\n",
      "28/28 [==============================] - 0s 3ms/step - loss: 0.7163 - acc: 0.7710 - val_loss: 0.8964 - val_acc: 0.7216\n",
      "Epoch 35/100\n",
      "28/28 [==============================] - 0s 2ms/step - loss: 0.7133 - acc: 0.7733 - val_loss: 0.7901 - val_acc: 0.7216\n",
      "Epoch 36/100\n",
      "28/28 [==============================] - 0s 2ms/step - loss: 0.7089 - acc: 0.7791 - val_loss: 0.7691 - val_acc: 0.7526\n",
      "Epoch 37/100\n",
      "28/28 [==============================] - 0s 2ms/step - loss: 0.6797 - acc: 0.7791 - val_loss: 0.7687 - val_acc: 0.7423\n",
      "Epoch 38/100\n",
      "28/28 [==============================] - 0s 2ms/step - loss: 0.6694 - acc: 0.7998 - val_loss: 0.8312 - val_acc: 0.7113\n",
      "Epoch 39/100\n",
      "28/28 [==============================] - 0s 3ms/step - loss: 0.6385 - acc: 0.8009 - val_loss: 0.7316 - val_acc: 0.7423\n",
      "Epoch 40/100\n",
      "28/28 [==============================] - 0s 3ms/step - loss: 0.6419 - acc: 0.8044 - val_loss: 0.7355 - val_acc: 0.7835\n",
      "Epoch 41/100\n",
      "28/28 [==============================] - 0s 3ms/step - loss: 0.6217 - acc: 0.8101 - val_loss: 0.7822 - val_acc: 0.7423\n",
      "Epoch 42/100\n",
      "28/28 [==============================] - 0s 2ms/step - loss: 0.6376 - acc: 0.8078 - val_loss: 0.7243 - val_acc: 0.7320\n",
      "Epoch 43/100\n",
      "28/28 [==============================] - 0s 3ms/step - loss: 0.5925 - acc: 0.8308 - val_loss: 0.7159 - val_acc: 0.7732\n",
      "Epoch 44/100\n",
      "28/28 [==============================] - 0s 2ms/step - loss: 0.5583 - acc: 0.8228 - val_loss: 0.7219 - val_acc: 0.7629\n",
      "Epoch 45/100\n",
      "28/28 [==============================] - 0s 2ms/step - loss: 0.5498 - acc: 0.8493 - val_loss: 0.8800 - val_acc: 0.7320\n",
      "Epoch 46/100\n",
      "28/28 [==============================] - 0s 2ms/step - loss: 0.5879 - acc: 0.8193 - val_loss: 0.7542 - val_acc: 0.7629\n",
      "Epoch 47/100\n",
      "28/28 [==============================] - 0s 2ms/step - loss: 0.5825 - acc: 0.8262 - val_loss: 0.7202 - val_acc: 0.7010\n",
      "Epoch 48/100\n",
      "28/28 [==============================] - 0s 2ms/step - loss: 0.5570 - acc: 0.8297 - val_loss: 0.6923 - val_acc: 0.7835\n",
      "Epoch 49/100\n",
      "28/28 [==============================] - 0s 1ms/step - loss: 0.5280 - acc: 0.8504 - val_loss: 0.6680 - val_acc: 0.8041\n",
      "Epoch 50/100\n",
      "28/28 [==============================] - 0s 1ms/step - loss: 0.6024 - acc: 0.8251 - val_loss: 0.7116 - val_acc: 0.7732\n",
      "Epoch 51/100\n",
      "28/28 [==============================] - 0s 1ms/step - loss: 0.4997 - acc: 0.8642 - val_loss: 0.6682 - val_acc: 0.7732\n",
      "Epoch 52/100\n",
      "28/28 [==============================] - 0s 1ms/step - loss: 0.4753 - acc: 0.8780 - val_loss: 0.7441 - val_acc: 0.7938\n",
      "Epoch 53/100\n",
      "28/28 [==============================] - 0s 1ms/step - loss: 0.4714 - acc: 0.8803 - val_loss: 0.7022 - val_acc: 0.7835\n",
      "Epoch 54/100\n",
      "28/28 [==============================] - 0s 1ms/step - loss: 0.4495 - acc: 0.8861 - val_loss: 0.8206 - val_acc: 0.7732\n",
      "Epoch 54: early stopping\n",
      "11/11 [==============================] - 0s 661us/step - loss: 0.7534 - acc: 0.7671\n"
     ]
    },
    {
     "data": {
      "text/plain": [
       "[0.7534485459327698, 0.7670807242393494]"
      ]
     },
     "execution_count": 35,
     "metadata": {},
     "output_type": "execute_result"
    }
   ],
   "source": [
    "model.compile(\n",
    "    loss      = 'categorical_crossentropy',\n",
    "    optimizer = 'adam',\n",
    "    metrics   = ['acc'] )\n",
    "\n",
    "\n",
    "model.fit(X_train, y_train, validation_split=0.1, epochs=100, callbacks=[early_stopping])\n",
    "\n",
    "model.evaluate(X_test,y_test) # returns loss and metrics"
   ]
  },
  {
   "cell_type": "markdown",
   "metadata": {},
   "source": [
    "## Exercise 3\n",
    "<br/>\n",
    "Add callback `ModelCheckpoint`"
   ]
  },
  {
   "cell_type": "code",
   "execution_count": 36,
   "metadata": {
    "ExecuteTime": {
     "end_time": "2018-11-14T12:56:19.241757Z",
     "start_time": "2018-11-14T12:56:19.238356Z"
    }
   },
   "outputs": [],
   "source": [
    "from keras.callbacks import ModelCheckpoint\n",
    "take_best_model = ModelCheckpoint(\"my_model.h5py\", save_best_only=True, verbose=1)"
   ]
  },
  {
   "cell_type": "markdown",
   "metadata": {
    "collapsed": true
   },
   "source": [
    "Repeat exercise 2 but do evaluation using best model (for lowest validation loss epoch)"
   ]
  },
  {
   "cell_type": "code",
   "execution_count": 37,
   "metadata": {
    "ExecuteTime": {
     "end_time": "2018-11-14T13:00:45.380490Z",
     "start_time": "2018-11-14T13:00:41.151274Z"
    }
   },
   "outputs": [
    {
     "name": "stdout",
     "output_type": "stream",
     "text": [
      "Model: \"sequential_3\"\n",
      "_________________________________________________________________\n",
      " Layer (type)                Output Shape              Param #   \n",
      "=================================================================\n",
      " flatten_3 (Flatten)         (None, 1850)              0         \n",
      "                                                                 \n",
      " dense_5 (Dense)             (None, 100)               185100    \n",
      "                                                                 \n",
      " dense_6 (Dense)             (None, 7)                 707       \n",
      "                                                                 \n",
      "=================================================================\n",
      "Total params: 185,807\n",
      "Trainable params: 185,807\n",
      "Non-trainable params: 0\n",
      "_________________________________________________________________\n",
      "None\n"
     ]
    }
   ],
   "source": [
    "from keras.callbacks import EarlyStopping\n",
    "\n",
    "early_stopping = EarlyStopping(patience=5, monitor=\"val_loss\", verbose=1)\n",
    "\n",
    "\n",
    "model = Sequential()\n",
    "\n",
    "model.add( Flatten(input_shape=(50,37,1)))\n",
    "model.add( Dense(100, activation='tanh') )\n",
    "model.add( Dense(n_classes, activation='softmax'))\n",
    "\n",
    "print(model.summary())"
   ]
  },
  {
   "cell_type": "code",
   "execution_count": 38,
   "metadata": {
    "ExecuteTime": {
     "end_time": "2018-11-14T13:00:45.380490Z",
     "start_time": "2018-11-14T13:00:41.151274Z"
    }
   },
   "outputs": [
    {
     "name": "stdout",
     "output_type": "stream",
     "text": [
      "Epoch 1/100\n",
      " 1/28 [>.............................] - ETA: 3s - loss: 2.1130 - acc: 0.0625\n",
      "Epoch 1: val_loss improved from inf to 1.67900, saving model to my_model.h5py\n",
      "INFO:tensorflow:Assets written to: my_model.h5py/assets\n",
      "28/28 [==============================] - 1s 14ms/step - loss: 2.0652 - acc: 0.3786 - val_loss: 1.6790 - val_acc: 0.4536\n",
      "Epoch 2/100\n",
      " 1/28 [>.............................] - ETA: 0s - loss: 1.6240 - acc: 0.4062\n",
      "Epoch 2: val_loss improved from 1.67900 to 1.66492, saving model to my_model.h5py\n",
      "INFO:tensorflow:Assets written to: my_model.h5py/assets\n",
      "28/28 [==============================] - 0s 11ms/step - loss: 1.6531 - acc: 0.4177 - val_loss: 1.6649 - val_acc: 0.4845\n",
      "Epoch 3/100\n",
      " 1/28 [>.............................] - ETA: 0s - loss: 1.8886 - acc: 0.3438\n",
      "Epoch 3: val_loss improved from 1.66492 to 1.55231, saving model to my_model.h5py\n",
      "INFO:tensorflow:Assets written to: my_model.h5py/assets\n",
      "28/28 [==============================] - 0s 8ms/step - loss: 1.6212 - acc: 0.4499 - val_loss: 1.5523 - val_acc: 0.4536\n",
      "Epoch 4/100\n",
      " 1/28 [>.............................] - ETA: 0s - loss: 1.6624 - acc: 0.4062\n",
      "Epoch 4: val_loss improved from 1.55231 to 1.54324, saving model to my_model.h5py\n",
      "INFO:tensorflow:Assets written to: my_model.h5py/assets\n",
      "28/28 [==============================] - 0s 8ms/step - loss: 1.5657 - acc: 0.4718 - val_loss: 1.5432 - val_acc: 0.5258\n",
      "Epoch 5/100\n",
      " 1/28 [>.............................] - ETA: 0s - loss: 1.5194 - acc: 0.5000\n",
      "Epoch 5: val_loss improved from 1.54324 to 1.45116, saving model to my_model.h5py\n",
      "INFO:tensorflow:Assets written to: my_model.h5py/assets\n",
      "28/28 [==============================] - 0s 8ms/step - loss: 1.5432 - acc: 0.4730 - val_loss: 1.4512 - val_acc: 0.5155\n",
      "Epoch 6/100\n",
      " 1/28 [>.............................] - ETA: 0s - loss: 1.3076 - acc: 0.5312\n",
      "Epoch 6: val_loss improved from 1.45116 to 1.38792, saving model to my_model.h5py\n",
      "INFO:tensorflow:Assets written to: my_model.h5py/assets\n",
      "28/28 [==============================] - 0s 8ms/step - loss: 1.4522 - acc: 0.4971 - val_loss: 1.3879 - val_acc: 0.5361\n",
      "Epoch 7/100\n",
      " 1/28 [>.............................] - ETA: 0s - loss: 1.2148 - acc: 0.6562\n",
      "Epoch 7: val_loss improved from 1.38792 to 1.38225, saving model to my_model.h5py\n",
      "INFO:tensorflow:Assets written to: my_model.h5py/assets\n",
      "28/28 [==============================] - 0s 8ms/step - loss: 1.3857 - acc: 0.5132 - val_loss: 1.3822 - val_acc: 0.5052\n",
      "Epoch 8/100\n",
      " 1/28 [>.............................] - ETA: 0s - loss: 1.0764 - acc: 0.7188\n",
      "Epoch 8: val_loss improved from 1.38225 to 1.31984, saving model to my_model.h5py\n",
      "INFO:tensorflow:Assets written to: my_model.h5py/assets\n",
      "28/28 [==============================] - 0s 8ms/step - loss: 1.3953 - acc: 0.5247 - val_loss: 1.3198 - val_acc: 0.5258\n",
      "Epoch 9/100\n",
      " 1/28 [>.............................] - ETA: 0s - loss: 1.1674 - acc: 0.6875\n",
      "Epoch 9: val_loss improved from 1.31984 to 1.29935, saving model to my_model.h5py\n",
      "INFO:tensorflow:Assets written to: my_model.h5py/assets\n",
      "28/28 [==============================] - 0s 8ms/step - loss: 1.3462 - acc: 0.5305 - val_loss: 1.2994 - val_acc: 0.5258\n",
      "Epoch 10/100\n",
      " 1/28 [>.............................] - ETA: 0s - loss: 1.5199 - acc: 0.4062\n",
      "Epoch 10: val_loss improved from 1.29935 to 1.22421, saving model to my_model.h5py\n",
      "INFO:tensorflow:Assets written to: my_model.h5py/assets\n",
      "28/28 [==============================] - 0s 9ms/step - loss: 1.2718 - acc: 0.5512 - val_loss: 1.2242 - val_acc: 0.5258\n",
      "Epoch 11/100\n",
      " 1/28 [>.............................] - ETA: 0s - loss: 1.2693 - acc: 0.5625\n",
      "Epoch 11: val_loss did not improve from 1.22421\n",
      "28/28 [==============================] - 0s 1ms/step - loss: 1.2415 - acc: 0.5616 - val_loss: 1.2640 - val_acc: 0.5361\n",
      "Epoch 12/100\n",
      " 1/28 [>.............................] - ETA: 0s - loss: 1.1538 - acc: 0.5625\n",
      "Epoch 12: val_loss did not improve from 1.22421\n",
      "28/28 [==============================] - 0s 1ms/step - loss: 1.1541 - acc: 0.5949 - val_loss: 1.2646 - val_acc: 0.5361\n",
      "Epoch 13/100\n",
      " 1/28 [>.............................] - ETA: 0s - loss: 1.3142 - acc: 0.5000\n",
      "Epoch 13: val_loss improved from 1.22421 to 1.10127, saving model to my_model.h5py\n",
      "INFO:tensorflow:Assets written to: my_model.h5py/assets\n",
      "28/28 [==============================] - 0s 9ms/step - loss: 1.1092 - acc: 0.6076 - val_loss: 1.1013 - val_acc: 0.6186\n",
      "Epoch 14/100\n",
      " 1/28 [>.............................] - ETA: 0s - loss: 0.9255 - acc: 0.6250\n",
      "Epoch 14: val_loss improved from 1.10127 to 1.04952, saving model to my_model.h5py\n",
      "INFO:tensorflow:Assets written to: my_model.h5py/assets\n",
      "28/28 [==============================] - 0s 9ms/step - loss: 1.0291 - acc: 0.6479 - val_loss: 1.0495 - val_acc: 0.6701\n",
      "Epoch 15/100\n",
      " 1/28 [>.............................] - ETA: 0s - loss: 1.1488 - acc: 0.5938\n",
      "Epoch 15: val_loss did not improve from 1.04952\n",
      "28/28 [==============================] - 0s 1ms/step - loss: 1.0406 - acc: 0.6536 - val_loss: 1.1516 - val_acc: 0.5258\n",
      "Epoch 16/100\n",
      " 1/28 [>.............................] - ETA: 0s - loss: 1.2960 - acc: 0.5000\n",
      "Epoch 16: val_loss improved from 1.04952 to 0.96105, saving model to my_model.h5py\n",
      "INFO:tensorflow:Assets written to: my_model.h5py/assets\n",
      "28/28 [==============================] - 0s 9ms/step - loss: 0.9752 - acc: 0.6663 - val_loss: 0.9611 - val_acc: 0.6907\n",
      "Epoch 17/100\n",
      " 1/28 [>.............................] - ETA: 0s - loss: 0.9902 - acc: 0.5938\n",
      "Epoch 17: val_loss improved from 0.96105 to 0.92676, saving model to my_model.h5py\n",
      "INFO:tensorflow:Assets written to: my_model.h5py/assets\n",
      "28/28 [==============================] - 0s 12ms/step - loss: 0.9333 - acc: 0.6824 - val_loss: 0.9268 - val_acc: 0.7113\n",
      "Epoch 18/100\n",
      " 1/28 [>.............................] - ETA: 0s - loss: 0.7316 - acc: 0.7812\n",
      "Epoch 18: val_loss improved from 0.92676 to 0.90690, saving model to my_model.h5py\n",
      "INFO:tensorflow:Assets written to: my_model.h5py/assets\n",
      "28/28 [==============================] - 0s 8ms/step - loss: 0.9086 - acc: 0.6835 - val_loss: 0.9069 - val_acc: 0.6804\n",
      "Epoch 19/100\n",
      " 1/28 [>.............................] - ETA: 0s - loss: 0.6856 - acc: 0.8438\n",
      "Epoch 19: val_loss did not improve from 0.90690\n",
      "28/28 [==============================] - 0s 1ms/step - loss: 0.8465 - acc: 0.7158 - val_loss: 0.9078 - val_acc: 0.7732\n",
      "Epoch 20/100\n",
      " 1/28 [>.............................] - ETA: 0s - loss: 0.8659 - acc: 0.7188\n",
      "Epoch 20: val_loss improved from 0.90690 to 0.87401, saving model to my_model.h5py\n",
      "INFO:tensorflow:Assets written to: my_model.h5py/assets\n",
      "28/28 [==============================] - 0s 8ms/step - loss: 0.8405 - acc: 0.7250 - val_loss: 0.8740 - val_acc: 0.7732\n",
      "Epoch 21/100\n",
      " 1/28 [>.............................] - ETA: 0s - loss: 0.6547 - acc: 0.9375\n",
      "Epoch 21: val_loss did not improve from 0.87401\n",
      "28/28 [==============================] - 0s 1ms/step - loss: 0.8350 - acc: 0.7135 - val_loss: 1.0332 - val_acc: 0.7629\n",
      "Epoch 22/100\n",
      " 1/28 [>.............................] - ETA: 0s - loss: 1.1938 - acc: 0.6250\n",
      "Epoch 22: val_loss improved from 0.87401 to 0.86192, saving model to my_model.h5py\n",
      "INFO:tensorflow:Assets written to: my_model.h5py/assets\n",
      "28/28 [==============================] - 0s 9ms/step - loss: 0.8078 - acc: 0.7342 - val_loss: 0.8619 - val_acc: 0.7113\n",
      "Epoch 23/100\n",
      " 1/28 [>.............................] - ETA: 0s - loss: 0.7456 - acc: 0.8125\n",
      "Epoch 23: val_loss improved from 0.86192 to 0.82224, saving model to my_model.h5py\n",
      "INFO:tensorflow:Assets written to: my_model.h5py/assets\n",
      "28/28 [==============================] - 0s 9ms/step - loss: 0.8066 - acc: 0.7330 - val_loss: 0.8222 - val_acc: 0.7320\n",
      "Epoch 24/100\n",
      " 1/28 [>.............................] - ETA: 0s - loss: 0.7156 - acc: 0.7812\n",
      "Epoch 24: val_loss did not improve from 0.82224\n",
      "28/28 [==============================] - 0s 1ms/step - loss: 0.7881 - acc: 0.7537 - val_loss: 1.1148 - val_acc: 0.5979\n",
      "Epoch 25/100\n",
      " 1/28 [>.............................] - ETA: 0s - loss: 1.1904 - acc: 0.5625\n",
      "Epoch 25: val_loss did not improve from 0.82224\n",
      "28/28 [==============================] - 0s 2ms/step - loss: 0.7488 - acc: 0.7779 - val_loss: 0.8284 - val_acc: 0.7216\n",
      "Epoch 26/100\n",
      " 1/28 [>.............................] - ETA: 0s - loss: 0.6465 - acc: 0.6875\n",
      "Epoch 26: val_loss did not improve from 0.82224\n"
     ]
    },
    {
     "name": "stdout",
     "output_type": "stream",
     "text": [
      "28/28 [==============================] - 0s 1ms/step - loss: 0.6526 - acc: 0.8078 - val_loss: 0.8698 - val_acc: 0.7113\n",
      "Epoch 27/100\n",
      " 1/28 [>.............................] - ETA: 0s - loss: 0.7982 - acc: 0.7188\n",
      "Epoch 27: val_loss did not improve from 0.82224\n",
      "28/28 [==============================] - 0s 1ms/step - loss: 0.6290 - acc: 0.8308 - val_loss: 0.8946 - val_acc: 0.6495\n",
      "Epoch 28/100\n",
      " 1/28 [>.............................] - ETA: 0s - loss: 0.7242 - acc: 0.6875\n",
      "Epoch 28: val_loss improved from 0.82224 to 0.75595, saving model to my_model.h5py\n",
      "INFO:tensorflow:Assets written to: my_model.h5py/assets\n",
      "28/28 [==============================] - 0s 9ms/step - loss: 0.6231 - acc: 0.8216 - val_loss: 0.7559 - val_acc: 0.8041\n",
      "Epoch 29/100\n",
      " 1/28 [>.............................] - ETA: 0s - loss: 0.6202 - acc: 0.8750\n",
      "Epoch 29: val_loss improved from 0.75595 to 0.71785, saving model to my_model.h5py\n",
      "INFO:tensorflow:Assets written to: my_model.h5py/assets\n",
      "28/28 [==============================] - 0s 8ms/step - loss: 0.6171 - acc: 0.8113 - val_loss: 0.7178 - val_acc: 0.7732\n",
      "Epoch 30/100\n",
      " 1/28 [>.............................] - ETA: 0s - loss: 0.4257 - acc: 0.9062\n",
      "Epoch 30: val_loss improved from 0.71785 to 0.70420, saving model to my_model.h5py\n",
      "INFO:tensorflow:Assets written to: my_model.h5py/assets\n",
      "28/28 [==============================] - 0s 8ms/step - loss: 0.5543 - acc: 0.8400 - val_loss: 0.7042 - val_acc: 0.7835\n",
      "Epoch 31/100\n",
      " 1/28 [>.............................] - ETA: 0s - loss: 0.6682 - acc: 0.7812\n",
      "Epoch 31: val_loss did not improve from 0.70420\n",
      "28/28 [==============================] - 0s 1ms/step - loss: 0.5787 - acc: 0.8366 - val_loss: 0.7469 - val_acc: 0.7423\n",
      "Epoch 32/100\n",
      " 1/28 [>.............................] - ETA: 0s - loss: 0.5152 - acc: 0.8750\n",
      "Epoch 32: val_loss did not improve from 0.70420\n",
      "28/28 [==============================] - 0s 1ms/step - loss: 0.5282 - acc: 0.8493 - val_loss: 0.7107 - val_acc: 0.7835\n",
      "Epoch 33/100\n",
      " 1/28 [>.............................] - ETA: 0s - loss: 0.3603 - acc: 0.9375\n",
      "Epoch 33: val_loss improved from 0.70420 to 0.66520, saving model to my_model.h5py\n",
      "INFO:tensorflow:Assets written to: my_model.h5py/assets\n",
      "28/28 [==============================] - 0s 8ms/step - loss: 0.5392 - acc: 0.8320 - val_loss: 0.6652 - val_acc: 0.7835\n",
      "Epoch 34/100\n",
      " 1/28 [>.............................] - ETA: 0s - loss: 0.4595 - acc: 0.8438\n",
      "Epoch 34: val_loss did not improve from 0.66520\n",
      "28/28 [==============================] - 0s 1ms/step - loss: 0.5103 - acc: 0.8562 - val_loss: 0.7187 - val_acc: 0.7629\n",
      "Epoch 35/100\n",
      " 1/28 [>.............................] - ETA: 0s - loss: 0.6338 - acc: 0.7500\n",
      "Epoch 35: val_loss did not improve from 0.66520\n",
      "28/28 [==============================] - 0s 1ms/step - loss: 0.5401 - acc: 0.8389 - val_loss: 0.7527 - val_acc: 0.7835\n",
      "Epoch 36/100\n",
      " 1/28 [>.............................] - ETA: 0s - loss: 0.5041 - acc: 0.9062\n",
      "Epoch 36: val_loss did not improve from 0.66520\n",
      "28/28 [==============================] - 0s 1ms/step - loss: 0.5527 - acc: 0.8308 - val_loss: 0.6962 - val_acc: 0.7938\n",
      "Epoch 37/100\n",
      " 1/28 [>.............................] - ETA: 0s - loss: 0.3903 - acc: 0.9062\n",
      "Epoch 37: val_loss did not improve from 0.66520\n",
      "28/28 [==============================] - 0s 1ms/step - loss: 0.5305 - acc: 0.8435 - val_loss: 1.0137 - val_acc: 0.6907\n",
      "Epoch 38/100\n",
      " 1/28 [>.............................] - ETA: 0s - loss: 0.4840 - acc: 0.8750\n",
      "Epoch 38: val_loss did not improve from 0.66520\n",
      "28/28 [==============================] - 0s 1ms/step - loss: 0.4866 - acc: 0.8700 - val_loss: 0.7487 - val_acc: 0.7732\n",
      "Epoch 38: early stopping\n"
     ]
    },
    {
     "data": {
      "text/plain": [
       "<keras.callbacks.History at 0x7fa28d01e4a0>"
      ]
     },
     "execution_count": 38,
     "metadata": {},
     "output_type": "execute_result"
    }
   ],
   "source": [
    "model.compile(\n",
    "    loss      = 'categorical_crossentropy',\n",
    "    optimizer = 'adam',\n",
    "    metrics   = ['acc'] )\n",
    "\n",
    "\n",
    "model.fit(X_train, y_train, validation_split=0.1, epochs=100, callbacks=[early_stopping, take_best_model])"
   ]
  },
  {
   "cell_type": "code",
   "execution_count": 39,
   "metadata": {
    "ExecuteTime": {
     "end_time": "2018-11-14T13:00:45.380490Z",
     "start_time": "2018-11-14T13:00:41.151274Z"
    }
   },
   "outputs": [
    {
     "name": "stdout",
     "output_type": "stream",
     "text": [
      "11/11 [==============================] - 0s 674us/step - loss: 0.6978 - acc: 0.8043\n"
     ]
    },
    {
     "data": {
      "text/plain": [
       "[0.6977956295013428, 0.804347813129425]"
      ]
     },
     "execution_count": 39,
     "metadata": {},
     "output_type": "execute_result"
    }
   ],
   "source": [
    "model.evaluate(X_test,y_test) # returns loss and metrics"
   ]
  },
  {
   "cell_type": "code",
   "execution_count": 41,
   "metadata": {},
   "outputs": [],
   "source": [
    "#load best model\n",
    "model_best = keras.models.load_model(\"my_model.h5py\")"
   ]
  },
  {
   "cell_type": "code",
   "execution_count": 42,
   "metadata": {},
   "outputs": [
    {
     "name": "stdout",
     "output_type": "stream",
     "text": [
      "11/11 [==============================] - 0s 949us/step - loss: 0.6324 - acc: 0.8416\n"
     ]
    },
    {
     "data": {
      "text/plain": [
       "[0.6323688626289368, 0.8416149020195007]"
      ]
     },
     "execution_count": 42,
     "metadata": {},
     "output_type": "execute_result"
    }
   ],
   "source": [
    "model_best.evaluate(X_test,y_test) # returns loss and metrics"
   ]
  },
  {
   "cell_type": "code",
   "execution_count": null,
   "metadata": {},
   "outputs": [],
   "source": []
  }
 ],
 "metadata": {
  "kernelspec": {
   "display_name": "Python 3 (ipykernel)",
   "language": "python",
   "name": "python3"
  },
  "language_info": {
   "codemirror_mode": {
    "name": "ipython",
    "version": 3
   },
   "file_extension": ".py",
   "mimetype": "text/x-python",
   "name": "python",
   "nbconvert_exporter": "python",
   "pygments_lexer": "ipython3",
   "version": "3.10.4"
  },
  "latex_envs": {
   "LaTeX_envs_menu_present": true,
   "autoclose": false,
   "autocomplete": true,
   "bibliofile": "biblio.bib",
   "cite_by": "apalike",
   "current_citInitial": 1,
   "eqLabelWithNumbers": true,
   "eqNumInitial": 1,
   "hotkeys": {
    "equation": "Ctrl-E",
    "itemize": "Ctrl-I"
   },
   "labels_anchors": false,
   "latex_user_defs": false,
   "report_style_numbering": false,
   "user_envs_cfg": false
  },
  "toc": {
   "nav_menu": {},
   "number_sections": true,
   "sideBar": true,
   "skip_h1_title": false,
   "title_cell": "Table of Contents",
   "title_sidebar": "Contents",
   "toc_cell": false,
   "toc_position": {},
   "toc_section_display": true,
   "toc_window_display": true
  }
 },
 "nbformat": 4,
 "nbformat_minor": 2
}
