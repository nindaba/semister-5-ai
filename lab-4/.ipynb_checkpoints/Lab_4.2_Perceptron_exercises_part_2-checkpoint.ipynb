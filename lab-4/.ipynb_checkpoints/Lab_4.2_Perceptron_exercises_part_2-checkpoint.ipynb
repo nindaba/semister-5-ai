{
 "cells": [
  {
   "cell_type": "markdown",
   "metadata": {},
   "source": [
    "<div style=\"font-size: 14pt;\">Prof. Krzysztof Rybinski</div><br/><br/>\n",
    "<div style=\"font-size: 22pt;\"><b>Artificial Intelligence course</b></div><br/><br/>\n",
    "<div style=\"font-size: 18pt;\">LAB 4.2</div><br/>\n",
    "<div style=\"font-size: 18pt;\">- Implementing perceptron class in Python</div><br/>\n"
   ]
  },
  {
   "cell_type": "code",
   "execution_count": 1,
   "metadata": {
    "ExecuteTime": {
     "end_time": "2018-11-13T07:46:28.994249Z",
     "start_time": "2018-11-13T07:46:28.570255Z"
    }
   },
   "outputs": [],
   "source": [
    "import numpy as np\n",
    "import pandas as pd\n",
    "import matplotlib.pyplot as plt\n",
    "import sklearn"
   ]
  },
  {
   "cell_type": "markdown",
   "metadata": {},
   "source": [
    "# Task"
   ]
  },
  {
   "cell_type": "markdown",
   "metadata": {},
   "source": [
    "Implement perceptron class with sigmoid activation function and *stochastic gradient descent*\n",
    "<img width=\"60%\" src=\"https://upload.wikimedia.org/wikipedia/commons/8/8c/Perceptron_moj.png\">\n"
   ]
  },
  {
   "cell_type": "code",
   "execution_count": 2,
   "metadata": {},
   "outputs": [],
   "source": [
    "def sigmoid(x):\n",
    "    return 1.0/(1.0+np.exp(-x))\n",
    "\n",
    "def loss(yhat, y):\n",
    "    return np.mean( -y*np.log(yhat) - (1-y)*np.log(1-yhat) ) "
   ]
  },
  {
   "cell_type": "code",
   "execution_count": null,
   "metadata": {},
   "outputs": [],
   "source": [
    "#If you ar enot familiar with classes in Python please watch this short video \n",
    "#https://www.youtube.com/watch?v=apACNr7DC_s"
   ]
  },
  {
   "cell_type": "code",
   "execution_count": 3,
   "metadata": {},
   "outputs": [],
   "source": [
    "class Perceptron(object):\n",
    "\n",
    "    def __init__(self, eta0=0.1, max_iter=50, random_state=0):\n",
    "        self.eta0 = eta0               # before, it was \\alpha\n",
    "        self.max_iter = max_iter\n",
    "        np.random.seed( random_state )    \n",
    "\n",
    "    def fit(self, X, y, verbose=False):\n",
    "        m, n = X.shape\n",
    "    \n",
    "        # initialize network parameters\n",
    "        self.W = np.random.randn(n,1 ) ###### np.zeros( )\n",
    "        self.b = np.random.randn()      ###### np.zeros( )\n",
    "\n",
    "        batch_size = 20\n",
    "        for i in range(self.max_iter):\n",
    "            for batch_nr in range(m//batch_size) : # SGD with batch_size\n",
    "                xi = X[ batch_nr*batch_size : (batch_nr+1)*batch_size]\n",
    "                yi = y[ batch_nr*batch_size : (batch_nr+1)*batch_size]\n",
    "\n",
    "                # Forward propagation\n",
    "                yhat = self.predict(xi)\n",
    "                \n",
    "                assert( yhat.shape == (batch_size,1) )\n",
    "\n",
    "                loss_ = loss(yhat, yi)\n",
    "                print('Epoch {}/{} : loss = {}'.format(batch_nr, i, loss_))\n",
    "\n",
    "                delta = (yhat-yi)/batch_size\n",
    "                db = np.sum(delta)\n",
    "                dW = xi.T.dot(delta)\n",
    " \n",
    "                self.b -= self.eta0 * db\n",
    "                self.W -= self.eta0 * dW\n",
    "\n",
    "            yhat = self.predict(X)\n",
    "            loss_ = loss(yhat, y)\n",
    "            print('Epoch {} : loss = {}'.format(i, loss_))\n",
    "\n",
    "    # treshold activation function\n",
    "    def predict_class(self, X):\n",
    "        return np.where( self.predict(X) >= 0.5, 1, 0 )\n",
    "\n",
    "    # should return probability\n",
    "    def predict(self, X):\n",
    "        return sigmoid(X.dot(self.W)+self.b)\n",
    "\n",
    "    def score(self, X, y):\n",
    "        return np.mean( self.predict_class(X) == y )\n",
    "    "
   ]
  },
  {
   "cell_type": "markdown",
   "metadata": {},
   "source": [
    "# Dataset"
   ]
  },
  {
   "cell_type": "code",
   "execution_count": 4,
   "metadata": {
    "ExecuteTime": {
     "end_time": "2018-11-13T09:11:48.885005Z",
     "start_time": "2018-11-13T09:11:48.718278Z"
    }
   },
   "outputs": [
    {
     "name": "stdout",
     "output_type": "stream",
     "text": [
      "X.shape = (1000, 2) \n",
      "y.shape = (1000,)\n",
      "\n",
      "blue = class 0,   red = class 1 \n"
     ]
    },
    {
     "data": {
      "image/png": "[encoded data removed]",
      "text/plain": [
       "<Figure size 432x288 with 1 Axes>"
      ]
     },
     "metadata": {
      "needs_background": "light"
     },
     "output_type": "display_data"
    }
   ],
   "source": [
    "from sklearn import datasets\n",
    "\n",
    "m, n = 1000, 2\n",
    "\n",
    "X, y = datasets.make_classification(n_samples=m, n_features=n, n_informative=2, n_redundant = 0, random_state=1234)\n",
    "\n",
    "print('X.shape =', X.shape, '\\ny.shape =', y.shape )\n",
    "ind0 = np.where(y==0)\n",
    "ind1 = np.where(y==1)\n",
    "plt.scatter( X[ind0,0], X[ind0,1], color='b' )\n",
    "plt.scatter( X[ind1,0], X[ind1,1], color='r' )\n",
    "print(\"\\nblue = class 0,   red = class 1 \")\n",
    "plt.show()"
   ]
  },
  {
   "cell_type": "code",
   "execution_count": 5,
   "metadata": {
    "ExecuteTime": {
     "end_time": "2018-11-13T09:11:49.004115Z",
     "start_time": "2018-11-13T09:11:48.929032Z"
    }
   },
   "outputs": [],
   "source": [
    "n_samples = 1000\n",
    "X, y = datasets.make_classification(n_samples=n_samples, n_features=2,\n",
    "                                    n_informative=2, n_redundant = 0, random_state=1234)"
   ]
  },
  {
   "cell_type": "code",
   "execution_count": 6,
   "metadata": {
    "ExecuteTime": {
     "end_time": "2018-11-13T09:11:49.004115Z",
     "start_time": "2018-11-13T09:11:48.929032Z"
    }
   },
   "outputs": [
    {
     "name": "stdout",
     "output_type": "stream",
     "text": [
      "(1000, 2) (1000,)\n"
     ]
    }
   ],
   "source": [
    "print( X.shape, y.shape )"
   ]
  },
  {
   "cell_type": "code",
   "execution_count": 7,
   "metadata": {},
   "outputs": [],
   "source": [
    "m, n = 1000, 2\n",
    "X = np.reshape( X, (m,n) )\n",
    "y = np.reshape( y, (m,1) )"
   ]
  },
  {
   "cell_type": "code",
   "execution_count": 8,
   "metadata": {
    "ExecuteTime": {
     "end_time": "2018-11-13T09:11:49.004115Z",
     "start_time": "2018-11-13T09:11:48.929032Z"
    }
   },
   "outputs": [],
   "source": [
    "model = Perceptron(max_iter=10, eta0=0.05, random_state=0)"
   ]
  },
  {
   "cell_type": "code",
   "execution_count": 9,
   "metadata": {
    "ExecuteTime": {
     "end_time": "2018-11-13T09:11:49.004115Z",
     "start_time": "2018-11-13T09:11:48.929032Z"
    }
   },
   "outputs": [
    {
     "name": "stdout",
     "output_type": "stream",
     "text": [
      "Epoch 0/0 : loss = 1.274831961934336\n",
      "Epoch 1/0 : loss = 0.8833700788709808\n",
      "Epoch 2/0 : loss = 1.3101690406659574\n",
      "Epoch 3/0 : loss = 1.1523333345528017\n",
      "Epoch 4/0 : loss = 0.7598501890729341\n",
      "Epoch 5/0 : loss = 1.1895663328715982\n",
      "Epoch 6/0 : loss = 1.1304086010651817\n",
      "Epoch 7/0 : loss = 0.7672892975437398\n",
      "Epoch 8/0 : loss = 0.9825558812950183\n",
      "Epoch 9/0 : loss = 0.5233209836361561\n",
      "Epoch 10/0 : loss = 0.7863090745739483\n",
      "Epoch 11/0 : loss = 0.4966618490618792\n",
      "Epoch 12/0 : loss = 0.9922793878051429\n",
      "Epoch 13/0 : loss = 1.0273665805886676\n",
      "Epoch 14/0 : loss = 0.9434529177932912\n",
      "Epoch 15/0 : loss = 0.815989765289431\n",
      "Epoch 16/0 : loss = 0.9738414758494873\n",
      "Epoch 17/0 : loss = 0.5429519624296223\n",
      "Epoch 18/0 : loss = 0.6937532307629851\n",
      "Epoch 19/0 : loss = 0.4924268076866836\n",
      "Epoch 20/0 : loss = 1.0956465461736244\n",
      "Epoch 21/0 : loss = 0.9204339888216223\n",
      "Epoch 22/0 : loss = 0.7598276498907707\n",
      "Epoch 23/0 : loss = 0.5821081162510617\n",
      "Epoch 24/0 : loss = 0.7637408832272593\n",
      "Epoch 25/0 : loss = 0.9304573577439053\n",
      "Epoch 26/0 : loss = 0.414125871212652\n",
      "Epoch 27/0 : loss = 0.5110888372192139\n",
      "Epoch 28/0 : loss = 0.6400637466771669\n",
      "Epoch 29/0 : loss = 0.8149189736509046\n",
      "Epoch 30/0 : loss = 0.4944193432080099\n",
      "Epoch 31/0 : loss = 0.577276499560625\n",
      "Epoch 32/0 : loss = 0.8110185983278804\n",
      "Epoch 33/0 : loss = 0.6346719635160543\n",
      "Epoch 34/0 : loss = 0.5268666672868236\n",
      "Epoch 35/0 : loss = 0.43024595242499536\n",
      "Epoch 36/0 : loss = 0.5684271647798189\n",
      "Epoch 37/0 : loss = 0.42119877956322094\n",
      "Epoch 38/0 : loss = 0.4616580191621701\n",
      "Epoch 39/0 : loss = 0.6522522850958803\n",
      "Epoch 40/0 : loss = 0.6266060519094677\n",
      "Epoch 41/0 : loss = 0.3818056750715193\n",
      "Epoch 42/0 : loss = 0.5180994257829119\n",
      "Epoch 43/0 : loss = 0.9270111530070334\n",
      "Epoch 44/0 : loss = 0.5781168512791884\n",
      "Epoch 45/0 : loss = 0.42645381777662805\n",
      "Epoch 46/0 : loss = 0.5569600722516616\n",
      "Epoch 47/0 : loss = 0.42135306618560603\n",
      "Epoch 48/0 : loss = 0.4584173102328902\n",
      "Epoch 49/0 : loss = 0.6647526164857709\n",
      "Epoch 0 : loss = 0.4882721146366077\n",
      "Epoch 0/1 : loss = 0.570724435193558\n",
      "Epoch 1/1 : loss = 0.4864745072901573\n",
      "Epoch 2/1 : loss = 0.612683604253736\n",
      "Epoch 3/1 : loss = 0.4786475807214553\n",
      "Epoch 4/1 : loss = 0.5200572530574401\n",
      "Epoch 5/1 : loss = 0.6251015064414169\n",
      "Epoch 6/1 : loss = 0.49575546218757677\n",
      "Epoch 7/1 : loss = 0.3379877232738155\n",
      "Epoch 8/1 : loss = 0.5150892322512379\n",
      "Epoch 9/1 : loss = 0.31120211972134626\n",
      "Epoch 10/1 : loss = 0.3653708119755662\n",
      "Epoch 11/1 : loss = 0.2364508022943174\n",
      "Epoch 12/1 : loss = 0.5777476762461007\n",
      "Epoch 13/1 : loss = 0.4282566197409043\n",
      "Epoch 14/1 : loss = 0.4379835152613648\n",
      "Epoch 15/1 : loss = 0.42375486967039705\n",
      "Epoch 16/1 : loss = 0.4994361788840481\n",
      "Epoch 17/1 : loss = 0.27097177283894375\n",
      "Epoch 18/1 : loss = 0.3643200987356517\n",
      "Epoch 19/1 : loss = 0.28562300895408643\n",
      "Epoch 20/1 : loss = 0.5447640692957477\n",
      "Epoch 21/1 : loss = 0.46363829581988575\n",
      "Epoch 22/1 : loss = 0.38893105680730156\n",
      "Epoch 23/1 : loss = 0.293164288666382\n",
      "Epoch 24/1 : loss = 0.3562241561208056\n",
      "Epoch 25/1 : loss = 0.544010443757251\n",
      "Epoch 26/1 : loss = 0.23622438211073687\n",
      "Epoch 27/1 : loss = 0.33032224417084294\n",
      "Epoch 28/1 : loss = 0.449740939066624\n",
      "Epoch 29/1 : loss = 0.5040199533961802\n",
      "Epoch 30/1 : loss = 0.2406676303543996\n",
      "Epoch 31/1 : loss = 0.3294937927599645\n",
      "Epoch 32/1 : loss = 0.5909181265899002\n",
      "Epoch 33/1 : loss = 0.35146032948549927\n",
      "Epoch 34/1 : loss = 0.33477713327911807\n",
      "Epoch 35/1 : loss = 0.23161267642334887\n",
      "Epoch 36/1 : loss = 0.2347135140667163\n",
      "Epoch 37/1 : loss = 0.2918180650486988\n",
      "Epoch 38/1 : loss = 0.38722931646368497\n",
      "Epoch 39/1 : loss = 0.4725083557267582\n",
      "Epoch 40/1 : loss = 0.41159031085868875\n",
      "Epoch 41/1 : loss = 0.24728676360175608\n",
      "Epoch 42/1 : loss = 0.3585926193392257\n",
      "Epoch 43/1 : loss = 0.6058976630099507\n",
      "Epoch 44/1 : loss = 0.4213957395643474\n",
      "Epoch 45/1 : loss = 0.2753084596226845\n",
      "Epoch 46/1 : loss = 0.3047927062638994\n",
      "Epoch 47/1 : loss = 0.2672809995157837\n",
      "Epoch 48/1 : loss = 0.3009822362865899\n",
      "Epoch 49/1 : loss = 0.33029178384700686\n",
      "Epoch 1 : loss = 0.3371386432225055\n",
      "Epoch 0/2 : loss = 0.3829877584355891\n",
      "Epoch 1/2 : loss = 0.35873955872777313\n",
      "Epoch 2/2 : loss = 0.41601536049765275\n",
      "Epoch 3/2 : loss = 0.31670716506359725\n",
      "Epoch 4/2 : loss = 0.44029915726376884\n",
      "Epoch 5/2 : loss = 0.47434649245901966\n",
      "Epoch 6/2 : loss = 0.40654046282074613\n",
      "Epoch 7/2 : loss = 0.2207473546121296\n",
      "Epoch 8/2 : loss = 0.37898341480733005\n",
      "Epoch 9/2 : loss = 0.24766909037372042\n",
      "Epoch 10/2 : loss = 0.2775000145509426\n",
      "Epoch 11/2 : loss = 0.17533736432697755\n",
      "Epoch 12/2 : loss = 0.4616915825963058\n",
      "Epoch 13/2 : loss = 0.2632589141449687\n",
      "Epoch 14/2 : loss = 0.3071455798210805\n",
      "Epoch 15/2 : loss = 0.3092839556368763\n",
      "Epoch 16/2 : loss = 0.3671593449440931\n",
      "Epoch 17/2 : loss = 0.20709873015651997\n",
      "Epoch 18/2 : loss = 0.27556825522704637\n",
      "Epoch 19/2 : loss = 0.254755624744712\n",
      "Epoch 20/2 : loss = 0.39584240490811123\n",
      "Epoch 21/2 : loss = 0.318731646592096\n",
      "Epoch 22/2 : loss = 0.27342659113203843\n",
      "Epoch 23/2 : loss = 0.22788229439351673\n",
      "Epoch 24/2 : loss = 0.25764575281811475\n",
      "Epoch 25/2 : loss = 0.4100805306151476\n",
      "Epoch 26/2 : loss = 0.18474385434072865\n",
      "Epoch 27/2 : loss = 0.2694193759635164\n",
      "Epoch 28/2 : loss = 0.3806521070682513\n",
      "Epoch 29/2 : loss = 0.4029566976030143\n",
      "Epoch 30/2 : loss = 0.16802553102776432\n",
      "Epoch 31/2 : loss = 0.2554911823256047\n",
      "Epoch 32/2 : loss = 0.5157617038909394\n",
      "Epoch 33/2 : loss = 0.26775617998030565\n",
      "Epoch 34/2 : loss = 0.2662603194313793\n",
      "Epoch 35/2 : loss = 0.19116746530831177\n",
      "Epoch 36/2 : loss = 0.15536054649180814\n",
      "Epoch 37/2 : loss = 0.2446535719666299\n",
      "Epoch 38/2 : loss = 0.38211122081962234\n",
      "Epoch 39/2 : loss = 0.4046811789532779\n",
      "Epoch 40/2 : loss = 0.37194840906343635\n",
      "Epoch 41/2 : loss = 0.20980199515559486\n",
      "Epoch 42/2 : loss = 0.31446802891327913\n",
      "Epoch 43/2 : loss = 0.5023323169773407\n",
      "Epoch 44/2 : loss = 0.3659516748193822\n",
      "Epoch 45/2 : loss = 0.2246744013205908\n",
      "Epoch 46/2 : loss = 0.2414802148377675\n",
      "Epoch 47/2 : loss = 0.2115560332474787\n",
      "Epoch 48/2 : loss = 0.24006796094207705\n",
      "Epoch 49/2 : loss = 0.21641943667394345\n",
      "Epoch 2 : loss = 0.2848918926083712\n",
      "Epoch 0/3 : loss = 0.3202782914088711\n",
      "Epoch 1/3 : loss = 0.30687054606687697\n",
      "Epoch 2/3 : loss = 0.3377658905836817\n",
      "Epoch 3/3 : loss = 0.26764599099199055\n",
      "Epoch 4/3 : loss = 0.4053701414520784\n",
      "Epoch 5/3 : loss = 0.4219747345481292\n",
      "Epoch 6/3 : loss = 0.3925410175925036\n",
      "Epoch 7/3 : loss = 0.17747704787829752\n",
      "Epoch 8/3 : loss = 0.3216176748466869\n",
      "Epoch 9/3 : loss = 0.22074420271170986\n",
      "Epoch 10/3 : loss = 0.2515043028879345\n",
      "Epoch 11/3 : loss = 0.15677593868359446\n",
      "Epoch 12/3 : loss = 0.41606988760586433\n",
      "Epoch 13/3 : loss = 0.20172184043293942\n",
      "Epoch 14/3 : loss = 0.2589932448120713\n",
      "Epoch 15/3 : loss = 0.26129535974579465\n",
      "Epoch 16/3 : loss = 0.3119244515659003\n",
      "Epoch 17/3 : loss = 0.18303999213932656\n",
      "Epoch 18/3 : loss = 0.23819176877191292\n",
      "Epoch 19/3 : loss = 0.248752673263603\n",
      "Epoch 20/3 : loss = 0.33766022065269025\n",
      "Epoch 21/3 : loss = 0.25678249308844575\n",
      "Epoch 22/3 : loss = 0.2208052288366992\n",
      "Epoch 23/3 : loss = 0.20057232754643178\n",
      "Epoch 24/3 : loss = 0.21674589838483777\n",
      "Epoch 25/3 : loss = 0.34623831980505204\n",
      "Epoch 26/3 : loss = 0.16066474128233188\n",
      "Epoch 27/3 : loss = 0.24083635863231612\n",
      "Epoch 28/3 : loss = 0.34752520154757127\n",
      "Epoch 29/3 : loss = 0.3527800183642681\n",
      "Epoch 30/3 : loss = 0.1388811879673157\n",
      "Epoch 31/3 : loss = 0.220883579330826\n",
      "Epoch 32/3 : loss = 0.48052538520019344\n",
      "Epoch 33/3 : loss = 0.2295222870493358\n",
      "Epoch 34/3 : loss = 0.23260779133938664\n",
      "Epoch 35/3 : loss = 0.17789772336074297\n",
      "Epoch 36/3 : loss = 0.12571203894745228\n",
      "Epoch 37/3 : loss = 0.22127156288964156\n",
      "Epoch 38/3 : loss = 0.3874721419748089\n",
      "Epoch 39/3 : loss = 0.3718964075228896\n",
      "Epoch 40/3 : loss = 0.3578075795149148\n",
      "Epoch 41/3 : loss = 0.19414931523928458\n",
      "Epoch 42/3 : loss = 0.29505533438956977\n",
      "Epoch 43/3 : loss = 0.4510130141164101\n",
      "Epoch 44/3 : loss = 0.336427731193321\n",
      "Epoch 45/3 : loss = 0.20065797414107484\n",
      "Epoch 46/3 : loss = 0.21330940625553946\n",
      "Epoch 47/3 : loss = 0.18213411998162887\n",
      "Epoch 48/3 : loss = 0.20775821006496678\n",
      "Epoch 49/3 : loss = 0.16220673008784506\n",
      "Epoch 3 : loss = 0.2592802186110198\n",
      "Epoch 0/4 : loss = 0.2914450199152647\n",
      "Epoch 1/4 : loss = 0.2792045527929801\n",
      "Epoch 2/4 : loss = 0.29651610587558197\n",
      "Epoch 3/4 : loss = 0.24592551713734956\n",
      "Epoch 4/4 : loss = 0.38656406343204364\n",
      "Epoch 5/4 : loss = 0.39627830175146916\n",
      "Epoch 6/4 : loss = 0.39267608000266013\n",
      "Epoch 7/4 : loss = 0.1549473547727067\n",
      "Epoch 8/4 : loss = 0.28946249938968893\n",
      "Epoch 9/4 : loss = 0.20529316519220261\n",
      "Epoch 10/4 : loss = 0.240557550687089\n",
      "Epoch 11/4 : loss = 0.1486427481991967\n",
      "Epoch 12/4 : loss = 0.39280271129180677\n",
      "Epoch 13/4 : loss = 0.17073451406943413\n",
      "Epoch 14/4 : loss = 0.23515028257032192\n",
      "Epoch 15/4 : loss = 0.23549758173499963\n",
      "Epoch 16/4 : loss = 0.28194021603098945\n",
      "Epoch 17/4 : loss = 0.17055704136190356\n",
      "Epoch 18/4 : loss = 0.2172187124309545\n",
      "Epoch 19/4 : loss = 0.2476755941075297\n",
      "Epoch 20/4 : loss = 0.3074448392684156\n",
      "Epoch 21/4 : loss = 0.2232801478670555\n",
      "Epoch 22/4 : loss = 0.19082256462489494\n",
      "Epoch 23/4 : loss = 0.18568605778826774\n",
      "Epoch 24/4 : loss = 0.19479708732655188\n",
      "Epoch 25/4 : loss = 0.3098879681375949\n",
      "Epoch 26/4 : loss = 0.1458684854849151\n",
      "Epoch 27/4 : loss = 0.22413467383220548\n",
      "Epoch 28/4 : loss = 0.3288879866448339\n",
      "Epoch 29/4 : loss = 0.32215272466128136\n",
      "Epoch 30/4 : loss = 0.12327431767672085\n",
      "Epoch 31/4 : loss = 0.200133289006392\n",
      "Epoch 32/4 : loss = 0.4613005636039837\n",
      "Epoch 33/4 : loss = 0.20731224467373782\n",
      "Epoch 34/4 : loss = 0.2130817854902228\n",
      "Epoch 35/4 : loss = 0.17104849390452873\n",
      "Epoch 36/4 : loss = 0.11078367943566422\n",
      "Epoch 37/4 : loss = 0.20757542691950204\n",
      "Epoch 38/4 : loss = 0.39417835624830677\n",
      "Epoch 39/4 : loss = 0.3534168476559993\n",
      "Epoch 40/4 : loss = 0.350961892129929\n",
      "Epoch 41/4 : loss = 0.1853638380921739\n",
      "Epoch 42/4 : loss = 0.28445807046846366\n",
      "Epoch 43/4 : loss = 0.4208521468662882\n",
      "Epoch 44/4 : loss = 0.3168805301989751\n",
      "Epoch 45/4 : loss = 0.18682926036014902\n",
      "Epoch 46/4 : loss = 0.1967044096581761\n",
      "Epoch 47/4 : loss = 0.16303089013004488\n",
      "Epoch 48/4 : loss = 0.18736845775901032\n",
      "Epoch 49/4 : loss = 0.13079255232003584\n",
      "Epoch 4 : loss = 0.24411063055688104\n",
      "Epoch 0/5 : loss = 0.2757348728908976\n",
      "Epoch 1/5 : loss = 0.26182641417521385\n",
      "Epoch 2/5 : loss = 0.2712332141093362\n",
      "Epoch 3/5 : loss = 0.23379575571200287\n",
      "Epoch 4/5 : loss = 0.37522032431438246\n",
      "Epoch 5/5 : loss = 0.38161669550900024\n",
      "Epoch 6/5 : loss = 0.39649976127712905\n",
      "Epoch 7/5 : loss = 0.140529965644424\n",
      "Epoch 8/5 : loss = 0.2685786205480537\n",
      "Epoch 9/5 : loss = 0.19483559314064341\n",
      "Epoch 10/5 : loss = 0.23496978195817997\n",
      "Epoch 11/5 : loss = 0.14400738032359314\n",
      "Epoch 12/5 : loss = 0.37913003070681456\n",
      "Epoch 13/5 : loss = 0.15203976702055727\n",
      "Epoch 14/5 : loss = 0.22137342585348274\n",
      "Epoch 15/5 : loss = 0.21946248232839025\n",
      "Epoch 16/5 : loss = 0.26312689688423574\n",
      "Epoch 17/5 : loss = 0.1627520546123596\n",
      "Epoch 18/5 : loss = 0.20341029009994674\n",
      "Epoch 19/5 : loss = 0.24807930705851544\n",
      "Epoch 20/5 : loss = 0.28877414692212977\n",
      "Epoch 21/5 : loss = 0.2022188554441791\n",
      "Epoch 22/5 : loss = 0.17146761893181467\n",
      "Epoch 23/5 : loss = 0.17607337542090187\n",
      "Epoch 24/5 : loss = 0.1812522327491122\n",
      "Epoch 25/5 : loss = 0.28688507346597253\n",
      "Epoch 26/5 : loss = 0.13534031168139815\n",
      "Epoch 27/5 : loss = 0.21296512333825116\n",
      "Epoch 28/5 : loss = 0.3172386564902263\n",
      "Epoch 29/5 : loss = 0.3013532165975549\n",
      "Epoch 30/5 : loss = 0.11310415889453555\n",
      "Epoch 31/5 : loss = 0.18590339766756905\n",
      "Epoch 32/5 : loss = 0.4499350321497329\n",
      "Epoch 33/5 : loss = 0.19248801196747117\n",
      "Epoch 34/5 : loss = 0.20049343294993208\n",
      "Epoch 35/5 : loss = 0.16618645677028543\n",
      "Epoch 36/5 : loss = 0.10168883407691302\n",
      "Epoch 37/5 : loss = 0.19863680660363942\n",
      "Epoch 38/5 : loss = 0.4004080530383887\n",
      "Epoch 39/5 : loss = 0.34181917778929083\n",
      "Epoch 40/5 : loss = 0.34714693673312264\n",
      "Epoch 41/5 : loss = 0.17939158378449993\n",
      "Epoch 42/5 : loss = 0.27793164111241847\n",
      "Epoch 43/5 : loss = 0.40148922175842194\n",
      "Epoch 44/5 : loss = 0.3024713133111251\n",
      "Epoch 45/5 : loss = 0.17779701717505036\n",
      "Epoch 46/5 : loss = 0.1854144795825794\n",
      "Epoch 47/5 : loss = 0.14918441116950124\n",
      "Epoch 48/5 : loss = 0.17306121191359727\n",
      "Epoch 49/5 : loss = 0.11028734033762726\n",
      "Epoch 5 : loss = 0.23403116933011067\n",
      "Epoch 0/6 : loss = 0.2662569099839763\n",
      "Epoch 1/6 : loss = 0.24969066248030894\n",
      "Epoch 2/6 : loss = 0.25423231834550075\n",
      "Epoch 3/6 : loss = 0.22595008174389264\n",
      "Epoch 4/6 : loss = 0.3678610942150182\n",
      "Epoch 5/6 : loss = 0.37248205581343263\n",
      "Epoch 6/6 : loss = 0.4013599889602551\n",
      "Epoch 7/6 : loss = 0.1301335022035115\n",
      "Epoch 8/6 : loss = 0.25375708169970784\n",
      "Epoch 9/6 : loss = 0.1870956747354158\n",
      "Epoch 10/6 : loss = 0.23180428578950535\n",
      "Epoch 11/6 : loss = 0.14084733150303508\n",
      "Epoch 12/6 : loss = 0.370391180976774\n",
      "Epoch 13/6 : loss = 0.1393981901867862\n",
      "Epoch 14/6 : loss = 0.21258998120328507\n",
      "Epoch 15/6 : loss = 0.20847992415060781\n",
      "Epoch 16/6 : loss = 0.2501838547754163\n",
      "Epoch 17/6 : loss = 0.1572849737826816\n",
      "Epoch 18/6 : loss = 0.1933830186957773\n",
      "Epoch 19/6 : loss = 0.24908173627128613\n",
      "Epoch 20/6 : loss = 0.27587352172247837\n",
      "Epoch 21/6 : loss = 0.18755835776499782\n",
      "Epoch 22/6 : loss = 0.15793077229601693\n",
      "Epoch 23/6 : loss = 0.16909571130565954\n",
      "Epoch 24/6 : loss = 0.1720543487680247\n",
      "Epoch 25/6 : loss = 0.27119666494238925\n",
      "Epoch 26/6 : loss = 0.12722600072417506\n",
      "Epoch 27/6 : loss = 0.20482054417930282\n",
      "Epoch 28/6 : loss = 0.30937684770817986\n",
      "Epoch 29/6 : loss = 0.28628501355796054\n",
      "Epoch 30/6 : loss = 0.10563453485337329\n",
      "Epoch 31/6 : loss = 0.17533410690423595\n",
      "Epoch 32/6 : loss = 0.4428658854004014\n",
      "Epoch 33/6 : loss = 0.18166256365219874\n",
      "Epoch 34/6 : loss = 0.1917151838228193\n",
      "Epoch 35/6 : loss = 0.16218210796392996\n",
      "Epoch 36/6 : loss = 0.09541712472967427\n",
      "Epoch 37/6 : loss = 0.19232745221527764\n",
      "Epoch 38/6 : loss = 0.40591934516226474\n",
      "Epoch 39/6 : loss = 0.3339619204295978\n",
      "Epoch 40/6 : loss = 0.3448903941788585\n",
      "Epoch 41/6 : loss = 0.17484318797680828\n",
      "Epoch 42/6 : loss = 0.27359963906803564\n",
      "Epoch 43/6 : loss = 0.38832715599351053\n",
      "Epoch 44/6 : loss = 0.29122771948450177\n",
      "Epoch 45/6 : loss = 0.17135666478411368\n",
      "Epoch 46/6 : loss = 0.17710934335624187\n",
      "Epoch 47/6 : loss = 0.13850249686141877\n",
      "Epoch 48/6 : loss = 0.16230318649308254\n",
      "Epoch 49/6 : loss = 0.09581729459219403\n",
      "Epoch 6 : loss = 0.22681191350473284\n",
      "Epoch 0/7 : loss = 0.2601316265325865\n",
      "Epoch 1/7 : loss = 0.2405840297385752\n",
      "Epoch 2/7 : loss = 0.24206515533908765\n",
      "Epoch 3/7 : loss = 0.22040388759030902\n",
      "Epoch 4/7 : loss = 0.3628436652112529\n",
      "Epoch 5/7 : loss = 0.366428578336882\n",
      "Epoch 6/7 : loss = 0.40644920955894204\n",
      "Epoch 7/7 : loss = 0.12209459551135293\n",
      "Epoch 8/7 : loss = 0.24259446054923695\n",
      "Epoch 9/7 : loss = 0.1810663588655605\n",
      "Epoch 10/7 : loss = 0.22993288961083028\n",
      "Epoch 11/7 : loss = 0.13843730710563507\n",
      "Epoch 12/7 : loss = 0.3645218500836471\n",
      "Epoch 13/7 : loss = 0.1301746164422901\n",
      "Epoch 14/7 : loss = 0.20657932868307247\n",
      "Epoch 15/7 : loss = 0.20041972769795885\n",
      "Epoch 16/7 : loss = 0.24069618122658318\n",
      "Epoch 17/7 : loss = 0.15318102940421116\n",
      "Epoch 18/7 : loss = 0.18562502963359193\n",
      "Epoch 19/7 : loss = 0.2503885140327049\n",
      "Epoch 20/7 : loss = 0.2662841517000321\n",
      "Epoch 21/7 : loss = 0.17659758602959413\n",
      "Epoch 22/7 : loss = 0.1479091230050104\n",
      "Epoch 23/7 : loss = 0.16362265345376395\n",
      "Epoch 24/7 : loss = 0.165342619570025\n",
      "Epoch 25/7 : loss = 0.25985434181557554\n",
      "Epoch 26/7 : loss = 0.12068303271424015\n",
      "Epoch 27/7 : loss = 0.19852836825732884\n",
      "Epoch 28/7 : loss = 0.3037587197392481\n",
      "Epoch 29/7 : loss = 0.27487660363025884\n",
      "Epoch 30/7 : loss = 0.09976377198008049\n",
      "Epoch 31/7 : loss = 0.16707137120764126\n",
      "Epoch 32/7 : loss = 0.43831719137581937\n",
      "Epoch 33/7 : loss = 0.17325740767395162\n",
      "Epoch 34/7 : loss = 0.18520483571844565\n",
      "Epoch 35/7 : loss = 0.15872396925865304\n",
      "Epoch 36/7 : loss = 0.09073478995583568\n",
      "Epoch 37/7 : loss = 0.1876020521321576\n",
      "Epoch 38/7 : loss = 0.41081568656100187\n",
      "Epoch 39/7 : loss = 0.3283563065756841\n",
      "Epoch 40/7 : loss = 0.3435537939198873\n",
      "Epoch 41/7 : loss = 0.17115029955839847\n",
      "Epoch 42/7 : loss = 0.270583128795185\n",
      "Epoch 43/7 : loss = 0.37899531813234993\n",
      "Epoch 44/7 : loss = 0.2821518119386752\n",
      "Epoch 45/7 : loss = 0.16646887041676045\n",
      "Epoch 46/7 : loss = 0.1707036605405935\n",
      "Epoch 47/7 : loss = 0.12993761925922961\n",
      "Epoch 48/7 : loss = 0.15382285132779408\n",
      "Epoch 49/7 : loss = 0.08503500536968371\n",
      "Epoch 7 : loss = 0.22136911940683957\n",
      "Epoch 0/8 : loss = 0.25596949625115367\n",
      "Epoch 1/8 : loss = 0.23339785216402822\n",
      "Epoch 2/8 : loss = 0.2329584622674151\n",
      "Epoch 3/8 : loss = 0.21627610245774295\n",
      "Epoch 4/8 : loss = 0.35930431271140545\n",
      "Epoch 5/8 : loss = 0.36222207760496383\n",
      "Epoch 6/8 : loss = 0.4114955996645088\n",
      "Epoch 7/8 : loss = 0.11560706726788639\n",
      "Epoch 8/8 : loss = 0.23382234356246306\n",
      "Epoch 9/8 : loss = 0.17621653158738715\n",
      "Epoch 10/8 : loss = 0.22883950693945673\n",
      "Epoch 11/8 : loss = 0.1364744586530045\n",
      "Epoch 12/8 : loss = 0.3604723001964603\n",
      "Epoch 13/8 : loss = 0.12307896221514183\n",
      "Epoch 14/8 : loss = 0.20223755897331955\n",
      "Epoch 15/8 : loss = 0.19419683241674368\n",
      "Epoch 16/8 : loss = 0.23341489120113695\n",
      "Epoch 17/8 : loss = 0.14996442080210506\n",
      "Epoch 18/8 : loss = 0.17935934336864293\n",
      "Epoch 19/8 : loss = 0.25187306210647453\n",
      "Epoch 20/8 : loss = 0.25879908863843293\n",
      "Epoch 21/8 : loss = 0.1679730922765553\n",
      "Epoch 22/8 : loss = 0.14016463173910856\n",
      "Epoch 23/8 : loss = 0.15911003320173842\n",
      "Epoch 24/8 : loss = 0.16016605790703026\n",
      "Epoch 25/8 : loss = 0.2512572141713618\n",
      "Epoch 26/8 : loss = 0.11525843383418259\n",
      "Epoch 27/8 : loss = 0.1934662365911466\n",
      "Epoch 28/8 : loss = 0.29956657068739456\n",
      "Epoch 29/8 : loss = 0.2659520152004161\n",
      "Epoch 30/8 : loss = 0.09496852116814117\n",
      "Epoch 31/8 : loss = 0.16038084651850532\n",
      "Epoch 32/8 : loss = 0.43532623135511683\n",
      "Epoch 33/8 : loss = 0.1664435126197092\n",
      "Epoch 34/8 : loss = 0.18013551667860955\n",
      "Epoch 35/8 : loss = 0.1557089452607194\n",
      "Epoch 36/8 : loss = 0.08705504345568063\n",
      "Epoch 37/8 : loss = 0.18389825803165938\n",
      "Epoch 38/8 : loss = 0.41523838150560827\n",
      "Epoch 39/8 : loss = 0.32422234227809527\n",
      "Epoch 40/8 : loss = 0.34281096134454414\n",
      "Epoch 41/8 : loss = 0.16804089374632475\n",
      "Epoch 42/8 : loss = 0.2684174138860603\n",
      "Epoch 43/8 : loss = 0.372155980865831\n",
      "Epoch 44/8 : loss = 0.27465564604150305\n",
      "Epoch 45/8 : loss = 0.1625884879121276\n",
      "Epoch 46/8 : loss = 0.1656064159601692\n",
      "Epoch 47/8 : loss = 0.1228873228516107\n",
      "Epoch 48/8 : loss = 0.14690904434111857\n",
      "Epoch 49/8 : loss = 0.07667358533775669\n",
      "Epoch 8 : loss = 0.2171128343148789\n",
      "Epoch 0/9 : loss = 0.253030964620104\n",
      "Epoch 1/9 : loss = 0.2275179749014949\n",
      "Epoch 2/9 : loss = 0.22590786009728644\n",
      "Epoch 3/9 : loss = 0.21311196880428374\n",
      "Epoch 4/9 : loss = 0.35675076324123134\n",
      "Epoch 5/9 : loss = 0.35918516045489873\n",
      "Epoch 6/9 : loss = 0.416401956394148\n",
      "Epoch 7/9 : loss = 0.11022186622758831\n",
      "Epoch 8/9 : loss = 0.22670577880652715\n",
      "Epoch 9/9 : loss = 0.1722279573129392\n",
      "Epoch 10/9 : loss = 0.2282523813558838\n",
      "Epoch 11/9 : loss = 0.13481393773404796\n",
      "Epoch 12/9 : loss = 0.3576488011336151\n",
      "Epoch 13/9 : loss = 0.11740686439831012\n",
      "Epoch 14/9 : loss = 0.1989649932998555\n",
      "Epoch 15/9 : loss = 0.18920696859475725\n",
      "Epoch 16/9 : loss = 0.22763151668999723\n",
      "Epoch 17/9 : loss = 0.1473707415975527\n",
      "Epoch 18/9 : loss = 0.1741424555832057\n",
      "Epoch 19/9 : loss = 0.25346614864994454\n",
      "Epoch 20/9 : loss = 0.2527551313818718\n",
      "Epoch 21/9 : loss = 0.16092974563189563\n",
      "Epoch 22/9 : loss = 0.13397584141295263\n",
      "Epoch 23/9 : loss = 0.15526720387867343\n",
      "Epoch 24/9 : loss = 0.15599967045110696\n",
      "Epoch 25/9 : loss = 0.24448358851825963\n",
      "Epoch 26/9 : loss = 0.11067497071078185\n",
      "Epoch 27/9 : loss = 0.18927090770770189\n",
      "Epoch 28/9 : loss = 0.29633332450674305\n",
      "Epoch 29/9 : loss = 0.25878956136288017\n",
      "Epoch 30/9 : loss = 0.09095872097423312\n",
      "Epoch 31/9 : loss = 0.1548231707226782\n",
      "Epoch 32/9 : loss = 0.4333385738597964\n",
      "Epoch 33/9 : loss = 0.16074456222768163\n",
      "Epoch 34/9 : loss = 0.17603447738305208\n",
      "Epoch 35/9 : loss = 0.1530827496419707\n",
      "Epoch 36/9 : loss = 0.08406205466069515\n",
      "Epoch 37/9 : loss = 0.1808916989684165\n",
      "Epoch 38/9 : loss = 0.41929951568217405\n",
      "Epoch 39/9 : loss = 0.32111164475902776\n",
      "Epoch 40/9 : loss = 0.34247353171546435\n",
      "Epoch 41/9 : loss = 0.1653646881805082\n",
      "Epoch 42/9 : loss = 0.2668330944725345\n",
      "Epoch 43/9 : loss = 0.36700641637818393\n",
      "Epoch 44/9 : loss = 0.26835636195107365\n",
      "Epoch 45/9 : loss = 0.15940419176523118\n",
      "Epoch 46/9 : loss = 0.1614585389531344\n",
      "Epoch 47/9 : loss = 0.1169697581275203\n",
      "Epoch 48/9 : loss = 0.1411296740913075\n",
      "Epoch 49/9 : loss = 0.06998946356569405\n",
      "Epoch 9 : loss = 0.21369287130932604\n"
     ]
    }
   ],
   "source": [
    "model.fit(X, y)"
   ]
  },
  {
   "cell_type": "code",
   "execution_count": 10,
   "metadata": {
    "ExecuteTime": {
     "end_time": "2018-11-13T09:11:49.412755Z",
     "start_time": "2018-11-13T09:11:49.407253Z"
    }
   },
   "outputs": [
    {
     "data": {
      "text/plain": [
       "0.934"
      ]
     },
     "execution_count": 10,
     "metadata": {},
     "output_type": "execute_result"
    }
   ],
   "source": [
    "model.score(X, y)"
   ]
  },
  {
   "cell_type": "markdown",
   "metadata": {},
   "source": [
    "Task: predict iris flower species\n",
    "\n",
    "<img width=\"60%\" src=\"https://miro.medium.com/max/724/1*XN85Vu-SmkJc3TkwgTx5Kw.jpeg\">"
   ]
  },
  {
   "cell_type": "code",
   "execution_count": 29,
   "metadata": {
    "ExecuteTime": {
     "end_time": "2018-11-13T09:15:16.598608Z",
     "start_time": "2018-11-13T09:15:16.591811Z"
    }
   },
   "outputs": [
    {
     "data": {
      "text/html": [
       "<div>\n",
       "<style scoped>\n",
       "    .dataframe tbody tr th:only-of-type {\n",
       "        vertical-align: middle;\n",
       "    }\n",
       "\n",
       "    .dataframe tbody tr th {\n",
       "        vertical-align: top;\n",
       "    }\n",
       "\n",
       "    .dataframe thead th {\n",
       "        text-align: right;\n",
       "    }\n",
       "</style>\n",
       "<table border=\"1\" class=\"dataframe\">\n",
       "  <thead>\n",
       "    <tr style=\"text-align: right;\">\n",
       "      <th></th>\n",
       "      <th>sepal length (cm)</th>\n",
       "      <th>sepal width (cm)</th>\n",
       "      <th>petal length (cm)</th>\n",
       "      <th>petal width (cm)</th>\n",
       "    </tr>\n",
       "  </thead>\n",
       "  <tbody>\n",
       "    <tr>\n",
       "      <th>0</th>\n",
       "      <td>5.1</td>\n",
       "      <td>3.5</td>\n",
       "      <td>1.4</td>\n",
       "      <td>0.2</td>\n",
       "    </tr>\n",
       "    <tr>\n",
       "      <th>1</th>\n",
       "      <td>4.9</td>\n",
       "      <td>3.0</td>\n",
       "      <td>1.4</td>\n",
       "      <td>0.2</td>\n",
       "    </tr>\n",
       "    <tr>\n",
       "      <th>2</th>\n",
       "      <td>4.7</td>\n",
       "      <td>3.2</td>\n",
       "      <td>1.3</td>\n",
       "      <td>0.2</td>\n",
       "    </tr>\n",
       "    <tr>\n",
       "      <th>3</th>\n",
       "      <td>4.6</td>\n",
       "      <td>3.1</td>\n",
       "      <td>1.5</td>\n",
       "      <td>0.2</td>\n",
       "    </tr>\n",
       "    <tr>\n",
       "      <th>4</th>\n",
       "      <td>5.0</td>\n",
       "      <td>3.6</td>\n",
       "      <td>1.4</td>\n",
       "      <td>0.2</td>\n",
       "    </tr>\n",
       "  </tbody>\n",
       "</table>\n",
       "</div>"
      ],
      "text/plain": [
       "   sepal length (cm)  sepal width (cm)  petal length (cm)  petal width (cm)\n",
       "0                5.1               3.5                1.4               0.2\n",
       "1                4.9               3.0                1.4               0.2\n",
       "2                4.7               3.2                1.3               0.2\n",
       "3                4.6               3.1                1.5               0.2\n",
       "4                5.0               3.6                1.4               0.2"
      ]
     },
     "execution_count": 29,
     "metadata": {},
     "output_type": "execute_result"
    }
   ],
   "source": [
    "from  sklearn import datasets\n",
    "import numpy as np\n",
    "\n",
    "iris = datasets.load_iris()\n",
    "pd.DataFrame( iris.data, columns=iris.feature_names ).head()"
   ]
  },
  {
   "cell_type": "code",
   "execution_count": null,
   "metadata": {
    "ExecuteTime": {
     "end_time": "2018-11-13T09:15:16.598608Z",
     "start_time": "2018-11-13T09:15:16.591811Z"
    }
   },
   "outputs": [],
   "source": [
    "iris.DESCR"
   ]
  },
  {
   "cell_type": "code",
   "execution_count": 30,
   "metadata": {
    "ExecuteTime": {
     "end_time": "2018-11-13T09:15:16.598608Z",
     "start_time": "2018-11-13T09:15:16.591811Z"
    }
   },
   "outputs": [],
   "source": [
    "# sepal length and petal length\n",
    "X = iris.data[:100, [0,2]]"
   ]
  },
  {
   "cell_type": "code",
   "execution_count": 31,
   "metadata": {
    "ExecuteTime": {
     "end_time": "2018-11-13T09:15:16.598608Z",
     "start_time": "2018-11-13T09:15:16.591811Z"
    }
   },
   "outputs": [
    {
     "data": {
      "text/plain": [
       "array([0, 0, 0, 0, 0, 0, 0, 0, 0, 0, 0, 0, 0, 0, 0, 0, 0, 0, 0, 0, 0, 0,\n",
       "       0, 0, 0, 0, 0, 0, 0, 0, 0, 0, 0, 0, 0, 0, 0, 0, 0, 0, 0, 0, 0, 0,\n",
       "       0, 0, 0, 0, 0, 0, 1, 1, 1, 1, 1, 1, 1, 1, 1, 1, 1, 1, 1, 1, 1, 1,\n",
       "       1, 1, 1, 1, 1, 1, 1, 1, 1, 1, 1, 1, 1, 1, 1, 1, 1, 1, 1, 1, 1, 1,\n",
       "       1, 1, 1, 1, 1, 1, 1, 1, 1, 1, 1, 1])"
      ]
     },
     "execution_count": 31,
     "metadata": {},
     "output_type": "execute_result"
    }
   ],
   "source": [
    "# setosa and versicolor\n",
    "y = iris.target[:100]\n",
    "y[0:100]"
   ]
  },
  {
   "cell_type": "code",
   "execution_count": 32,
   "metadata": {
    "ExecuteTime": {
     "end_time": "2018-11-13T09:15:16.598608Z",
     "start_time": "2018-11-13T09:15:16.591811Z"
    }
   },
   "outputs": [],
   "source": [
    "#y = np.where(y == 1, 1, 0)\n",
    "m,n = X.shape\n",
    "y = np.reshape( y, (m,1) )"
   ]
  },
  {
   "cell_type": "code",
   "execution_count": 33,
   "metadata": {
    "ExecuteTime": {
     "end_time": "2018-11-13T09:15:16.856868Z",
     "start_time": "2018-11-13T09:15:16.850817Z"
    }
   },
   "outputs": [
    {
     "data": {
      "text/plain": [
       "((100, 2), (100, 1))"
      ]
     },
     "execution_count": 33,
     "metadata": {},
     "output_type": "execute_result"
    }
   ],
   "source": [
    "X.shape, y.shape"
   ]
  },
  {
   "cell_type": "code",
   "execution_count": 34,
   "metadata": {
    "ExecuteTime": {
     "end_time": "2018-11-13T09:15:17.180302Z",
     "start_time": "2018-11-13T09:15:17.131300Z"
    }
   },
   "outputs": [],
   "source": [
    "ppn = Perceptron(max_iter=10, eta0=0.1) # try with eta=0.05 and more epochs"
   ]
  },
  {
   "cell_type": "code",
   "execution_count": 35,
   "metadata": {
    "ExecuteTime": {
     "end_time": "2018-11-13T09:15:17.180302Z",
     "start_time": "2018-11-13T09:15:17.131300Z"
    }
   },
   "outputs": [
    {
     "name": "stdout",
     "output_type": "stream",
     "text": [
      "Epoch 0/0 : loss = 10.435005561849177\n",
      "Epoch 1/0 : loss = 7.613692508085019\n",
      "Epoch 2/0 : loss = 2.3222654633606585\n",
      "Epoch 3/0 : loss = 0.018469629236602395\n",
      "Epoch 4/0 : loss = 0.019793658940787558\n",
      "Epoch 0 : loss = 1.7747019567049827\n",
      "Epoch 0/1 : loss = 3.54706243186378\n",
      "Epoch 1/1 : loss = 1.1398853675810057\n",
      "Epoch 2/1 : loss = 1.2250838804351944\n",
      "Epoch 3/1 : loss = 0.670118678829873\n",
      "Epoch 4/1 : loss = 0.06596984687787882\n",
      "Epoch 1 : loss = 1.1910383905349735\n",
      "Epoch 0/2 : loss = 2.3379954140783457\n",
      "Epoch 1/2 : loss = 0.5429891322113332\n",
      "Epoch 2/2 : loss = 1.1143494375988323\n",
      "Epoch 3/2 : loss = 0.5721448692432748\n",
      "Epoch 4/2 : loss = 0.0713444572549949\n",
      "Epoch 2 : loss = 0.981626358980232\n",
      "Epoch 0/3 : loss = 1.907942730937911\n",
      "Epoch 1/3 : loss = 0.41781376056364194\n",
      "Epoch 2/3 : loss = 0.922733316924595\n",
      "Epoch 3/3 : loss = 0.4578204518020456\n",
      "Epoch 4/3 : loss = 0.07836043895986748\n",
      "Epoch 3 : loss = 0.8026765656027611\n",
      "Epoch 0/4 : loss = 1.5401319867799794\n",
      "Epoch 1/4 : loss = 0.34003181881597644\n",
      "Epoch 2/4 : loss = 0.7638176994216398\n",
      "Epoch 3/4 : loss = 0.3865063919591544\n",
      "Epoch 4/4 : loss = 0.08260170063918813\n",
      "Epoch 4 : loss = 0.6617810988690388\n",
      "Epoch 0/5 : loss = 1.2517540832613911\n",
      "Epoch 1/5 : loss = 0.29495288202942926\n",
      "Epoch 2/5 : loss = 0.6288184076619117\n",
      "Epoch 3/5 : loss = 0.34019357519226817\n",
      "Epoch 4/5 : loss = 0.08491619083959821\n",
      "Epoch 5 : loss = 0.5506196962473944\n",
      "Epoch 0/6 : loss = 1.0254229249979592\n",
      "Epoch 1/6 : loss = 0.2672493706501215\n",
      "Epoch 2/6 : loss = 0.516716062598149\n",
      "Epoch 3/6 : loss = 0.3090926091307994\n",
      "Epoch 4/6 : loss = 0.08609083547586369\n",
      "Epoch 6 : loss = 0.46278202440721733\n",
      "Epoch 0/7 : loss = 0.8476018177358178\n",
      "Epoch 1/7 : loss = 0.2486067053070724\n",
      "Epoch 2/7 : loss = 0.42654286439048833\n",
      "Epoch 3/7 : loss = 0.28634679684336783\n",
      "Epoch 4/7 : loss = 0.0866576007841174\n",
      "Epoch 7 : loss = 0.3932355104522452\n",
      "Epoch 0/8 : loss = 0.7076295253335194\n",
      "Epoch 1/8 : loss = 0.23449094975092186\n",
      "Epoch 2/8 : loss = 0.35597467558023554\n",
      "Epoch 3/8 : loss = 0.26746204982452126\n",
      "Epoch 4/8 : loss = 0.0868593618644041\n",
      "Epoch 8 : loss = 0.33804346068258356\n",
      "Epoch 0/9 : loss = 0.5972017598394299\n",
      "Epoch 1/9 : loss = 0.222532472164951\n",
      "Epoch 2/9 : loss = 0.3016191282644741\n",
      "Epoch 3/9 : loss = 0.25009317798165176\n",
      "Epoch 4/9 : loss = 0.08675740885246958\n",
      "Epoch 9 : loss = 0.2940924243418099\n"
     ]
    }
   ],
   "source": [
    "ppn.fit(X, y)"
   ]
  },
  {
   "cell_type": "code",
   "execution_count": 36,
   "metadata": {},
   "outputs": [
    {
     "data": {
      "text/plain": [
       "0.98"
      ]
     },
     "execution_count": 36,
     "metadata": {},
     "output_type": "execute_result"
    }
   ],
   "source": [
    "ppn.score(X,y)"
   ]
  }
 ],
 "metadata": {
  "kernelspec": {
   "display_name": "Python 3 (ipykernel)",
   "language": "python",
   "name": "python3"
  },
  "language_info": {
   "codemirror_mode": {
    "name": "ipython",
    "version": 3
   },
   "file_extension": ".py",
   "mimetype": "text/x-python",
   "name": "python",
   "nbconvert_exporter": "python",
   "pygments_lexer": "ipython3",
   "version": "3.9.13"
  },
  "latex_envs": {
   "LaTeX_envs_menu_present": true,
   "autoclose": false,
   "autocomplete": true,
   "bibliofile": "biblio.bib",
   "cite_by": "apalike",
   "current_citInitial": 1,
   "eqLabelWithNumbers": true,
   "eqNumInitial": 1,
   "hotkeys": {
    "equation": "Ctrl-E",
    "itemize": "Ctrl-I"
   },
   "labels_anchors": false,
   "latex_user_defs": false,
   "report_style_numbering": false,
   "user_envs_cfg": false
  },
  "toc": {
   "nav_menu": {},
   "number_sections": true,
   "sideBar": true,
   "skip_h1_title": false,
   "title_cell": "Table of Contents",
   "title_sidebar": "Contents",
   "toc_cell": false,
   "toc_position": {
    "height": "calc(100% - 180px)",
    "left": "10px",
    "top": "150px",
    "width": "288px"
   },
   "toc_section_display": true,
   "toc_window_display": true
  }
 },
 "nbformat": 4,
 "nbformat_minor": 2
}
